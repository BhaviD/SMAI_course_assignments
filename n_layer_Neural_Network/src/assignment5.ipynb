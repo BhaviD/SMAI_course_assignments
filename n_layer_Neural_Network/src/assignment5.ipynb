{
 "cells": [
  {
   "cell_type": "code",
   "execution_count": 1,
   "metadata": {
    "colab": {
     "base_uri": "https://localhost:8080/",
     "height": 121
    },
    "colab_type": "code",
    "executionInfo": {
     "elapsed": 30036,
     "status": "ok",
     "timestamp": 1552997356462,
     "user": {
      "displayName": "Bhavi Dhingra",
      "photoUrl": "https://lh4.googleusercontent.com/-K94pDlN0U-s/AAAAAAAAAAI/AAAAAAAAAAg/eV8TN3QrXTw/s64/photo.jpg",
      "userId": "04780839031653301171"
     },
     "user_tz": -330
    },
    "id": "WIjNdIK2PDb7",
    "outputId": "f1cd5d5b-6277-4e9c-b336-e73b7fe04db4"
   },
   "outputs": [
    {
     "name": "stdout",
     "output_type": "stream",
     "text": [
      "Go to this URL in a browser: https://accounts.google.com/o/oauth2/auth?client_id=947318989803-6bn6qk8qdgf4n4g3pfee6491hc0brc4i.apps.googleusercontent.com&redirect_uri=urn%3Aietf%3Awg%3Aoauth%3A2.0%3Aoob&scope=email%20https%3A%2F%2Fwww.googleapis.com%2Fauth%2Fdocs.test%20https%3A%2F%2Fwww.googleapis.com%2Fauth%2Fdrive%20https%3A%2F%2Fwww.googleapis.com%2Fauth%2Fdrive.photos.readonly%20https%3A%2F%2Fwww.googleapis.com%2Fauth%2Fpeopleapi.readonly&response_type=code\n",
      "\n",
      "Enter your authorization code:\n",
      "··········\n",
      "Mounted at /content/gdrive\n"
     ]
    }
   ],
   "source": [
    "from google.colab import drive\n",
    "drive.mount('/content/gdrive')"
   ]
  },
  {
   "cell_type": "code",
   "execution_count": 3,
   "metadata": {
    "colab": {
     "base_uri": "https://localhost:8080/",
     "height": 390
    },
    "colab_type": "code",
    "executionInfo": {
     "elapsed": 11006,
     "status": "ok",
     "timestamp": 1552997374651,
     "user": {
      "displayName": "Bhavi Dhingra",
      "photoUrl": "https://lh4.googleusercontent.com/-K94pDlN0U-s/AAAAAAAAAAI/AAAAAAAAAAg/eV8TN3QrXTw/s64/photo.jpg",
      "userId": "04780839031653301171"
     },
     "user_tz": -330
    },
    "id": "sizp2jARSD5v",
    "outputId": "5a9fd92b-7799-4f26-c8e2-97e896c7f574"
   },
   "outputs": [
    {
     "name": "stdout",
     "output_type": "stream",
     "text": [
      "Collecting ipdb\n",
      "  Downloading https://files.pythonhosted.org/packages/80/fe/4564de08f174f3846364b3add8426d14cebee228f741c27e702b2877e85b/ipdb-0.11.tar.gz\n",
      "Requirement already satisfied: setuptools in /usr/local/lib/python3.6/dist-packages (from ipdb) (40.8.0)\n",
      "Requirement already satisfied: ipython>=5.0.0 in /usr/local/lib/python3.6/dist-packages (from ipdb) (5.5.0)\n",
      "Requirement already satisfied: pickleshare in /usr/local/lib/python3.6/dist-packages (from ipython>=5.0.0->ipdb) (0.7.5)\n",
      "Requirement already satisfied: traitlets>=4.2 in /usr/local/lib/python3.6/dist-packages (from ipython>=5.0.0->ipdb) (4.3.2)\n",
      "Requirement already satisfied: prompt-toolkit<2.0.0,>=1.0.4 in /usr/local/lib/python3.6/dist-packages (from ipython>=5.0.0->ipdb) (1.0.15)\n",
      "Requirement already satisfied: pygments in /usr/local/lib/python3.6/dist-packages (from ipython>=5.0.0->ipdb) (2.1.3)\n",
      "Requirement already satisfied: simplegeneric>0.8 in /usr/local/lib/python3.6/dist-packages (from ipython>=5.0.0->ipdb) (0.8.1)\n",
      "Requirement already satisfied: decorator in /usr/local/lib/python3.6/dist-packages (from ipython>=5.0.0->ipdb) (4.3.2)\n",
      "Requirement already satisfied: pexpect; sys_platform != \"win32\" in /usr/local/lib/python3.6/dist-packages (from ipython>=5.0.0->ipdb) (4.6.0)\n",
      "Requirement already satisfied: ipython-genutils in /usr/local/lib/python3.6/dist-packages (from traitlets>=4.2->ipython>=5.0.0->ipdb) (0.2.0)\n",
      "Requirement already satisfied: six in /usr/local/lib/python3.6/dist-packages (from traitlets>=4.2->ipython>=5.0.0->ipdb) (1.11.0)\n",
      "Requirement already satisfied: wcwidth in /usr/local/lib/python3.6/dist-packages (from prompt-toolkit<2.0.0,>=1.0.4->ipython>=5.0.0->ipdb) (0.1.7)\n",
      "Requirement already satisfied: ptyprocess>=0.5 in /usr/local/lib/python3.6/dist-packages (from pexpect; sys_platform != \"win32\"->ipython>=5.0.0->ipdb) (0.6.0)\n",
      "Building wheels for collected packages: ipdb\n",
      "  Building wheel for ipdb (setup.py) ... \u001b[?25ldone\n",
      "\u001b[?25h  Stored in directory: /root/.cache/pip/wheels/a8/0e/e2/ffc7bedd430bfd12e9dba3c4dd88906bc42962face85bc4df7\n",
      "Successfully built ipdb\n",
      "Installing collected packages: ipdb\n",
      "Successfully installed ipdb-0.11\n"
     ]
    }
   ],
   "source": [
    "!pip install ipdb"
   ]
  },
  {
   "cell_type": "code",
   "execution_count": 0,
   "metadata": {
    "colab": {},
    "colab_type": "code",
    "id": "y4BBxOHaQHtD"
   },
   "outputs": [],
   "source": [
    "import numpy as np\n",
    "import pandas as pd\n",
    "import ipdb\n",
    "import pprint\n",
    "import sys\n",
    "import matplotlib.pyplot as plt\n",
    "import math\n",
    "import operator\n",
    "import csv\n",
    "from copy import deepcopy\n",
    "from tabulate import tabulate\n",
    "\n",
    "eps = np.finfo(float).eps\n",
    "from numpy import log2 as log"
   ]
  },
  {
   "cell_type": "code",
   "execution_count": 0,
   "metadata": {
    "colab": {},
    "colab_type": "code",
    "id": "2etZdyyoRXsi"
   },
   "outputs": [],
   "source": [
    "def standardize_data(X):\n",
    "    return (X - X.mean())/X.std()"
   ]
  },
  {
   "cell_type": "code",
   "execution_count": 0,
   "metadata": {
    "colab": {},
    "colab_type": "code",
    "id": "xX6nf1uH8G2O"
   },
   "outputs": [],
   "source": [
    "root_path = \"/content/gdrive/My Drive/Semester_#2/CSE471_SM_in_AI/Assignments/5/2018201058_assignment5\""
   ]
  },
  {
   "cell_type": "code",
   "execution_count": 0,
   "metadata": {
    "colab": {},
    "colab_type": "code",
    "id": "dTxhapbrSMYE"
   },
   "outputs": [],
   "source": [
    "data = pd.read_csv(root_path + \"/input_data/Apparel/apparel-trainval.csv\")"
   ]
  },
  {
   "cell_type": "code",
   "execution_count": 0,
   "metadata": {
    "colab": {},
    "colab_type": "code",
    "id": "qoqqXm6-iwUr"
   },
   "outputs": [],
   "source": [
    "test_data = pd.read_csv(root_path + \"/input_data/Apparel/apparel-test.csv\")"
   ]
  },
  {
   "cell_type": "code",
   "execution_count": 0,
   "metadata": {
    "colab": {},
    "colab_type": "code",
    "id": "lKxcdd-aSTZw"
   },
   "outputs": [],
   "source": [
    "# removing the output column\n",
    "data_std = standardize_data(data.iloc[:, 1:])\n",
    "# data_std = data.iloc[:, 1:]\n",
    "data_std[[\"label\"]] = data[[\"label\"]]\n",
    "\n",
    "# msk = np.random.rand(len(data)) < 0.8\n",
    "# train = X_std[msk].reset_index (drop=True)\n",
    "# validate = X_std[~msk].reset_index (drop=True)\n",
    "\n",
    "# Selecting first 80% as Training Data and remaining as Validation Data\n",
    "train, validate = np.split(data_std, [int(.8*len(data_std))])\n",
    "validate = validate.reset_index(drop=True)"
   ]
  },
  {
   "cell_type": "code",
   "execution_count": 0,
   "metadata": {
    "colab": {},
    "colab_type": "code",
    "id": "L4rYPyk1SbT_"
   },
   "outputs": [],
   "source": [
    "def one_hot_encoding_get(df):\n",
    "    labels = list(range(10))\n",
    "    labels.extend(list(df[\"label\"]))\n",
    "\n",
    "    s = pd.Series(labels)\n",
    "    one_hot_encoding = pd.get_dummies(s).values\n",
    "    return one_hot_encoding[10:, :]\n",
    "\n",
    "validate_y = one_hot_encoding_get(validate)"
   ]
  },
  {
   "cell_type": "code",
   "execution_count": 0,
   "metadata": {
    "colab": {},
    "colab_type": "code",
    "id": "_0V5_ebkTx5O"
   },
   "outputs": [],
   "source": [
    "def intercept_add(X):\n",
    "    intercept = np.ones((X.shape[0], 1))\n",
    "    return np.concatenate((intercept, X), axis=1)"
   ]
  },
  {
   "cell_type": "code",
   "execution_count": 0,
   "metadata": {
    "colab": {},
    "colab_type": "code",
    "id": "LD4oWvLUSvfj"
   },
   "outputs": [],
   "source": [
    "def softmax_(x):\n",
    "    \"\"\"Compute the softmax of vector x.\"\"\"\n",
    "    # Removing the first column as it is all 1s\n",
    "    x = x[:, 1:]\n",
    "#     ipdb.set_trace()\n",
    "    exps = np.exp(x)\n",
    "    smax = exps / np.array([np.sum(exps, axis=1)]).T\n",
    "#     return exps / np.array([np.sum(exps, axis=1)]).T\n",
    "    return smax"
   ]
  },
  {
   "cell_type": "code",
   "execution_count": 0,
   "metadata": {
    "colab": {},
    "colab_type": "code",
    "id": "esCkiIImLRsE"
   },
   "outputs": [],
   "source": [
    "# Activation Functions\n",
    "def sigmoid(x):\n",
    "    return 1 / (1 + np.exp(-x))\n",
    "\n",
    "def relu(x):\n",
    "    return np.maximum(0, x)\n",
    "\n",
    "def tanh(x):\n",
    "    return np.tanh(x)\n",
    "\n",
    "def stable_softmax(x):\n",
    "    \"\"\"Compute the softmax of vector x in a numerically stable way.\"\"\"\n",
    "    shift_x = x - np.array([np.max(x, axis=1)]).T\n",
    "    exps = np.exp(shift_x)\n",
    "    return exps / np.array([np.sum(exps, axis=1)]).T"
   ]
  },
  {
   "cell_type": "code",
   "execution_count": 0,
   "metadata": {
    "colab": {},
    "colab_type": "code",
    "id": "cMBy0AzsHb3s"
   },
   "outputs": [],
   "source": [
    "# Derivative Functions\n",
    "def sigmoid_derivative(x):\n",
    "    return x * (1 - x)\n",
    "\n",
    "def relu_derivative(x):\n",
    "    return 1. * (x > 0)\n",
    "\n",
    "def tanh_derivative(x):\n",
    "    return (1 - (x ** 2))"
   ]
  },
  {
   "cell_type": "code",
   "execution_count": 0,
   "metadata": {
    "colab": {},
    "colab_type": "code",
    "id": "it1Gp7Ww-SQx"
   },
   "outputs": [],
   "source": [
    "def cross_entropy_get(predictions, targets, epsilon=1e-12):\n",
    "    \"\"\"\n",
    "    Computes cross entropy between targets (encoded as one-hot vectors)\n",
    "    and predictions. \n",
    "    Input: predictions (N, k) ndarray\n",
    "           targets (N, k) ndarray        \n",
    "    Returns: scalar\n",
    "    \"\"\"\n",
    "    predictions = np.clip(predictions, epsilon, 1. - epsilon)\n",
    "    N = predictions.shape[0]\n",
    "    ce = -np.sum(targets * np.log(predictions + 1e-9))/N\n",
    "    return ce"
   ]
  },
  {
   "cell_type": "code",
   "execution_count": 0,
   "metadata": {
    "colab": {},
    "colab_type": "code",
    "id": "7doypTZPT3-K"
   },
   "outputs": [],
   "source": [
    "class NeuralNetwork:\n",
    "    def __init__(self, num_neurons_list, actn_func = \"sigmoid\", lr = 0.1, wts = None):\n",
    "        # initialize HyperParameters\n",
    "        self.num_neurons_list = deepcopy(num_neurons_list)\n",
    "        self.num_layers = len(self.num_neurons_list)\n",
    "        for i in range(self.num_layers-1):\n",
    "            self.num_neurons_list[i] += 1\n",
    "\n",
    "        self.num_hidden_layers = self.num_layers - 2\n",
    "        self.activation_func = actn_func\n",
    "        self.lr = lr\n",
    "        \n",
    "        self.cross_entropies = []\n",
    "        \n",
    "        if wts is None:\n",
    "            self.weights = []\n",
    "            self.d_weights = []\n",
    "\n",
    "            for i in range(self.num_layers-1):\n",
    "                bound = np.sqrt(1./(self.num_neurons_list[i]))\n",
    "                self.weights.append(np.random.uniform(-bound, bound, (self.num_neurons_list[i], self.num_neurons_list[i+1])))\n",
    "                self.d_weights.append(np.zeros((self.num_neurons_list[i], self.num_neurons_list[i+1])))\n",
    "        else:\n",
    "            for i in range(len(wts)):\n",
    "                if (self.num_neurons_list[i] != wts[i].shape[0]) or (self.num_neurons_list[i + 1] != wts[i].shape[1]):\n",
    "                    print (\"Weights provided have invalid dimensions!!\")\n",
    "                    sys.exit(-1)\n",
    "                    \n",
    "            self.weights = wts\n",
    "\n",
    "\n",
    "    def forward_prop(self, X):\n",
    "#         ipdb.set_trace()\n",
    "        self.L_out = []\n",
    "\n",
    "        X = intercept_add(X)\n",
    "        self.L_out.append(X)\n",
    "        prev_out = None\n",
    "\n",
    "        for l in range(1, len(self.num_neurons_list)):\n",
    "            prev_out = self.L_out[-1]\n",
    "            curr_in = prev_out @ self.weights[l-1]\n",
    "  \n",
    "            if l == (len(self.num_neurons_list) - 1):\n",
    "                curr_out = stable_softmax(curr_in)\n",
    "\n",
    "            else:\n",
    "                if self.activation_func == \"sigmoid\":\n",
    "                    curr_out = sigmoid(curr_in)\n",
    "                elif self.activation_func == \"relu\":\n",
    "                    curr_out = relu(curr_in)\n",
    "                elif self.activation_func == \"tanh\":\n",
    "                    curr_out = tanh(curr_in)\n",
    "                else:\n",
    "                    print (\"Invalid Activation Function!!\")\n",
    "                    sys.exit(-1)\n",
    "                \n",
    "            self.L_out.append(curr_out)\n",
    "\n",
    "\n",
    "    def backward_prop(self, y):\n",
    "#         ipdb.set_trace()\n",
    "        self.d_weights[-1] = np.dot(self.L_out[-2].T, (2*(y - self.L_out[-1]) * sigmoid_derivative(self.L_out[-1])))\n",
    "\n",
    "        for i in reversed(range(self.num_layers-2)):\n",
    "            temp = None\n",
    "            if self.activation_func == \"sigmoid\":\n",
    "                  temp = sigmoid_derivative(self.L_out[i+1])\n",
    "            elif self.activation_func == \"relu\":\n",
    "                temp = relu_derivative(self.L_out[i+1])\n",
    "            elif self.activation_func == \"tanh\":\n",
    "                temp = tanh_derivative(self.L_out[i+1])\n",
    "            else:\n",
    "                print (\"Invalid Activation Function!!\")\n",
    "                sys.exit(-1)\n",
    "\n",
    "            self.d_weights[i] = np.dot(self.L_out[i].T,  (np.dot(2*(y - self.L_out[-1]) * sigmoid_derivative(self.L_out[-1]), self.weights[-1].T) * temp))\n",
    "\n",
    "        for i in range(self.num_layers-1):\n",
    "            self.weights[i] += (self.lr * self.d_weights[i])\n",
    "\n",
    "\n",
    "    def fit(self, train_df, batch_size, num_epochs):\n",
    "        n = len(train_df.index)\n",
    "        train_y = one_hot_encoding_get(train_df)\n",
    "        train_x = train_df.iloc[:, :-1].values\n",
    "        for n_epoch in range(num_epochs):\n",
    "            epoch_cost = 0.0\n",
    "            s, e = 0, batch_size\n",
    "            num_mini_bactches = 0\n",
    "            while (s < n):\n",
    "                num_mini_bactches += 1\n",
    "                \n",
    "                e = min(n, s + batch_size)\n",
    "\n",
    "#                 ipdb.set_trace()\n",
    "                self.forward_prop(train_x[s:e, :])\n",
    "                self.backward_prop(train_y[s:e, :])\n",
    "\n",
    "                minibatch_cost = cross_entropy_get(self.L_out[-1], train_y[s:e, :])\n",
    "                epoch_cost += minibatch_cost\n",
    "\n",
    "                s = e\n",
    "\n",
    "            epoch_cost = epoch_cost / num_mini_bactches\n",
    "            self.cross_entropies.append(epoch_cost)\n",
    "\n",
    "            if n_epoch % 50 == 0:\n",
    "                print (\"No. of Epochs:\", n_epoch, \"CrossEntropy:\", epoch_cost)\n",
    "\n",
    "\n",
    "    def predictions_get(self, data_df):\n",
    "        self.forward_prop(data_df.values)\n",
    "        return self.L_out[-1].argmax(axis=1)\n",
    "\n",
    "    def accuracy_get(self, validate_df):\n",
    "        predictions = self.predictions_get(validate_df.iloc[:, :-1])\n",
    "        accuracy = 100 * np.mean(predictions == validate_df[\"label\"])\n",
    "        return round(accuracy, 2)"
   ]
  },
  {
   "cell_type": "code",
   "execution_count": 0,
   "metadata": {
    "colab": {},
    "colab_type": "code",
    "id": "kZjBLLftl-a_"
   },
   "outputs": [],
   "source": [
    "def error_graph_plot(errors, num_epochs):\n",
    "    fig, ax = plt.subplots(figsize=(12,6))\n",
    "    ax.plot(list(range(num_epochs)), errors, color=\"red\", lw=1, ls='-');\n",
    "    plt.xlabel(\"Number of Epochs\")\n",
    "    plt.ylabel(\"Cross Entropy\")\n",
    "    plt.title(\"Error vs Number of Epochs\")\n",
    "    plt.show()"
   ]
  },
  {
   "cell_type": "markdown",
   "metadata": {
    "colab_type": "text",
    "id": "Xy0h17t5V9RP"
   },
   "source": [
    "**Activation Function:** Sigmoid"
   ]
  },
  {
   "cell_type": "code",
   "execution_count": 0,
   "metadata": {
    "colab": {
     "base_uri": "https://localhost:8080/",
     "height": 185
    },
    "colab_type": "code",
    "id": "fUDqE1N7R-yl",
    "outputId": "51ae6781-aca8-4ad4-cc68-101bf61d4c08"
   },
   "outputs": [
    {
     "name": "stdout",
     "output_type": "stream",
     "text": [
      "No. of Epochs: 0 CrossEntropy: 1.1609644345019143\n",
      "No. of Epochs: 50 CrossEntropy: 0.3079844597591827\n",
      "No. of Epochs: 100 CrossEntropy: 0.2567220729073486\n",
      "No. of Epochs: 150 CrossEntropy: 0.22590743668134908\n",
      "No. of Epochs: 200 CrossEntropy: 0.20615520545918778\n",
      "No. of Epochs: 250 CrossEntropy: 0.19227382410967217\n",
      "No. of Epochs: 300 CrossEntropy: 0.18258153279463904\n",
      "No. of Epochs: 350 CrossEntropy: 0.17448554887514\n",
      "No. of Epochs: 400 CrossEntropy: 0.16774402044985373\n",
      "No. of Epochs: 450 CrossEntropy: 0.16265976511331898\n"
     ]
    }
   ],
   "source": [
    "NN_sigmoid = NeuralNetwork([784, 100, 10], \"sigmoid\", 0.001)\n",
    "NN_sigmoid.fit(train, 500, 500)"
   ]
  },
  {
   "cell_type": "code",
   "execution_count": 0,
   "metadata": {
    "colab": {
     "base_uri": "https://localhost:8080/",
     "height": 34
    },
    "colab_type": "code",
    "id": "lbRa8pBlhGI6",
    "outputId": "612dc309-e57a-4fa0-f172-1f83eb5579c5"
   },
   "outputs": [
    {
     "name": "stdout",
     "output_type": "stream",
     "text": [
      "Sigmoid Training accuracy: 85.91 %\n"
     ]
    }
   ],
   "source": [
    "sigm_1l_100_001_acc = NN_sigmoid.accuracy_get(validate)\n",
    "print(\"Sigmoid Training accuracy:\", sigm_1l_100_001_acc, \"%\")"
   ]
  },
  {
   "cell_type": "code",
   "execution_count": 0,
   "metadata": {
    "colab": {
     "base_uri": "https://localhost:8080/",
     "height": 403
    },
    "colab_type": "code",
    "id": "DFXgWKx7ltGE",
    "outputId": "f0fb2c3b-4d8b-478e-9017-ff099ea12137"
   },
   "outputs": [
    {
     "data": {
      "image/png": "[encoded data removed]",
      "text/plain": [
       "<Figure size 864x432 with 1 Axes>"
      ]
     },
     "metadata": {
      "tags": []
     },
     "output_type": "display_data"
    }
   ],
   "source": [
    "sigm_1l_100_001_errors = NN_sigmoid.cross_entropies\n",
    "error_graph_plot(sigm_1l_100_001_errors, 500)"
   ]
  },
  {
   "cell_type": "code",
   "execution_count": 0,
   "metadata": {
    "colab": {
     "base_uri": "https://localhost:8080/",
     "height": 185
    },
    "colab_type": "code",
    "id": "_6bMzb-VnX7l",
    "outputId": "4d5b75eb-3825-40ff-cce5-cafde0739510"
   },
   "outputs": [
    {
     "name": "stdout",
     "output_type": "stream",
     "text": [
      "No. of Epochs: 0 CrossEntropy: 2.2049578696588217\n",
      "No. of Epochs: 50 CrossEntropy: 2.3152262701778814\n",
      "No. of Epochs: 100 CrossEntropy: 0.32902793662876245\n",
      "No. of Epochs: 150 CrossEntropy: 0.28329157190209425\n",
      "No. of Epochs: 200 CrossEntropy: 0.25449894065233397\n",
      "No. of Epochs: 250 CrossEntropy: 0.23407993029412258\n",
      "No. of Epochs: 300 CrossEntropy: 0.2180630281694392\n",
      "No. of Epochs: 350 CrossEntropy: 0.2062803470659984\n",
      "No. of Epochs: 400 CrossEntropy: 0.19689913592284433\n",
      "No. of Epochs: 450 CrossEntropy: 0.1894445458446401\n"
     ]
    }
   ],
   "source": [
    "NN_sigmoid2 = NeuralNetwork([784, 100, 100, 10], \"sigmoid\", 0.001)\n",
    "NN_sigmoid2.fit(train, 500, 500)"
   ]
  },
  {
   "cell_type": "code",
   "execution_count": 0,
   "metadata": {
    "colab": {
     "base_uri": "https://localhost:8080/",
     "height": 34
    },
    "colab_type": "code",
    "id": "eN84cRgQqcHQ",
    "outputId": "7846e756-5d81-4345-cbf9-0076a1b0a76f"
   },
   "outputs": [
    {
     "name": "stdout",
     "output_type": "stream",
     "text": [
      "Sigmoid Training accuracy: 85.84 %\n"
     ]
    }
   ],
   "source": [
    "sigm_2l_100_001_acc = NN_sigmoid2.accuracy_get(validate)\n",
    "print(\"Sigmoid Training accuracy:\", sigm_2l_100_001_acc, \"%\")"
   ]
  },
  {
   "cell_type": "code",
   "execution_count": 0,
   "metadata": {
    "colab": {
     "base_uri": "https://localhost:8080/",
     "height": 403
    },
    "colab_type": "code",
    "id": "zlIkcJdzq0wg",
    "outputId": "4987cbe8-d48d-4df2-988e-404a7bcb2cf8"
   },
   "outputs": [
    {
     "data": {
      "image/png": "[encoded data removed]",
      "text/plain": [
       "<Figure size 864x432 with 1 Axes>"
      ]
     },
     "metadata": {
      "tags": []
     },
     "output_type": "display_data"
    }
   ],
   "source": [
    "sigm_2l_100_001_errors = NN_sigmoid2.cross_entropies\n",
    "error_graph_plot(sigm_2l_100_001_errors, len(sigm_2l_100_001_errors))"
   ]
  },
  {
   "cell_type": "code",
   "execution_count": 0,
   "metadata": {
    "colab": {
     "base_uri": "https://localhost:8080/",
     "height": 185
    },
    "colab_type": "code",
    "id": "oxAN_x9orArR",
    "outputId": "41517d41-1517-4c81-ecda-51efefe19c5b"
   },
   "outputs": [
    {
     "name": "stdout",
     "output_type": "stream",
     "text": [
      "No. of Epochs: 0 CrossEntropy: 2.303773576193766\n",
      "No. of Epochs: 50 CrossEntropy: 1.3088603891129929\n",
      "No. of Epochs: 100 CrossEntropy: 1.3694817672336024\n",
      "No. of Epochs: 150 CrossEntropy: 1.2999004691185154\n",
      "No. of Epochs: 200 CrossEntropy: 1.1459946561878873\n",
      "No. of Epochs: 250 CrossEntropy: 0.9645288636353272\n",
      "No. of Epochs: 300 CrossEntropy: 0.9319648998441403\n",
      "No. of Epochs: 350 CrossEntropy: 0.8010336994917102\n",
      "No. of Epochs: 400 CrossEntropy: 0.6914634283303752\n",
      "No. of Epochs: 450 CrossEntropy: 0.6276381516555141\n"
     ]
    }
   ],
   "source": [
    "NN_sigmoid3 = NeuralNetwork([784, 100, 100, 100, 10], \"sigmoid\", 0.001)\n",
    "NN_sigmoid3.fit(train, 500, 500)"
   ]
  },
  {
   "cell_type": "code",
   "execution_count": 0,
   "metadata": {
    "colab": {
     "base_uri": "https://localhost:8080/",
     "height": 34
    },
    "colab_type": "code",
    "id": "NA5_oRG_vYtZ",
    "outputId": "047d58ad-cf99-4fbb-d5ea-1efee143e79b"
   },
   "outputs": [
    {
     "name": "stdout",
     "output_type": "stream",
     "text": [
      "Sigmoid Training accuracy: 77.55 %\n"
     ]
    }
   ],
   "source": [
    "sigm_3l_100_001_acc = NN_sigmoid3.accuracy_get(validate)\n",
    "print(\"Sigmoid Training accuracy:\", sigm_3l_100_001_acc, \"%\")"
   ]
  },
  {
   "cell_type": "code",
   "execution_count": 0,
   "metadata": {
    "colab": {
     "base_uri": "https://localhost:8080/",
     "height": 403
    },
    "colab_type": "code",
    "id": "p25Ufqk8vqJr",
    "outputId": "0894c786-a620-41b6-8252-76a6e2a7d3a1"
   },
   "outputs": [
    {
     "data": {
      "image/png": "[encoded data removed]",
      "text/plain": [
       "<Figure size 864x432 with 1 Axes>"
      ]
     },
     "metadata": {
      "tags": []
     },
     "output_type": "display_data"
    }
   ],
   "source": [
    "sigm_3l_100_001_errors = NN_sigmoid3.cross_entropies\n",
    "error_graph_plot(sigm_3l_100_001_errors, len(sigm_3l_100_001_errors))"
   ]
  },
  {
   "cell_type": "code",
   "execution_count": 0,
   "metadata": {
    "colab": {
     "base_uri": "https://localhost:8080/",
     "height": 403
    },
    "colab_type": "code",
    "id": "wkgw4wXf5xuD",
    "outputId": "39380729-657c-4600-efc3-c97e4f0d47f4"
   },
   "outputs": [
    {
     "data": {
      "image/png": "[encoded data removed]",
      "text/plain": [
       "<Figure size 864x432 with 1 Axes>"
      ]
     },
     "metadata": {
      "tags": []
     },
     "output_type": "display_data"
    }
   ],
   "source": [
    "fig, ax = plt.subplots(figsize=(12,6))\n",
    "ax.plot(list(range(len(sigm_1l_100_001_errors))), sigm_1l_100_001_errors, color=\"purple\", lw=1, ls='-', label=\"1 Layer\")\n",
    "ax.plot(list(range(len(sigm_2l_100_001_errors))), sigm_2l_100_001_errors, color=\"green\", lw=1, ls='-', label=\"2 Layers\")\n",
    "ax.plot(list(range(len(sigm_3l_100_001_errors))), sigm_3l_100_001_errors, color=\"yellow\", lw=1, ls='-', label=\"3 Layers\")\n",
    "plt.xlabel(\"Number of Epochs\")\n",
    "plt.ylabel(\"Cross Entropy\")\n",
    "plt.title(\"Affect of Number of Layers on Prediction Loss \")\n",
    "plt.legend()\n",
    "plt.show()"
   ]
  },
  {
   "cell_type": "code",
   "execution_count": 0,
   "metadata": {
    "colab": {
     "base_uri": "https://localhost:8080/",
     "height": 548
    },
    "colab_type": "code",
    "id": "j8JWBGXGv5JR",
    "outputId": "6a4ffecd-67a1-4a20-a5c4-c5664f032491"
   },
   "outputs": [
    {
     "name": "stdout",
     "output_type": "stream",
     "text": [
      "No. of Epochs: 0 CrossEntropy: 0.6766806148694834\n",
      "No. of Epochs: 50 CrossEntropy: 0.19476941522902835\n",
      "No. of Epochs: 100 CrossEntropy: 0.14025445870261236\n",
      "No. of Epochs: 150 CrossEntropy: 0.12010528810545205\n",
      "No. of Epochs: 200 CrossEntropy: 0.11790135906572569\n",
      "No. of Epochs: 250 CrossEntropy: 0.1504380341584187\n",
      "No. of Epochs: 300 CrossEntropy: 0.11367416698795312\n",
      "No. of Epochs: 350 CrossEntropy: 0.09407262487296085\n"
     ]
    },
    {
     "ename": "KeyboardInterrupt",
     "evalue": "ignored",
     "output_type": "error",
     "traceback": [
      "\u001b[0;31m---------------------------------------------------------------------------\u001b[0m",
      "\u001b[0;31mKeyboardInterrupt\u001b[0m                         Traceback (most recent call last)",
      "\u001b[0;32m<ipython-input-33-f28cb554da20>\u001b[0m in \u001b[0;36m<module>\u001b[0;34m()\u001b[0m\n\u001b[1;32m      1\u001b[0m \u001b[0mNN_relu1\u001b[0m \u001b[0;34m=\u001b[0m \u001b[0mNeuralNetwork\u001b[0m\u001b[0;34m(\u001b[0m\u001b[0;34m[\u001b[0m\u001b[0;36m784\u001b[0m\u001b[0;34m,\u001b[0m \u001b[0;36m100\u001b[0m\u001b[0;34m,\u001b[0m \u001b[0;36m10\u001b[0m\u001b[0;34m]\u001b[0m\u001b[0;34m,\u001b[0m \u001b[0;34m\"relu\"\u001b[0m\u001b[0;34m,\u001b[0m \u001b[0;36m0.001\u001b[0m\u001b[0;34m)\u001b[0m\u001b[0;34m\u001b[0m\u001b[0;34m\u001b[0m\u001b[0m\n\u001b[0;32m----> 2\u001b[0;31m \u001b[0mNN_relu1\u001b[0m\u001b[0;34m.\u001b[0m\u001b[0mfit\u001b[0m\u001b[0;34m(\u001b[0m\u001b[0mtrain\u001b[0m\u001b[0;34m,\u001b[0m \u001b[0;36m500\u001b[0m\u001b[0;34m,\u001b[0m \u001b[0;36m500\u001b[0m\u001b[0;34m)\u001b[0m\u001b[0;34m\u001b[0m\u001b[0;34m\u001b[0m\u001b[0m\n\u001b[0m",
      "\u001b[0;32m<ipython-input-14-fe13bf17a6d3>\u001b[0m in \u001b[0;36mfit\u001b[0;34m(self, train_df, batch_size, num_epochs)\u001b[0m\n\u001b[1;32m     96\u001b[0m \u001b[0;34m\u001b[0m\u001b[0m\n\u001b[1;32m     97\u001b[0m \u001b[0;31m#                 ipdb.set_trace()\u001b[0m\u001b[0;34m\u001b[0m\u001b[0;34m\u001b[0m\u001b[0;34m\u001b[0m\u001b[0m\n\u001b[0;32m---> 98\u001b[0;31m                 \u001b[0mself\u001b[0m\u001b[0;34m.\u001b[0m\u001b[0mforward_prop\u001b[0m\u001b[0;34m(\u001b[0m\u001b[0mtrain_x\u001b[0m\u001b[0;34m[\u001b[0m\u001b[0ms\u001b[0m\u001b[0;34m:\u001b[0m\u001b[0me\u001b[0m\u001b[0;34m,\u001b[0m \u001b[0;34m:\u001b[0m\u001b[0;34m]\u001b[0m\u001b[0;34m)\u001b[0m\u001b[0;34m\u001b[0m\u001b[0;34m\u001b[0m\u001b[0m\n\u001b[0m\u001b[1;32m     99\u001b[0m                 \u001b[0mself\u001b[0m\u001b[0;34m.\u001b[0m\u001b[0mbackward_prop\u001b[0m\u001b[0;34m(\u001b[0m\u001b[0mtrain_y\u001b[0m\u001b[0;34m[\u001b[0m\u001b[0ms\u001b[0m\u001b[0;34m:\u001b[0m\u001b[0me\u001b[0m\u001b[0;34m,\u001b[0m \u001b[0;34m:\u001b[0m\u001b[0;34m]\u001b[0m\u001b[0;34m)\u001b[0m\u001b[0;34m\u001b[0m\u001b[0;34m\u001b[0m\u001b[0m\n\u001b[1;32m    100\u001b[0m \u001b[0;34m\u001b[0m\u001b[0m\n",
      "\u001b[0;32m<ipython-input-14-fe13bf17a6d3>\u001b[0m in \u001b[0;36mforward_prop\u001b[0;34m(self, X)\u001b[0m\n\u001b[1;32m     40\u001b[0m         \u001b[0;32mfor\u001b[0m \u001b[0ml\u001b[0m \u001b[0;32min\u001b[0m \u001b[0mrange\u001b[0m\u001b[0;34m(\u001b[0m\u001b[0;36m1\u001b[0m\u001b[0;34m,\u001b[0m \u001b[0mlen\u001b[0m\u001b[0;34m(\u001b[0m\u001b[0mself\u001b[0m\u001b[0;34m.\u001b[0m\u001b[0mnum_neurons_list\u001b[0m\u001b[0;34m)\u001b[0m\u001b[0;34m)\u001b[0m\u001b[0;34m:\u001b[0m\u001b[0;34m\u001b[0m\u001b[0;34m\u001b[0m\u001b[0m\n\u001b[1;32m     41\u001b[0m             \u001b[0mprev_out\u001b[0m \u001b[0;34m=\u001b[0m \u001b[0mself\u001b[0m\u001b[0;34m.\u001b[0m\u001b[0mL_out\u001b[0m\u001b[0;34m[\u001b[0m\u001b[0;34m-\u001b[0m\u001b[0;36m1\u001b[0m\u001b[0;34m]\u001b[0m\u001b[0;34m\u001b[0m\u001b[0;34m\u001b[0m\u001b[0m\n\u001b[0;32m---> 42\u001b[0;31m             \u001b[0mcurr_in\u001b[0m \u001b[0;34m=\u001b[0m \u001b[0mprev_out\u001b[0m \u001b[0;34m@\u001b[0m \u001b[0mself\u001b[0m\u001b[0;34m.\u001b[0m\u001b[0mweights\u001b[0m\u001b[0;34m[\u001b[0m\u001b[0ml\u001b[0m\u001b[0;34m-\u001b[0m\u001b[0;36m1\u001b[0m\u001b[0;34m]\u001b[0m\u001b[0;34m\u001b[0m\u001b[0;34m\u001b[0m\u001b[0m\n\u001b[0m\u001b[1;32m     43\u001b[0m \u001b[0;34m\u001b[0m\u001b[0m\n\u001b[1;32m     44\u001b[0m             \u001b[0;32mif\u001b[0m \u001b[0ml\u001b[0m \u001b[0;34m==\u001b[0m \u001b[0;34m(\u001b[0m\u001b[0mlen\u001b[0m\u001b[0;34m(\u001b[0m\u001b[0mself\u001b[0m\u001b[0;34m.\u001b[0m\u001b[0mnum_neurons_list\u001b[0m\u001b[0;34m)\u001b[0m \u001b[0;34m-\u001b[0m \u001b[0;36m1\u001b[0m\u001b[0;34m)\u001b[0m\u001b[0;34m:\u001b[0m\u001b[0;34m\u001b[0m\u001b[0;34m\u001b[0m\u001b[0m\n",
      "\u001b[0;31mKeyboardInterrupt\u001b[0m: "
     ]
    }
   ],
   "source": [
    "NN_relu1 = NeuralNetwork([784, 100, 10], \"relu\", 0.001)\n",
    "NN_relu1.fit(train, 500, 500)"
   ]
  },
  {
   "cell_type": "code",
   "execution_count": 0,
   "metadata": {
    "colab": {
     "base_uri": "https://localhost:8080/",
     "height": 34
    },
    "colab_type": "code",
    "id": "4q0VIYOHx3Yy",
    "outputId": "a6d02737-ef02-4bbf-c2df-d1f91070ea76"
   },
   "outputs": [
    {
     "name": "stdout",
     "output_type": "stream",
     "text": [
      "Sigmoid Training accuracy: 87.68 %\n"
     ]
    }
   ],
   "source": [
    "relu_1l_100_001_acc = NN_relu1.accuracy_get(validate)\n",
    "print(\"Sigmoid Training accuracy:\", relu_1l_100_001_acc, \"%\")"
   ]
  },
  {
   "cell_type": "code",
   "execution_count": 0,
   "metadata": {
    "colab": {
     "base_uri": "https://localhost:8080/",
     "height": 403
    },
    "colab_type": "code",
    "id": "vkQnb1_YyAiF",
    "outputId": "ec7cc5c5-07b4-44b5-fb32-df1281e74fcf"
   },
   "outputs": [
    {
     "data": {
      "image/png": "[encoded data removed]",
      "text/plain": [
       "<Figure size 864x432 with 1 Axes>"
      ]
     },
     "metadata": {
      "tags": []
     },
     "output_type": "display_data"
    }
   ],
   "source": [
    "relu_1l_100_001_errors = NN_relu1.cross_entropies\n",
    "error_graph_plot(relu_1l_100_001_errors, len(relu_1l_100_001_errors))"
   ]
  },
  {
   "cell_type": "code",
   "execution_count": 0,
   "metadata": {
    "colab": {
     "base_uri": "https://localhost:8080/",
     "height": 185
    },
    "colab_type": "code",
    "id": "OlnjCJK1wIUX",
    "outputId": "e39337c2-c6e4-44a5-807a-e3805c5ed9f3"
   },
   "outputs": [
    {
     "name": "stdout",
     "output_type": "stream",
     "text": [
      "No. of Epochs: 0 CrossEntropy: 0.9178930215414627\n",
      "No. of Epochs: 50 CrossEntropy: 0.20202485718747587\n",
      "No. of Epochs: 100 CrossEntropy: 0.1597195813359471\n",
      "No. of Epochs: 150 CrossEntropy: 0.1527247564261525\n",
      "No. of Epochs: 200 CrossEntropy: 0.13492175267028875\n",
      "No. of Epochs: 250 CrossEntropy: 0.1350236154655996\n",
      "No. of Epochs: 300 CrossEntropy: 0.13585547100226888\n",
      "No. of Epochs: 350 CrossEntropy: 0.16443176600966894\n",
      "No. of Epochs: 400 CrossEntropy: 0.1372592202355497\n",
      "No. of Epochs: 450 CrossEntropy: 0.13903583817105036\n"
     ]
    }
   ],
   "source": [
    "NN_relu2 = NeuralNetwork([784, 100, 100, 10], \"relu\", 0.001)\n",
    "NN_relu2.fit(train, 500, 500)"
   ]
  },
  {
   "cell_type": "code",
   "execution_count": 0,
   "metadata": {
    "colab": {
     "base_uri": "https://localhost:8080/",
     "height": 34
    },
    "colab_type": "code",
    "id": "7Qd7gDYX1EUA",
    "outputId": "4811c14f-ad58-4117-8b7b-963cbc698408"
   },
   "outputs": [
    {
     "name": "stdout",
     "output_type": "stream",
     "text": [
      "Sigmoid Training accuracy: 87.31 %\n"
     ]
    }
   ],
   "source": [
    "relu_2l_100_001_acc = NN_relu2.accuracy_get(validate)\n",
    "print(\"Sigmoid Training accuracy:\", relu_2l_100_001_acc, \"%\")"
   ]
  },
  {
   "cell_type": "code",
   "execution_count": 0,
   "metadata": {
    "colab": {
     "base_uri": "https://localhost:8080/",
     "height": 403
    },
    "colab_type": "code",
    "id": "I3Dmnnef1Rkj",
    "outputId": "3f1b78d2-33da-416f-875f-c764f450e7a2"
   },
   "outputs": [
    {
     "data": {
      "image/png": "[encoded data removed]",
      "text/plain": [
       "<Figure size 864x432 with 1 Axes>"
      ]
     },
     "metadata": {
      "tags": []
     },
     "output_type": "display_data"
    }
   ],
   "source": [
    "relu_2l_100_001_errors = NN_relu2.cross_entropies\n",
    "error_graph_plot(relu_2l_100_001_errors, len(relu_2l_100_001_errors))"
   ]
  },
  {
   "cell_type": "code",
   "execution_count": 0,
   "metadata": {
    "colab": {
     "base_uri": "https://localhost:8080/",
     "height": 185
    },
    "colab_type": "code",
    "id": "DSsZqHbNwLld",
    "outputId": "065b2ca8-8f09-45d5-dc44-06568709d7fa"
   },
   "outputs": [
    {
     "name": "stdout",
     "output_type": "stream",
     "text": [
      "No. of Epochs: 0 CrossEntropy: 2.296381153336544\n",
      "No. of Epochs: 50 CrossEntropy: 0.37028505611384205\n",
      "No. of Epochs: 100 CrossEntropy: 0.3212143217349637\n",
      "No. of Epochs: 150 CrossEntropy: 0.290651570627021\n",
      "No. of Epochs: 200 CrossEntropy: 0.26020974964148064\n",
      "No. of Epochs: 250 CrossEntropy: 0.2376767901790022\n",
      "No. of Epochs: 300 CrossEntropy: 0.22228552336076282\n",
      "No. of Epochs: 350 CrossEntropy: 0.21168131386269481\n",
      "No. of Epochs: 400 CrossEntropy: 0.2055585069406396\n",
      "No. of Epochs: 450 CrossEntropy: 0.2004455148693434\n"
     ]
    }
   ],
   "source": [
    "NN_relu3 = NeuralNetwork([784, 100, 100, 100, 10], \"relu\", 0.0001)\n",
    "NN_relu3.fit(train, 500, 500)"
   ]
  },
  {
   "cell_type": "code",
   "execution_count": 0,
   "metadata": {
    "colab": {},
    "colab_type": "code",
    "id": "YQDrdYwp4Mid"
   },
   "outputs": [],
   "source": [
    "# Use the best NN for this\n",
    "best_predictions = NN_sigmoid.predictions_get(test_data)\n",
    "best_predictions = [[p] for p in best_predictions]\n",
    "\n",
    "with open(root_path + '/src/2018201058_prediction.csv', 'w') as csvFile:\n",
    "    writer = csv.writer(csvFile)\n",
    "    writer.writerows(best_predictions)"
   ]
  },
  {
   "cell_type": "code",
   "execution_count": 0,
   "metadata": {
    "colab": {},
    "colab_type": "code",
    "id": "MPf3mwHRoA8T"
   },
   "outputs": [],
   "source": [
    "np.save(root_path + '/src/NN_sigmoid_weights', NN_sigmoid.weights)"
   ]
  },
  {
   "cell_type": "code",
   "execution_count": 0,
   "metadata": {
    "colab": {},
    "colab_type": "code",
    "id": "2rH0OS9foO42"
   },
   "outputs": [],
   "source": [
    "loaded_wts = np.load(root_path + '/src/NN_sigmoid_weights.npy')\n",
    "loaded_wts = loaded_wts.tolist()"
   ]
  },
  {
   "cell_type": "code",
   "execution_count": 0,
   "metadata": {
    "colab": {},
    "colab_type": "code",
    "id": "k1x-QCwR0iPF"
   },
   "outputs": [],
   "source": [
    "loaded_NN_sigmoid = NeuralNetwork([784, 500, 10], \"sigmoid\", 0.00001, loaded_wts)\n",
    "sigmoid_accuracy = loaded_NN_sigmoid.accuracy_get(validate)\n",
    "print(\"Sigmoid Training accuracy:\", sigmoid_accuracy, \"%\")"
   ]
  },
  {
   "cell_type": "markdown",
   "metadata": {
    "colab_type": "text",
    "id": "CIJZZd6ktnrC"
   },
   "source": [
    "**Q2. House Price Prediction**"
   ]
  },
  {
   "cell_type": "markdown",
   "metadata": {
    "colab_type": "text",
    "id": "XbfyuXLUtzSB"
   },
   "source": [
    "**Steps required to modify the above model for this task**\n",
    "\n",
    "1. As can be seen the categorical features ‘Alley, ‘PoolQC’, and ‘MscFeature’ have columns missing. However, looking at the data description, the NA’s in categorical variables actually mean “not present”.  For example, NA in the ‘Alley’ variable meant that the home has no alley. To correct the issue, we could replaced the Na’s with “None”. or the remaining numerical features, NA’s could be replaced by the value zero.\n",
    "\n",
    "2. Turn the categorical data into dummy columns. This involves creating a column for each of the category types within category columns and assigning a 1 or 0 to an entry if the category is met. \n",
    "     It could make the dataset become too complex to handle. If it is the case, complexity of the dataset can be reduced by dimensionality reduction tools, like principle component analysis (PCA) and independent component analysis (ICA).\n",
    "\n",
    "3. Remove the original category columns.\n",
    "\n",
    "4. As for numerical features, quite a few have a highly skewed distribution which can lead to poor models. To combat this, these features could be log transformed.\n"
   ]
  },
  {
   "cell_type": "code",
   "execution_count": 0,
   "metadata": {
    "colab": {},
    "colab_type": "code",
    "id": "fEf7PukA-JEd"
   },
   "outputs": [],
   "source": []
  }
 ],
 "metadata": {
  "accelerator": "GPU",
  "colab": {
   "collapsed_sections": [],
   "name": "assignment5.ipynb",
   "provenance": [],
   "version": "0.3.2"
  },
  "kernelspec": {
   "display_name": "Python 3",
   "language": "python",
   "name": "python3"
  },
  "language_info": {
   "codemirror_mode": {
    "name": "ipython",
    "version": 3
   },
   "file_extension": ".py",
   "mimetype": "text/x-python",
   "name": "python",
   "nbconvert_exporter": "python",
   "pygments_lexer": "ipython3",
   "version": "3.7.1"
  }
 },
 "nbformat": 4,
 "nbformat_minor": 1
}
