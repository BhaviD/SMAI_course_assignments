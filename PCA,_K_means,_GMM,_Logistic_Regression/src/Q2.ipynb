{
 "cells": [
  {
   "cell_type": "code",
   "execution_count": 2,
   "metadata": {},
   "outputs": [],
   "source": [
    "import numpy as np\n",
    "import pandas as pd\n",
    "import ipdb\n",
    "import pprint\n",
    "import sys\n",
    "import matplotlib.pyplot as plt\n",
    "import math\n",
    "import operator\n",
    "from copy import deepcopy\n",
    "# from tabulate import tabulate\n",
    "\n",
    "\n",
    "eps = np.finfo(float).eps\n",
    "from numpy import log2 as log"
   ]
  },
  {
   "cell_type": "markdown",
   "metadata": {},
   "source": [
    "# Q2"
   ]
  },
  {
   "cell_type": "markdown",
   "metadata": {},
   "source": [
    "## Part-1: Logistic Regression"
   ]
  },
  {
   "cell_type": "markdown",
   "metadata": {},
   "source": [
    "## Reading Data"
   ]
  },
  {
   "cell_type": "code",
   "execution_count": 3,
   "metadata": {},
   "outputs": [],
   "source": [
    "def standardize_data(X):\n",
    "    return (X - X.mean())/X.std()"
   ]
  },
  {
   "cell_type": "code",
   "execution_count": 4,
   "metadata": {},
   "outputs": [],
   "source": [
    "data = pd.read_csv(\"../input_data/AdmissionDataset/data.csv\")\n",
    "\n",
    "# remove \"Serial No.\" column\n",
    "data.drop(['Serial No.'], axis = 1, inplace = True)\n",
    "\n",
    "# removing last two columns as their values are in the range [0, 1]\n",
    "data_std = standardize_data(data.iloc[:, :-2])\n",
    "data_std[[\"Research\", \"Chance of Admit\"]] = data[[\"Research\", \"Chance of Admit\"]]\n",
    "\n",
    "# msk = np.random.rand(len(data)) < 0.8\n",
    "# train = X_std[msk].reset_index (drop=True)\n",
    "# validate = X_std[~msk].reset_index (drop=True)\n",
    "\n",
    "# Selecting first 80% as Training Data and remaining as Validation Data\n",
    "train, validate = np.split(data_std, [int(.8*len(data_std))])\n",
    "validate = validate.reset_index(drop=True)"
   ]
  },
  {
   "cell_type": "code",
   "execution_count": 5,
   "metadata": {},
   "outputs": [],
   "source": [
    "X_train = train.iloc[:, :-1]\n",
    "y_train = train.iloc[:, -1]"
   ]
  },
  {
   "cell_type": "code",
   "execution_count": 7,
   "metadata": {},
   "outputs": [
    {
     "data": {
      "text/plain": [
       "(360,)"
      ]
     },
     "execution_count": 7,
     "metadata": {},
     "output_type": "execute_result"
    }
   ],
   "source": [
    "y_train.shape"
   ]
  },
  {
   "cell_type": "code",
   "execution_count": 56,
   "metadata": {},
   "outputs": [],
   "source": [
    "class LogisticRegression:\n",
    "    def __init__(self, learning_rate = 0.01, max_iterations = 1000):\n",
    "        self.learning_rate = learning_rate\n",
    "        self.max_iterations = max_iterations\n",
    "\n",
    "    def intercept_add(self, X):\n",
    "        intercept = np.ones((X.shape[0], 1))\n",
    "        return np.concatenate((intercept, X), axis=1)\n",
    "\n",
    "    def sigmoid(self, z):\n",
    "        return 1 / (1 + np.exp(-z))\n",
    "\n",
    "    def loss(self, h, y):\n",
    "        return (-y * np.log(h) - (1 - y) * np.log(1 - h)).mean()\n",
    "\n",
    "    def fit(self, X, y):\n",
    "        X = self.intercept_add(X)\n",
    "\n",
    "        # weights initialization\n",
    "        self.theta = np.zeros(X.shape[1])\n",
    "        \n",
    "        for i in range(self.max_iterations):\n",
    "            z = np.dot(X, self.theta)   # dot product\n",
    "            h = self.sigmoid(z)\n",
    "            gradient = np.dot(X.T, (h - y)) / y.size\n",
    "            self.theta -= (self.learning_rate * gradient)\n",
    "    \n",
    "    def predict(self, X, threshold):\n",
    "        X = self.intercept_add(X)\n",
    "        predicted_prob = self.sigmoid(np.dot(X, self.theta))\n",
    "        return predicted_prob >= threshold"
   ]
  },
  {
   "cell_type": "code",
   "execution_count": 178,
   "metadata": {
    "scrolled": true
   },
   "outputs": [],
   "source": [
    "model = LogisticRegression(0.01, 10000)\n",
    "model.fit(X_train, y_train)"
   ]
  },
  {
   "cell_type": "code",
   "execution_count": 58,
   "metadata": {},
   "outputs": [],
   "source": [
    "X_validate = validate.iloc[:, :-1]\n",
    "y_validate = validate.iloc[:, -1]"
   ]
  },
  {
   "cell_type": "code",
   "execution_count": 177,
   "metadata": {},
   "outputs": [],
   "source": [
    "thresholds = []\n",
    "for t in range(1, 10):\n",
    "    thresholds.append(t/10)"
   ]
  },
  {
   "cell_type": "code",
   "execution_count": 156,
   "metadata": {},
   "outputs": [],
   "source": [
    "def logistic_reg_performance_get(threshold_list):\n",
    "    accuracy_list = []\n",
    "    recall_list = []\n",
    "    precision_list = []\n",
    "    \n",
    "    for threshold in threshold_list:  \n",
    "        correct = 0\n",
    "        actual_class = (y_validate >= threshold)\n",
    "        predicted_class = model.predict(X_validate, threshold)\n",
    "\n",
    "        actual_label_series = pd.Series(actual_class, name='Ground Truth')\n",
    "        prediction_label_series = pd.Series(predicted_class, name='Predicted Label')\n",
    "        confusion_df = pd.crosstab(actual_label_series, prediction_label_series, margins=True)\n",
    "#         print(tabulate(confusion_df, headers='keys', tablefmt='psql'))\n",
    "     \n",
    "        label_names = confusion_df.keys()[:-1]\n",
    "        precision = {}\n",
    "        recall = {}\n",
    "        f1_score = {}\n",
    "        for label in label_names:\n",
    "            correct += confusion_df[label][label]\n",
    "            _precision = float(confusion_df[label][label]) / confusion_df['All'][label]\n",
    "            precision[label] = round(_precision * 100, 2)\n",
    "            _recall = float(confusion_df[label][label]) / confusion_df[label]['All']\n",
    "            recall[label] = round(_recall * 100, 2)\n",
    "\n",
    "            if _recall == 0.0:\n",
    "                _recall = eps\n",
    "            if _precision == 0.0:\n",
    "                _precision = eps\n",
    "\n",
    "            f1_score[label] = round((2 / ((1/_recall) + (1/_precision))), 2)\n",
    "\n",
    "        accuracy = round((float(correct) / confusion_df['All']['All']) * 100, 2)\n",
    "        accuracy_list.append(accuracy)\n",
    "        precision_list.append(precision[True])\n",
    "        recall_list.append(recall[True])\n",
    "\n",
    "    return accuracy_list, precision_list, recall_list"
   ]
  },
  {
   "cell_type": "code",
   "execution_count": 175,
   "metadata": {},
   "outputs": [],
   "source": [
    "logistic_reg_accuracies, logistic_reg_precision, logistic_reg_recall = logistic_reg_performance_get(thresholds)"
   ]
  },
  {
   "cell_type": "markdown",
   "metadata": {},
   "source": [
    "## Part-3: Recall and Precision vs Threshold value"
   ]
  },
  {
   "cell_type": "code",
   "execution_count": 176,
   "metadata": {
    "scrolled": true
   },
   "outputs": [
    {
     "data": {
      "image/png": "[encoded data removed]",
      "text/plain": [
       "<Figure size 864x432 with 1 Axes>"
      ]
     },
     "metadata": {
      "needs_background": "light"
     },
     "output_type": "display_data"
    }
   ],
   "source": [
    "fig, ax = plt.subplots(figsize=(12,6))\n",
    "ax.plot(thresholds, logistic_reg_accuracies, color=\"purple\", lw=1, ls='-', marker='s', markersize=4, \n",
    "        markerfacecolor=\"yellow\", markeredgewidth=2, markeredgecolor=\"blue\", label='Accuracy (%)');\n",
    "ax.plot(thresholds, logistic_reg_precision, color=\"green\", lw=1, ls='-', marker='s', markersize=4, \n",
    "        markerfacecolor=\"yellow\", markeredgewidth=2, markeredgecolor=\"blue\", label='Precision (%)');\n",
    "ax.plot(thresholds, logistic_reg_recall, color=\"yellow\", lw=1, ls='-', marker='s', markersize=4, \n",
    "        markerfacecolor=\"yellow\", markeredgewidth=2, markeredgecolor=\"blue\", label='Recall (%)');\n",
    "\n",
    "plt.title(\"Logistic Regression Performance vs Threshold\")\n",
    "plt.ylabel(\"Performance (%)\")\n",
    "plt.xlabel(\"Threshold Value\")\n",
    "plt.legend()\n",
    "plt.show()"
   ]
  },
  {
   "cell_type": "markdown",
   "metadata": {},
   "source": [
    "### Receiver Operating Characteristic (ROC) curve. \n",
    "* The ROC curve shows how the recall vs precision relationship changes as we vary the threshold for identifying a positive in our model. The threshold represents the value above which a data point is considered in the positive class. If we have a model for identifying a disease, our model might output a score for each patient between 0 and 1 and we can set a threshold in this range for labeling a patient as having the disease (a positive label). By altering the threshold, we can try to achieve the right precision vs recall balance.\n",
    "\n",
    "* An ROC curve plots the true positive rate on the y-axis versus the false positive rate on the x-axis. The true positive rate (TPR) is the recall and the false positive rate (FPR) is the probability of a false alarm. Both of these can be calculated from the confusion matrix."
   ]
  },
  {
   "cell_type": "markdown",
   "metadata": {},
   "source": [
    "## Part-2: k-NN"
   ]
  },
  {
   "cell_type": "code",
   "execution_count": 167,
   "metadata": {},
   "outputs": [],
   "source": [
    "def knn_data_get(d, threshold):\n",
    "    data_knn = d.iloc[:, :-1]\n",
    "    y_knn = d.iloc[:,-1] >= threshold\n",
    "    data_knn[\"Chance of Admit\"] = y_knn\n",
    "    \n",
    "    train_knn, validate_knn = np.split(data_knn, [int(.8*len(data_knn))])\n",
    "    validate_knn = validate_knn.reset_index(drop=True)\n",
    "\n",
    "    return train_knn, validate_knn"
   ]
  },
  {
   "cell_type": "code",
   "execution_count": 168,
   "metadata": {},
   "outputs": [],
   "source": [
    "distances_list = []\n",
    "\n",
    "def distances_get(test_sample, training_data, distance_measure):\n",
    "    distances = []\n",
    "    p = 1\n",
    "    if distance_measure == \"Euclidean\":\n",
    "        p = 2\n",
    "    elif distance_measure == \"Minkowski\":\n",
    "        p = 5\n",
    "\n",
    "    for index, row in training_data.iterrows():\n",
    "        dist = 0\n",
    "        for i in range(0, 7):\n",
    "            d = abs(test_sample[i] - row[i])\n",
    "            dist += pow(d, p)\n",
    "        distances.append(((dist ** (1./p)), row[-1]))\n",
    "\n",
    "    distances = sorted(distances, key = operator.itemgetter(0))\n",
    "    distances_list.append(distances)"
   ]
  },
  {
   "cell_type": "code",
   "execution_count": 169,
   "metadata": {},
   "outputs": [],
   "source": [
    "def kNN_validation(distances_list, validation_data, k):\n",
    "    TP = 0; FP = 0; TN = 0; FN = 0;\n",
    "\n",
    "    for index, validation_sample in validation_data.iterrows():\n",
    "        distances = distances_list[index]\n",
    "\n",
    "        nTrue = 0\n",
    "        for i in range(k):\n",
    "            if distances[i][1] == True:\n",
    "                nTrue += 1\n",
    "        nFalse = k - nTrue\n",
    "\n",
    "        if nTrue > nFalse:\n",
    "            prediction = True\n",
    "        else:\n",
    "            prediction = False\n",
    "\n",
    "        if prediction == True:\n",
    "            if validation_sample[-1] == True:\n",
    "                TP += 1\n",
    "            else:\n",
    "                FP += 1\n",
    "        else:\n",
    "            if validation_sample[-1] == False:\n",
    "                TN += 1\n",
    "            else:\n",
    "                FN += 1\n",
    "\n",
    "    accuracy = float(TP + TN) / (TP + FP + TN + FN)\n",
    "    if TP == 0:\n",
    "        recall = 0.0\n",
    "        precision = 0.0\n",
    "        f1_score = 2 / ((1/(eps)) + (1/(eps)))\n",
    "    else:\n",
    "        recall = float(TP) / (TP + FN)\n",
    "        precision = float(TP) / (TP + FP)\n",
    "        f1_score = 2 / ((1/(recall)) + (1/(precision)))\n",
    "\n",
    "    return (round(accuracy * 100, 2), round(recall * 100, 2), round(precision * 100, 2), round(f1_score, 2))"
   ]
  },
  {
   "cell_type": "code",
   "execution_count": 170,
   "metadata": {},
   "outputs": [],
   "source": [
    "def knn_performance_get(distance_measure, train_knn, validate_knn):\n",
    "    global distances_list\n",
    "    distances_list = []\n",
    "\n",
    "    for index, validation_sample in validate_knn.iterrows():\n",
    "        distances_get(validation_sample, train_knn, distance_measure)\n",
    "\n",
    "    performance = pd.DataFrame(columns=['K', 'accuracy (%)', 'recall (%)', 'precision (%)', 'f1_score'])\n",
    "\n",
    "    for k in range(1, 16, 2):\n",
    "        accuracy, recall, precision, f1_score = kNN_validation(distances_list, validate_knn, k)\n",
    "        performance = performance.append(pd.DataFrame([[k, accuracy, recall, precision, f1_score]], columns=['K', 'accuracy (%)', 'recall (%)', 'precision (%)', 'f1_score']), ignore_index=True)\n",
    "    \n",
    "    return performance"
   ]
  },
  {
   "cell_type": "code",
   "execution_count": 171,
   "metadata": {},
   "outputs": [],
   "source": [
    "def knn_accuracies_get():\n",
    "    knn_accuracies = []\n",
    "    for threshold in thresholds:\n",
    "        train_knn, validate_knn = knn_data_get(data, threshold)\n",
    "        knn_max_performance = knn_performance_get(\"Euclidean\", train_knn, validate_knn).max()\n",
    "        max_accuracy = knn_max_performance[\"accuracy (%)\"]\n",
    "        knn_accuracies.append(max_accuracy)\n",
    "    \n",
    "    return knn_accuracies"
   ]
  },
  {
   "cell_type": "code",
   "execution_count": 172,
   "metadata": {},
   "outputs": [],
   "source": [
    "knn_accuracies = knn_accuracies_get()"
   ]
  },
  {
   "cell_type": "code",
   "execution_count": 173,
   "metadata": {},
   "outputs": [
    {
     "data": {
      "image/png": "[encoded data removed]",
      "text/plain": [
       "<Figure size 864x432 with 1 Axes>"
      ]
     },
     "metadata": {
      "needs_background": "light"
     },
     "output_type": "display_data"
    }
   ],
   "source": [
    "fig, ax = plt.subplots(figsize=(12,6))\n",
    "ax.plot(thresholds, logistic_reg_accuracies, color=\"purple\", lw=1, ls='-', marker='s', markersize=4, \n",
    "        markerfacecolor=\"yellow\", markeredgewidth=2, markeredgecolor=\"blue\", label='Logistic Regression');\n",
    "ax.plot(thresholds, knn_accuracies, color=\"green\", lw=1, ls='-', marker='s', markersize=4, \n",
    "        markerfacecolor=\"yellow\", markeredgewidth=2, markeredgecolor=\"blue\", label='K-NN');\n",
    "\n",
    "plt.title(\"Performance Comparison of Logistic Regression vs K-NN Model\")\n",
    "plt.ylabel(\"Accuracy (%)\")\n",
    "plt.xlabel(\"Threshold Value\")\n",
    "plt.legend()\n",
    "plt.show()"
   ]
  },
  {
   "cell_type": "code",
   "execution_count": null,
   "metadata": {},
   "outputs": [],
   "source": []
  }
 ],
 "metadata": {
  "kernelspec": {
   "display_name": "Python 3",
   "language": "python",
   "name": "python3"
  },
  "language_info": {
   "codemirror_mode": {
    "name": "ipython",
    "version": 3
   },
   "file_extension": ".py",
   "mimetype": "text/x-python",
   "name": "python",
   "nbconvert_exporter": "python",
   "pygments_lexer": "ipython3",
   "version": "3.5.2"
  }
 },
 "nbformat": 4,
 "nbformat_minor": 2
}
