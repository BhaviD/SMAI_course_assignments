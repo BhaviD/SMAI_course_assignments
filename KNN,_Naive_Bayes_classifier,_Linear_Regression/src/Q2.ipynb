{
 "cells": [
  {
   "cell_type": "markdown",
   "metadata": {},
   "source": [
    "## Initial Imports"
   ]
  },
  {
   "cell_type": "code",
   "execution_count": 18,
   "metadata": {},
   "outputs": [],
   "source": [
    "import numpy as np\n",
    "import pandas as pd\n",
    "import ipdb\n",
    "import pprint\n",
    "import sys\n",
    "import matplotlib.pyplot as plt\n",
    "import math\n",
    "import operator\n",
    "from tabulate import tabulate\n",
    "\n",
    "eps = np.finfo(float).eps\n",
    "from numpy import log2 as log"
   ]
  },
  {
   "cell_type": "markdown",
   "metadata": {},
   "source": [
    "## Reading Data"
   ]
  },
  {
   "cell_type": "code",
   "execution_count": 19,
   "metadata": {},
   "outputs": [],
   "source": [
    "data = pd.read_csv(\"../input_data/LoanDataset/data.csv\", header=None)\n",
    "data.columns = ['ID', 'Age', 'Num_years_exp', 'Income', 'Zipcode', 'Family_size', 'Avg_spending_pm', 'Education_level', 'Mortgage_value', 'Loan', 'Securities_account', 'CD_account', 'Internet_banking', 'Credit_card']\n",
    "data = data.drop(data.index[0])\n",
    "labels = data[\"Loan\"].unique()\n",
    "\n",
    "# Random Selection of 80% Training Data and 20% Validation Data\n",
    "msk = np.random.rand(len(data)) < 0.8\n",
    "train = data[msk].reset_index(drop=True)\n",
    "validate = data[~msk].reset_index(drop=True)\n",
    "\n",
    "# Selecting first 80% as Training Data and remaining as Validation Data\n",
    "# train, validate = np.split(data, [int(.8*len(data))])\n",
    "# validate = validate.reset_index(drop=True)\n",
    "\n",
    "numerical_attributes = ['Age', 'Num_years_exp', 'Income', 'Zipcode', 'Family_size', 'Avg_spending_pm', 'Mortgage_value']\n",
    "categorical_attributes = ['Education_level', 'Securities_account', 'CD_account', 'Internet_banking', 'Credit_card']"
   ]
  },
  {
   "cell_type": "code",
   "execution_count": 22,
   "metadata": {
    "scrolled": false
   },
   "outputs": [],
   "source": [
    "label_count = []\n",
    "for label in labels:\n",
    "    label_count.append(train[\"Loan\"].value_counts()[label])\n",
    "\n",
    "total_label_count = label_count[0] + label_count[1]\n",
    "label_probability = []\n",
    "label_probability.append(label_count[0] / total_label_count)\n",
    "label_probability.append(1 - label_probability[0])\n",
    "\n",
    "count_list = [{}, {}]\n",
    "categorical_probability = [{}, {}]\n",
    "\n",
    "def calc_categorical_probabilities():\n",
    "    for attr in categorical_attributes:\n",
    "        for label in labels:\n",
    "            label = int(label)\n",
    "            count_list[label][attr] = {}\n",
    "            categorical_probability[label][attr] = {}\n",
    "            for val in train[attr].unique():\n",
    "                count_list[label][attr][val] = 0\n",
    "\n",
    "    for index, training_sample in train.iterrows():\n",
    "        label = int(training_sample[\"Loan\"])\n",
    "        for attr in categorical_attributes:\n",
    "            count_list[label][attr][training_sample[attr]] += 1\n",
    "\n",
    "    for attr in categorical_attributes:\n",
    "        for label in labels:\n",
    "            label = int(label)\n",
    "            for val in train[attr].unique():\n",
    "                categorical_probability[label][attr][val] = (count_list[label][attr][val] / label_count[label])"
   ]
  },
  {
   "cell_type": "code",
   "execution_count": 23,
   "metadata": {},
   "outputs": [
    {
     "data": {
      "text/plain": [
       "[{'Education_level': {2.0: 0.27582997207570586,\n",
       "   1.0: 0.44182438721687867,\n",
       "   3.0: 0.28234564070741547},\n",
       "  'Securities_account': {0.0: 0.8932671424139, 1.0: 0.1067328575860999},\n",
       "  'CD_account': {0.0: 0.9643189574930189, 1.0: 0.03568104250698107},\n",
       "  'Internet_banking': {1.0: 0.5963388147688489, 0.0: 0.4036611852311511},\n",
       "  'Credit_card': {1.0: 0.29320508842693144, 0.0: 0.7067949115730686}},\n",
       " {'Education_level': {2.0: 0.3742690058479532,\n",
       "   1.0: 0.1871345029239766,\n",
       "   3.0: 0.43859649122807015},\n",
       "  'Securities_account': {0.0: 0.8830409356725146, 1.0: 0.11695906432748537},\n",
       "  'CD_account': {0.0: 0.7046783625730995, 1.0: 0.2953216374269006},\n",
       "  'Internet_banking': {1.0: 0.5935672514619883, 0.0: 0.4064327485380117},\n",
       "  'Credit_card': {1.0: 0.30701754385964913, 0.0: 0.6929824561403509}}]"
      ]
     },
     "execution_count": 23,
     "metadata": {},
     "output_type": "execute_result"
    }
   ],
   "source": [
    "calc_categorical_probabilities()\n",
    "categorical_probability"
   ]
  },
  {
   "cell_type": "code",
   "execution_count": 24,
   "metadata": {
    "scrolled": false
   },
   "outputs": [],
   "source": [
    "mean_list = [{}, {}]\n",
    "std_dev_list = [{}, {}]\n",
    "\n",
    "def calc_numerical_mean_and_std_dev():\n",
    "    for attr in numerical_attributes:\n",
    "        for label in labels:\n",
    "            label = int(label)\n",
    "            mean_list[label][attr] = 0\n",
    "            std_dev_list[label][attr] = 0\n",
    "\n",
    "    for index, training_sample in train.iterrows():\n",
    "        label = int(training_sample[\"Loan\"])\n",
    "        for attr in numerical_attributes:\n",
    "            mean_list[label][attr] += training_sample[attr]\n",
    "\n",
    "    for attr in numerical_attributes:\n",
    "        for label in labels:\n",
    "            label = int(label)\n",
    "            mean_list[label][attr] /= label_count[label]\n",
    "    \n",
    "    for index, training_sample in train.iterrows():\n",
    "        label = int(training_sample[\"Loan\"])\n",
    "        for attr in numerical_attributes:\n",
    "            std_dev_list[label][attr] += pow((training_sample[attr] - mean_list[label][attr]), 2)\n",
    "\n",
    "    for attr in numerical_attributes:\n",
    "        for label in labels:\n",
    "            label = int(label)\n",
    "            std_dev_list[label][attr] /= (label_count[label] - 1)\n",
    "            std_dev_list[label][attr] = math.sqrt(std_dev_list[label][attr])"
   ]
  },
  {
   "cell_type": "code",
   "execution_count": 25,
   "metadata": {},
   "outputs": [],
   "source": [
    "calc_numerical_mean_and_std_dev()"
   ]
  },
  {
   "cell_type": "code",
   "execution_count": 26,
   "metadata": {},
   "outputs": [],
   "source": [
    "def gaussian_prob(attr, val, label):\n",
    "    mean = mean_list[label][attr]\n",
    "    stdev = std_dev_list[label][attr]\n",
    "    exponent = math.exp(-(math.pow(val - mean,2) / (2 * math.pow(stdev, 2))))\n",
    "    return (1 / (math.sqrt(2*math.pi) * stdev)) * exponent"
   ]
  },
  {
   "cell_type": "code",
   "execution_count": 27,
   "metadata": {},
   "outputs": [],
   "source": [
    "def naive_bayes_validation():\n",
    "    TP = 0; TN = 0; FP = 0; FN = 0;\n",
    "\n",
    "    for index, validation_sample in validate.iterrows():\n",
    "        log_probability = [0] * 2\n",
    "        for label in labels:\n",
    "            label = int(label)\n",
    "            for attr in numerical_attributes:\n",
    "                log_probability[label] += log(gaussian_prob(attr, validation_sample[attr], label))\n",
    "        \n",
    "            for attr in categorical_attributes:\n",
    "                log_probability[label] += log(categorical_probability[label][attr][validation_sample[attr]])\n",
    "\n",
    "        log_probability[int(labels[0])] += log(label_probability[0])\n",
    "        log_probability[int(labels[1])] += log(label_probability[1])        \n",
    "\n",
    "        if log_probability[int(labels[0])] > log_probability[int(labels[1])]:\n",
    "            prediction = labels[0]\n",
    "        else:\n",
    "            prediction = labels[1]\n",
    "\n",
    "        if prediction == labels[1]:\n",
    "            if prediction == validation_sample[\"Loan\"]:\n",
    "                TP += 1\n",
    "            else:\n",
    "                FP += 1\n",
    "        else:\n",
    "            if prediction == validation_sample[\"Loan\"]:\n",
    "                TN += 1\n",
    "            else:\n",
    "                FN += 1\n",
    "\n",
    "    accuracy = float(TP + TN) / (TP + FP + TN + FN)\n",
    "    if TP == 0:\n",
    "        recall = 0.0\n",
    "        precision = 0.0\n",
    "        f1_score = 2 / ((1/(eps)) + (1/(eps)))\n",
    "    else:\n",
    "        recall = float(TP) / (TP + FN)\n",
    "        precision = float(TP) / (TP + FP)\n",
    "        f1_score = 2 / ((1/(recall)) + (1/(precision)))\n",
    "    \n",
    "    print (\"TP = {}, TN = {}, FP = {}, FN = {}\".format(TP, TN, FP, FN))\n",
    "    print (\"accuracy = {}, recall = {}, precision = {}, f1_score = {}\".format(accuracy, recall, precision, f1_score))\n",
    "    return (accuracy, precision, recall, f1_score)"
   ]
  },
  {
   "cell_type": "code",
   "execution_count": 28,
   "metadata": {},
   "outputs": [
    {
     "name": "stdout",
     "output_type": "stream",
     "text": [
      "TP = 60, TN = 780, FP = 62, FN = 32\n",
      "accuracy = 0.8993576017130621, recall = 0.6521739130434783, precision = 0.4918032786885246, f1_score = 0.5607476635514019\n"
     ]
    },
    {
     "data": {
      "text/plain": [
       "(0.8993576017130621,\n",
       " 0.4918032786885246,\n",
       " 0.6521739130434783,\n",
       " 0.5607476635514019)"
      ]
     },
     "execution_count": 28,
     "metadata": {},
     "output_type": "execute_result"
    }
   ],
   "source": [
    "naive_bayes_validation()"
   ]
  },
  {
   "cell_type": "markdown",
   "metadata": {},
   "source": [
    "I plotted the distinct values of all attributes corresponding to their frequencies. <br>\n",
    "That plot seemed similar to Gaussian Distribution for some attributes. <br>\n",
    "Hence, I have used Gaussian probability distribution to calculate naive bayes probabilities"
   ]
  },
  {
   "cell_type": "code",
   "execution_count": null,
   "metadata": {},
   "outputs": [],
   "source": []
  }
 ],
 "metadata": {
  "kernelspec": {
   "display_name": "Python 3",
   "language": "python",
   "name": "python3"
  },
  "language_info": {
   "codemirror_mode": {
    "name": "ipython",
    "version": 3
   },
   "file_extension": ".py",
   "mimetype": "text/x-python",
   "name": "python",
   "nbconvert_exporter": "python",
   "pygments_lexer": "ipython3",
   "version": "3.7.1"
  }
 },
 "nbformat": 4,
 "nbformat_minor": 2
}
