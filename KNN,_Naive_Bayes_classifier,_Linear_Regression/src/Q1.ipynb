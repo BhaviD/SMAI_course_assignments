{
 "cells": [
  {
   "cell_type": "markdown",
   "metadata": {},
   "source": [
    "## Initial Imports"
   ]
  },
  {
   "cell_type": "code",
   "execution_count": 1,
   "metadata": {},
   "outputs": [],
   "source": [
    "import numpy as np\n",
    "import pandas as pd\n",
    "import ipdb\n",
    "import pprint\n",
    "import sys\n",
    "import matplotlib.pyplot as plt\n",
    "import math\n",
    "import operator\n",
    "from tabulate import tabulate\n",
    "\n",
    "eps = np.finfo(float).eps\n",
    "from numpy import log2 as log"
   ]
  },
  {
   "cell_type": "markdown",
   "metadata": {},
   "source": [
    "# Q1-1-1, Q-1-1-2 : Robot1 & Robot2"
   ]
  },
  {
   "cell_type": "markdown",
   "metadata": {},
   "source": [
    "## Reading Data"
   ]
  },
  {
   "cell_type": "markdown",
   "metadata": {},
   "source": [
    "### Robot1"
   ]
  },
  {
   "cell_type": "code",
   "execution_count": 4,
   "metadata": {},
   "outputs": [],
   "source": [
    "data_robot = []\n",
    "training_data_robot = []\n",
    "validation_data_robot = []\n",
    "\n",
    "data = pd.read_csv(\"../input_data/RobotDataset/Robot1\", delim_whitespace=True, header=None)\n",
    "data_robot.append(data)\n",
    "\n",
    "# Random Selection of 80% Training Data and 20% Validation Data\n",
    "msk = np.random.rand(len(data_robot[0])) < 0.8\n",
    "training_data_robot.append(data_robot[0][msk].reset_index(drop=True))\n",
    "validation_data_robot.append(data_robot[0][~msk].reset_index(drop=True))\n",
    "\n",
    "# Selecting first 80% as Training Data and remaining as Validation Data\n",
    "# train, validate = np.split(data_robot[0], [int(.8*len(data_robot[0]))])\n",
    "# training_data_robot.append(train)\n",
    "# validation_data_robot.append(validate.reset_index(drop=True))"
   ]
  },
  {
   "cell_type": "markdown",
   "metadata": {},
   "source": [
    "### Robot2"
   ]
  },
  {
   "cell_type": "code",
   "execution_count": 6,
   "metadata": {},
   "outputs": [],
   "source": [
    "data = pd.read_csv(\"../input_data/RobotDataset/Robot2\", delim_whitespace=True, header=None)\n",
    "data_robot.append(data)\n",
    "\n",
    "# Random Selection of 80% Training Data and 20% Validation Data\n",
    "msk = np.random.rand(len(data_robot[1])) < 0.8\n",
    "training_data_robot.append(data_robot[1][msk].reset_index(drop=True))\n",
    "validation_data_robot.append(data_robot[1][~msk].reset_index(drop=True))\n",
    "\n",
    "# Selecting first 80% as Training Data and remaining as Validation Data\n",
    "# train, validate = np.split(data_robot[1], [int(.8*len(data_robot[1]))])\n",
    "# training_data_robot.append(train)\n",
    "# validation_data_robot.append(validate.reset_index(drop=True))"
   ]
  },
  {
   "cell_type": "markdown",
   "metadata": {},
   "source": [
    "## Utility Functions"
   ]
  },
  {
   "cell_type": "code",
   "execution_count": 23,
   "metadata": {},
   "outputs": [],
   "source": [
    "distances_list_robot = [[],[]]\n",
    "\n",
    "def robot_get_distances(idx, test_sample, training_data, distance_measure):\n",
    "    distances = []\n",
    "    p = 1\n",
    "    if distance_measure == \"Euclidean\":\n",
    "        p = 2\n",
    "    elif distance_measure == \"Minkowski\":\n",
    "        p = 5\n",
    "\n",
    "    for index, row in training_data.iterrows():\n",
    "        dist = 0\n",
    "        for i in range(1, 7):\n",
    "            d = abs(test_sample[i] - row[i])\n",
    "            dist += pow(d, p)\n",
    "        distances.append(((dist ** (1./p)), row[0]))\n",
    "\n",
    "    distances = sorted(distances, key = operator.itemgetter(0))\n",
    "    distances_list_robot[idx].append(distances)"
   ]
  },
  {
   "cell_type": "code",
   "execution_count": 24,
   "metadata": {},
   "outputs": [],
   "source": [
    "def robot_kNN_validation(distances_list, validation_data, k):\n",
    "    TP = 0; FP = 0; TN = 0; FN = 0;\n",
    "\n",
    "    for index, validation_sample in validation_data.iterrows():\n",
    "        distances = distances_list[index]\n",
    "\n",
    "        nOnes = 0\n",
    "        for i in range(k):\n",
    "            if distances[i][1] == 1:\n",
    "                nOnes += 1\n",
    "        nZeros = k - nOnes\n",
    "        if nOnes > nZeros:\n",
    "            prediction = 1\n",
    "        else:\n",
    "            prediction = 0\n",
    "\n",
    "        if prediction == 1:\n",
    "            if validation_sample[0] == 1:\n",
    "                TP += 1\n",
    "            else:\n",
    "                FP += 1\n",
    "        else:\n",
    "            if validation_sample[0] == 0:\n",
    "                TN += 1\n",
    "            else:\n",
    "                FN += 1\n",
    "\n",
    "    accuracy = float(TP + TN) / (TP + FP + TN + FN)\n",
    "    if TP == 0:\n",
    "        recall = 0.0\n",
    "        precision = 0.0\n",
    "        f1_score = 2 / ((1/(eps)) + (1/(eps)))\n",
    "    else:\n",
    "        recall = float(TP) / (TP + FN)\n",
    "        precision = float(TP) / (TP + FP)\n",
    "        f1_score = 2 / ((1/(recall)) + (1/(precision)))\n",
    "\n",
    "    return (round(accuracy * 100, 2), round(recall * 100, 2), round(precision * 100, 2), round(f1_score, 2))"
   ]
  },
  {
   "cell_type": "code",
   "execution_count": 27,
   "metadata": {},
   "outputs": [],
   "source": [
    "performance_robot = []\n",
    "\n",
    "def robots_update_distances(distance_measure):\n",
    "    global distances_list_robot\n",
    "    distances_list_robot = [[], []]\n",
    "    for idx in range(2):\n",
    "        for index, validation_sample in validation_data_robot[idx].iterrows():\n",
    "            robot_get_distances(idx, validation_sample, training_data_robot[idx], distance_measure)\n",
    "\n",
    "    global performance_robot\n",
    "    performance_robot = []\n",
    "    performance_robot.append(pd.DataFrame(columns=['K', 'accuracy (%)', 'recall (%)', 'precision (%)', 'f1_score']))\n",
    "    performance_robot.append(pd.DataFrame(columns=['K', 'accuracy (%)', 'recall (%)', 'precision (%)', 'f1_score']))\n",
    "\n",
    "    for robot_idx in range(2):\n",
    "        for k in range(1, 16, 2):\n",
    "            accuracy, recall, precision, f1_score = robot_kNN_validation(distances_list_robot[robot_idx], validation_data_robot[robot_idx], k)\n",
    "            performance_robot[robot_idx] = performance_robot[robot_idx].append(pd.DataFrame([[k, accuracy, recall, precision, f1_score]], columns=['K', 'accuracy (%)', 'recall (%)', 'precision (%)', 'f1_score']), ignore_index=True)"
   ]
  },
  {
   "cell_type": "markdown",
   "metadata": {},
   "source": [
    "## Distance Measure :- Euclidean"
   ]
  },
  {
   "cell_type": "markdown",
   "metadata": {},
   "source": [
    "### **Robot1**"
   ]
  },
  {
   "cell_type": "code",
   "execution_count": 28,
   "metadata": {
    "scrolled": true
   },
   "outputs": [
    {
     "data": {
      "image/png": "[encoded data removed]",
      "text/plain": [
       "<Figure size 720x360 with 1 Axes>"
      ]
     },
     "metadata": {
      "needs_background": "light"
     },
     "output_type": "display_data"
    },
    {
     "data": {
      "text/html": [
       "<style  type=\"text/css\" >\n",
       "</style>  \n",
       "<table id=\"T_20599d84_2ed7_11e9_8d05_af642fc5b1b0\" > \n",
       "<thead>    <tr> \n",
       "        <th class=\"col_heading level0 col0\" >K</th> \n",
       "        <th class=\"col_heading level0 col1\" >accuracy (%)</th> \n",
       "        <th class=\"col_heading level0 col2\" >recall (%)</th> \n",
       "        <th class=\"col_heading level0 col3\" >precision (%)</th> \n",
       "        <th class=\"col_heading level0 col4\" >f1_score</th> \n",
       "    </tr></thead> \n",
       "<tbody>    <tr> \n",
       "        <td id=\"T_20599d84_2ed7_11e9_8d05_af642fc5b1b0row0_col0\" class=\"data row0 col0\" >1</td> \n",
       "        <td id=\"T_20599d84_2ed7_11e9_8d05_af642fc5b1b0row0_col1\" class=\"data row0 col1\" >71.43</td> \n",
       "        <td id=\"T_20599d84_2ed7_11e9_8d05_af642fc5b1b0row0_col2\" class=\"data row0 col2\" >61.11</td> \n",
       "        <td id=\"T_20599d84_2ed7_11e9_8d05_af642fc5b1b0row0_col3\" class=\"data row0 col3\" >91.67</td> \n",
       "        <td id=\"T_20599d84_2ed7_11e9_8d05_af642fc5b1b0row0_col4\" class=\"data row0 col4\" >0.73</td> \n",
       "    </tr>    <tr> \n",
       "        <td id=\"T_20599d84_2ed7_11e9_8d05_af642fc5b1b0row1_col0\" class=\"data row1 col0\" >3</td> \n",
       "        <td id=\"T_20599d84_2ed7_11e9_8d05_af642fc5b1b0row1_col1\" class=\"data row1 col1\" >82.14</td> \n",
       "        <td id=\"T_20599d84_2ed7_11e9_8d05_af642fc5b1b0row1_col2\" class=\"data row1 col2\" >72.22</td> \n",
       "        <td id=\"T_20599d84_2ed7_11e9_8d05_af642fc5b1b0row1_col3\" class=\"data row1 col3\" >100</td> \n",
       "        <td id=\"T_20599d84_2ed7_11e9_8d05_af642fc5b1b0row1_col4\" class=\"data row1 col4\" >0.84</td> \n",
       "    </tr>    <tr> \n",
       "        <td id=\"T_20599d84_2ed7_11e9_8d05_af642fc5b1b0row2_col0\" class=\"data row2 col0\" >5</td> \n",
       "        <td id=\"T_20599d84_2ed7_11e9_8d05_af642fc5b1b0row2_col1\" class=\"data row2 col1\" >78.57</td> \n",
       "        <td id=\"T_20599d84_2ed7_11e9_8d05_af642fc5b1b0row2_col2\" class=\"data row2 col2\" >77.78</td> \n",
       "        <td id=\"T_20599d84_2ed7_11e9_8d05_af642fc5b1b0row2_col3\" class=\"data row2 col3\" >87.5</td> \n",
       "        <td id=\"T_20599d84_2ed7_11e9_8d05_af642fc5b1b0row2_col4\" class=\"data row2 col4\" >0.82</td> \n",
       "    </tr>    <tr> \n",
       "        <td id=\"T_20599d84_2ed7_11e9_8d05_af642fc5b1b0row3_col0\" class=\"data row3 col0\" >7</td> \n",
       "        <td id=\"T_20599d84_2ed7_11e9_8d05_af642fc5b1b0row3_col1\" class=\"data row3 col1\" >96.43</td> \n",
       "        <td id=\"T_20599d84_2ed7_11e9_8d05_af642fc5b1b0row3_col2\" class=\"data row3 col2\" >94.44</td> \n",
       "        <td id=\"T_20599d84_2ed7_11e9_8d05_af642fc5b1b0row3_col3\" class=\"data row3 col3\" >100</td> \n",
       "        <td id=\"T_20599d84_2ed7_11e9_8d05_af642fc5b1b0row3_col4\" class=\"data row3 col4\" >0.97</td> \n",
       "    </tr>    <tr> \n",
       "        <td id=\"T_20599d84_2ed7_11e9_8d05_af642fc5b1b0row4_col0\" class=\"data row4 col0\" >9</td> \n",
       "        <td id=\"T_20599d84_2ed7_11e9_8d05_af642fc5b1b0row4_col1\" class=\"data row4 col1\" >92.86</td> \n",
       "        <td id=\"T_20599d84_2ed7_11e9_8d05_af642fc5b1b0row4_col2\" class=\"data row4 col2\" >88.89</td> \n",
       "        <td id=\"T_20599d84_2ed7_11e9_8d05_af642fc5b1b0row4_col3\" class=\"data row4 col3\" >100</td> \n",
       "        <td id=\"T_20599d84_2ed7_11e9_8d05_af642fc5b1b0row4_col4\" class=\"data row4 col4\" >0.94</td> \n",
       "    </tr>    <tr> \n",
       "        <td id=\"T_20599d84_2ed7_11e9_8d05_af642fc5b1b0row5_col0\" class=\"data row5 col0\" >11</td> \n",
       "        <td id=\"T_20599d84_2ed7_11e9_8d05_af642fc5b1b0row5_col1\" class=\"data row5 col1\" >89.29</td> \n",
       "        <td id=\"T_20599d84_2ed7_11e9_8d05_af642fc5b1b0row5_col2\" class=\"data row5 col2\" >83.33</td> \n",
       "        <td id=\"T_20599d84_2ed7_11e9_8d05_af642fc5b1b0row5_col3\" class=\"data row5 col3\" >100</td> \n",
       "        <td id=\"T_20599d84_2ed7_11e9_8d05_af642fc5b1b0row5_col4\" class=\"data row5 col4\" >0.91</td> \n",
       "    </tr>    <tr> \n",
       "        <td id=\"T_20599d84_2ed7_11e9_8d05_af642fc5b1b0row6_col0\" class=\"data row6 col0\" >13</td> \n",
       "        <td id=\"T_20599d84_2ed7_11e9_8d05_af642fc5b1b0row6_col1\" class=\"data row6 col1\" >85.71</td> \n",
       "        <td id=\"T_20599d84_2ed7_11e9_8d05_af642fc5b1b0row6_col2\" class=\"data row6 col2\" >83.33</td> \n",
       "        <td id=\"T_20599d84_2ed7_11e9_8d05_af642fc5b1b0row6_col3\" class=\"data row6 col3\" >93.75</td> \n",
       "        <td id=\"T_20599d84_2ed7_11e9_8d05_af642fc5b1b0row6_col4\" class=\"data row6 col4\" >0.88</td> \n",
       "    </tr>    <tr> \n",
       "        <td id=\"T_20599d84_2ed7_11e9_8d05_af642fc5b1b0row7_col0\" class=\"data row7 col0\" >15</td> \n",
       "        <td id=\"T_20599d84_2ed7_11e9_8d05_af642fc5b1b0row7_col1\" class=\"data row7 col1\" >85.71</td> \n",
       "        <td id=\"T_20599d84_2ed7_11e9_8d05_af642fc5b1b0row7_col2\" class=\"data row7 col2\" >83.33</td> \n",
       "        <td id=\"T_20599d84_2ed7_11e9_8d05_af642fc5b1b0row7_col3\" class=\"data row7 col3\" >93.75</td> \n",
       "        <td id=\"T_20599d84_2ed7_11e9_8d05_af642fc5b1b0row7_col4\" class=\"data row7 col4\" >0.88</td> \n",
       "    </tr></tbody> \n",
       "</table> "
      ],
      "text/plain": [
       "<pandas.io.formats.style.Styler at 0x7f8e7fc2e208>"
      ]
     },
     "execution_count": 28,
     "metadata": {},
     "output_type": "execute_result"
    }
   ],
   "source": [
    "robots_update_distances(\"Euclidean\")\n",
    "\n",
    "x = list(performance_robot[0][\"K\"])\n",
    "y = list(performance_robot[0][\"accuracy (%)\"])\n",
    "\n",
    "fig, ax = plt.subplots(figsize=(10,5))\n",
    "\n",
    "ax.plot(x, y, color=\"purple\", lw=1, ls='-', marker='s', markersize=4, \n",
    "        markerfacecolor=\"yellow\", markeredgewidth=2, markeredgecolor=\"blue\");\n",
    "\n",
    "plt.xticks(x)\n",
    "plt.title(\"Robot1 (Euclidean Distance): Accuracy (%) vs K \")\n",
    "plt.ylabel(\"Accuracy (%)\")\n",
    "plt.xlabel(\"K\")\n",
    "plt.show()\n",
    "\n",
    "performance_robot[0].style.hide_index()\n",
    "# print(tabulate(performance_robot[0], headers='keys', tablefmt='psql', showindex=False))"
   ]
  },
  {
   "cell_type": "markdown",
   "metadata": {},
   "source": [
    "Keeping the value of K very small may lead to erroneous predictions.<br>\n",
    "Alternatively, choosing a large value for K  may lead to a large model bias. <br>\n",
    "Thus, K should be set to a value large enough to minimize the probability of misclassification <br> \n",
    "and small enough so that the K nearest points are closer to the query point."
   ]
  },
  {
   "cell_type": "markdown",
   "metadata": {},
   "source": [
    "### Robot2"
   ]
  },
  {
   "cell_type": "code",
   "execution_count": 29,
   "metadata": {
    "scrolled": false
   },
   "outputs": [
    {
     "data": {
      "image/png": "[encoded data removed]",
      "text/plain": [
       "<Figure size 720x360 with 1 Axes>"
      ]
     },
     "metadata": {
      "needs_background": "light"
     },
     "output_type": "display_data"
    },
    {
     "data": {
      "text/html": [
       "<style  type=\"text/css\" >\n",
       "</style>  \n",
       "<table id=\"T_20d82f46_2ed7_11e9_8d05_af642fc5b1b0\" > \n",
       "<thead>    <tr> \n",
       "        <th class=\"col_heading level0 col0\" >K</th> \n",
       "        <th class=\"col_heading level0 col1\" >accuracy (%)</th> \n",
       "        <th class=\"col_heading level0 col2\" >recall (%)</th> \n",
       "        <th class=\"col_heading level0 col3\" >precision (%)</th> \n",
       "        <th class=\"col_heading level0 col4\" >f1_score</th> \n",
       "    </tr></thead> \n",
       "<tbody>    <tr> \n",
       "        <td id=\"T_20d82f46_2ed7_11e9_8d05_af642fc5b1b0row0_col0\" class=\"data row0 col0\" >1</td> \n",
       "        <td id=\"T_20d82f46_2ed7_11e9_8d05_af642fc5b1b0row0_col1\" class=\"data row0 col1\" >80</td> \n",
       "        <td id=\"T_20d82f46_2ed7_11e9_8d05_af642fc5b1b0row0_col2\" class=\"data row0 col2\" >81.82</td> \n",
       "        <td id=\"T_20d82f46_2ed7_11e9_8d05_af642fc5b1b0row0_col3\" class=\"data row0 col3\" >75</td> \n",
       "        <td id=\"T_20d82f46_2ed7_11e9_8d05_af642fc5b1b0row0_col4\" class=\"data row0 col4\" >0.78</td> \n",
       "    </tr>    <tr> \n",
       "        <td id=\"T_20d82f46_2ed7_11e9_8d05_af642fc5b1b0row1_col0\" class=\"data row1 col0\" >3</td> \n",
       "        <td id=\"T_20d82f46_2ed7_11e9_8d05_af642fc5b1b0row1_col1\" class=\"data row1 col1\" >92</td> \n",
       "        <td id=\"T_20d82f46_2ed7_11e9_8d05_af642fc5b1b0row1_col2\" class=\"data row1 col2\" >81.82</td> \n",
       "        <td id=\"T_20d82f46_2ed7_11e9_8d05_af642fc5b1b0row1_col3\" class=\"data row1 col3\" >100</td> \n",
       "        <td id=\"T_20d82f46_2ed7_11e9_8d05_af642fc5b1b0row1_col4\" class=\"data row1 col4\" >0.9</td> \n",
       "    </tr>    <tr> \n",
       "        <td id=\"T_20d82f46_2ed7_11e9_8d05_af642fc5b1b0row2_col0\" class=\"data row2 col0\" >5</td> \n",
       "        <td id=\"T_20d82f46_2ed7_11e9_8d05_af642fc5b1b0row2_col1\" class=\"data row2 col1\" >88</td> \n",
       "        <td id=\"T_20d82f46_2ed7_11e9_8d05_af642fc5b1b0row2_col2\" class=\"data row2 col2\" >81.82</td> \n",
       "        <td id=\"T_20d82f46_2ed7_11e9_8d05_af642fc5b1b0row2_col3\" class=\"data row2 col3\" >90</td> \n",
       "        <td id=\"T_20d82f46_2ed7_11e9_8d05_af642fc5b1b0row2_col4\" class=\"data row2 col4\" >0.86</td> \n",
       "    </tr>    <tr> \n",
       "        <td id=\"T_20d82f46_2ed7_11e9_8d05_af642fc5b1b0row3_col0\" class=\"data row3 col0\" >7</td> \n",
       "        <td id=\"T_20d82f46_2ed7_11e9_8d05_af642fc5b1b0row3_col1\" class=\"data row3 col1\" >92</td> \n",
       "        <td id=\"T_20d82f46_2ed7_11e9_8d05_af642fc5b1b0row3_col2\" class=\"data row3 col2\" >81.82</td> \n",
       "        <td id=\"T_20d82f46_2ed7_11e9_8d05_af642fc5b1b0row3_col3\" class=\"data row3 col3\" >100</td> \n",
       "        <td id=\"T_20d82f46_2ed7_11e9_8d05_af642fc5b1b0row3_col4\" class=\"data row3 col4\" >0.9</td> \n",
       "    </tr>    <tr> \n",
       "        <td id=\"T_20d82f46_2ed7_11e9_8d05_af642fc5b1b0row4_col0\" class=\"data row4 col0\" >9</td> \n",
       "        <td id=\"T_20d82f46_2ed7_11e9_8d05_af642fc5b1b0row4_col1\" class=\"data row4 col1\" >92</td> \n",
       "        <td id=\"T_20d82f46_2ed7_11e9_8d05_af642fc5b1b0row4_col2\" class=\"data row4 col2\" >81.82</td> \n",
       "        <td id=\"T_20d82f46_2ed7_11e9_8d05_af642fc5b1b0row4_col3\" class=\"data row4 col3\" >100</td> \n",
       "        <td id=\"T_20d82f46_2ed7_11e9_8d05_af642fc5b1b0row4_col4\" class=\"data row4 col4\" >0.9</td> \n",
       "    </tr>    <tr> \n",
       "        <td id=\"T_20d82f46_2ed7_11e9_8d05_af642fc5b1b0row5_col0\" class=\"data row5 col0\" >11</td> \n",
       "        <td id=\"T_20d82f46_2ed7_11e9_8d05_af642fc5b1b0row5_col1\" class=\"data row5 col1\" >84</td> \n",
       "        <td id=\"T_20d82f46_2ed7_11e9_8d05_af642fc5b1b0row5_col2\" class=\"data row5 col2\" >63.64</td> \n",
       "        <td id=\"T_20d82f46_2ed7_11e9_8d05_af642fc5b1b0row5_col3\" class=\"data row5 col3\" >100</td> \n",
       "        <td id=\"T_20d82f46_2ed7_11e9_8d05_af642fc5b1b0row5_col4\" class=\"data row5 col4\" >0.78</td> \n",
       "    </tr>    <tr> \n",
       "        <td id=\"T_20d82f46_2ed7_11e9_8d05_af642fc5b1b0row6_col0\" class=\"data row6 col0\" >13</td> \n",
       "        <td id=\"T_20d82f46_2ed7_11e9_8d05_af642fc5b1b0row6_col1\" class=\"data row6 col1\" >84</td> \n",
       "        <td id=\"T_20d82f46_2ed7_11e9_8d05_af642fc5b1b0row6_col2\" class=\"data row6 col2\" >63.64</td> \n",
       "        <td id=\"T_20d82f46_2ed7_11e9_8d05_af642fc5b1b0row6_col3\" class=\"data row6 col3\" >100</td> \n",
       "        <td id=\"T_20d82f46_2ed7_11e9_8d05_af642fc5b1b0row6_col4\" class=\"data row6 col4\" >0.78</td> \n",
       "    </tr>    <tr> \n",
       "        <td id=\"T_20d82f46_2ed7_11e9_8d05_af642fc5b1b0row7_col0\" class=\"data row7 col0\" >15</td> \n",
       "        <td id=\"T_20d82f46_2ed7_11e9_8d05_af642fc5b1b0row7_col1\" class=\"data row7 col1\" >80</td> \n",
       "        <td id=\"T_20d82f46_2ed7_11e9_8d05_af642fc5b1b0row7_col2\" class=\"data row7 col2\" >63.64</td> \n",
       "        <td id=\"T_20d82f46_2ed7_11e9_8d05_af642fc5b1b0row7_col3\" class=\"data row7 col3\" >87.5</td> \n",
       "        <td id=\"T_20d82f46_2ed7_11e9_8d05_af642fc5b1b0row7_col4\" class=\"data row7 col4\" >0.74</td> \n",
       "    </tr></tbody> \n",
       "</table> "
      ],
      "text/plain": [
       "<pandas.io.formats.style.Styler at 0x7f8e7fc017f0>"
      ]
     },
     "execution_count": 29,
     "metadata": {},
     "output_type": "execute_result"
    }
   ],
   "source": [
    "x = list(performance_robot[1][\"K\"])\n",
    "y = list(performance_robot[1][\"accuracy (%)\"])\n",
    "\n",
    "fig, ax = plt.subplots(figsize=(10,5))\n",
    "\n",
    "ax.plot(x, y, color=\"green\", lw=1, ls='-', marker='s', markersize=4, \n",
    "        markerfacecolor=\"yellow\", markeredgewidth=2, markeredgecolor=\"blue\");\n",
    "\n",
    "plt.xticks(x)\n",
    "plt.title(\"Robot2 (Euclidean Distance): Accuracy (%) vs K\")\n",
    "plt.ylabel(\"Accuracy (%)\")\n",
    "plt.xlabel(\"K\")\n",
    "plt.show()\n",
    "\n",
    "performance_robot[1].style.hide_index()\n",
    "# print(tabulate(performance_robot[1], headers='keys', tablefmt='psql', showindex=False))"
   ]
  },
  {
   "cell_type": "markdown",
   "metadata": {},
   "source": [
    "## Distance Measure :- Minkowski"
   ]
  },
  {
   "cell_type": "markdown",
   "metadata": {},
   "source": [
    "### Robot1"
   ]
  },
  {
   "cell_type": "code",
   "execution_count": 30,
   "metadata": {
    "scrolled": true
   },
   "outputs": [
    {
     "data": {
      "image/png": "[encoded data removed]",
      "text/plain": [
       "<Figure size 720x360 with 1 Axes>"
      ]
     },
     "metadata": {
      "needs_background": "light"
     },
     "output_type": "display_data"
    },
    {
     "data": {
      "text/html": [
       "<style  type=\"text/css\" >\n",
       "</style>  \n",
       "<table id=\"T_22f093f4_2ed7_11e9_8d05_af642fc5b1b0\" > \n",
       "<thead>    <tr> \n",
       "        <th class=\"col_heading level0 col0\" >K</th> \n",
       "        <th class=\"col_heading level0 col1\" >accuracy (%)</th> \n",
       "        <th class=\"col_heading level0 col2\" >recall (%)</th> \n",
       "        <th class=\"col_heading level0 col3\" >precision (%)</th> \n",
       "        <th class=\"col_heading level0 col4\" >f1_score</th> \n",
       "    </tr></thead> \n",
       "<tbody>    <tr> \n",
       "        <td id=\"T_22f093f4_2ed7_11e9_8d05_af642fc5b1b0row0_col0\" class=\"data row0 col0\" >1</td> \n",
       "        <td id=\"T_22f093f4_2ed7_11e9_8d05_af642fc5b1b0row0_col1\" class=\"data row0 col1\" >71.43</td> \n",
       "        <td id=\"T_22f093f4_2ed7_11e9_8d05_af642fc5b1b0row0_col2\" class=\"data row0 col2\" >61.11</td> \n",
       "        <td id=\"T_22f093f4_2ed7_11e9_8d05_af642fc5b1b0row0_col3\" class=\"data row0 col3\" >91.67</td> \n",
       "        <td id=\"T_22f093f4_2ed7_11e9_8d05_af642fc5b1b0row0_col4\" class=\"data row0 col4\" >0.73</td> \n",
       "    </tr>    <tr> \n",
       "        <td id=\"T_22f093f4_2ed7_11e9_8d05_af642fc5b1b0row1_col0\" class=\"data row1 col0\" >3</td> \n",
       "        <td id=\"T_22f093f4_2ed7_11e9_8d05_af642fc5b1b0row1_col1\" class=\"data row1 col1\" >82.14</td> \n",
       "        <td id=\"T_22f093f4_2ed7_11e9_8d05_af642fc5b1b0row1_col2\" class=\"data row1 col2\" >72.22</td> \n",
       "        <td id=\"T_22f093f4_2ed7_11e9_8d05_af642fc5b1b0row1_col3\" class=\"data row1 col3\" >100</td> \n",
       "        <td id=\"T_22f093f4_2ed7_11e9_8d05_af642fc5b1b0row1_col4\" class=\"data row1 col4\" >0.84</td> \n",
       "    </tr>    <tr> \n",
       "        <td id=\"T_22f093f4_2ed7_11e9_8d05_af642fc5b1b0row2_col0\" class=\"data row2 col0\" >5</td> \n",
       "        <td id=\"T_22f093f4_2ed7_11e9_8d05_af642fc5b1b0row2_col1\" class=\"data row2 col1\" >78.57</td> \n",
       "        <td id=\"T_22f093f4_2ed7_11e9_8d05_af642fc5b1b0row2_col2\" class=\"data row2 col2\" >77.78</td> \n",
       "        <td id=\"T_22f093f4_2ed7_11e9_8d05_af642fc5b1b0row2_col3\" class=\"data row2 col3\" >87.5</td> \n",
       "        <td id=\"T_22f093f4_2ed7_11e9_8d05_af642fc5b1b0row2_col4\" class=\"data row2 col4\" >0.82</td> \n",
       "    </tr>    <tr> \n",
       "        <td id=\"T_22f093f4_2ed7_11e9_8d05_af642fc5b1b0row3_col0\" class=\"data row3 col0\" >7</td> \n",
       "        <td id=\"T_22f093f4_2ed7_11e9_8d05_af642fc5b1b0row3_col1\" class=\"data row3 col1\" >96.43</td> \n",
       "        <td id=\"T_22f093f4_2ed7_11e9_8d05_af642fc5b1b0row3_col2\" class=\"data row3 col2\" >94.44</td> \n",
       "        <td id=\"T_22f093f4_2ed7_11e9_8d05_af642fc5b1b0row3_col3\" class=\"data row3 col3\" >100</td> \n",
       "        <td id=\"T_22f093f4_2ed7_11e9_8d05_af642fc5b1b0row3_col4\" class=\"data row3 col4\" >0.97</td> \n",
       "    </tr>    <tr> \n",
       "        <td id=\"T_22f093f4_2ed7_11e9_8d05_af642fc5b1b0row4_col0\" class=\"data row4 col0\" >9</td> \n",
       "        <td id=\"T_22f093f4_2ed7_11e9_8d05_af642fc5b1b0row4_col1\" class=\"data row4 col1\" >92.86</td> \n",
       "        <td id=\"T_22f093f4_2ed7_11e9_8d05_af642fc5b1b0row4_col2\" class=\"data row4 col2\" >88.89</td> \n",
       "        <td id=\"T_22f093f4_2ed7_11e9_8d05_af642fc5b1b0row4_col3\" class=\"data row4 col3\" >100</td> \n",
       "        <td id=\"T_22f093f4_2ed7_11e9_8d05_af642fc5b1b0row4_col4\" class=\"data row4 col4\" >0.94</td> \n",
       "    </tr>    <tr> \n",
       "        <td id=\"T_22f093f4_2ed7_11e9_8d05_af642fc5b1b0row5_col0\" class=\"data row5 col0\" >11</td> \n",
       "        <td id=\"T_22f093f4_2ed7_11e9_8d05_af642fc5b1b0row5_col1\" class=\"data row5 col1\" >89.29</td> \n",
       "        <td id=\"T_22f093f4_2ed7_11e9_8d05_af642fc5b1b0row5_col2\" class=\"data row5 col2\" >83.33</td> \n",
       "        <td id=\"T_22f093f4_2ed7_11e9_8d05_af642fc5b1b0row5_col3\" class=\"data row5 col3\" >100</td> \n",
       "        <td id=\"T_22f093f4_2ed7_11e9_8d05_af642fc5b1b0row5_col4\" class=\"data row5 col4\" >0.91</td> \n",
       "    </tr>    <tr> \n",
       "        <td id=\"T_22f093f4_2ed7_11e9_8d05_af642fc5b1b0row6_col0\" class=\"data row6 col0\" >13</td> \n",
       "        <td id=\"T_22f093f4_2ed7_11e9_8d05_af642fc5b1b0row6_col1\" class=\"data row6 col1\" >85.71</td> \n",
       "        <td id=\"T_22f093f4_2ed7_11e9_8d05_af642fc5b1b0row6_col2\" class=\"data row6 col2\" >83.33</td> \n",
       "        <td id=\"T_22f093f4_2ed7_11e9_8d05_af642fc5b1b0row6_col3\" class=\"data row6 col3\" >93.75</td> \n",
       "        <td id=\"T_22f093f4_2ed7_11e9_8d05_af642fc5b1b0row6_col4\" class=\"data row6 col4\" >0.88</td> \n",
       "    </tr>    <tr> \n",
       "        <td id=\"T_22f093f4_2ed7_11e9_8d05_af642fc5b1b0row7_col0\" class=\"data row7 col0\" >15</td> \n",
       "        <td id=\"T_22f093f4_2ed7_11e9_8d05_af642fc5b1b0row7_col1\" class=\"data row7 col1\" >85.71</td> \n",
       "        <td id=\"T_22f093f4_2ed7_11e9_8d05_af642fc5b1b0row7_col2\" class=\"data row7 col2\" >83.33</td> \n",
       "        <td id=\"T_22f093f4_2ed7_11e9_8d05_af642fc5b1b0row7_col3\" class=\"data row7 col3\" >93.75</td> \n",
       "        <td id=\"T_22f093f4_2ed7_11e9_8d05_af642fc5b1b0row7_col4\" class=\"data row7 col4\" >0.88</td> \n",
       "    </tr></tbody> \n",
       "</table> "
      ],
      "text/plain": [
       "<pandas.io.formats.style.Styler at 0x7f8e7fb7be80>"
      ]
     },
     "execution_count": 30,
     "metadata": {},
     "output_type": "execute_result"
    }
   ],
   "source": [
    "robots_update_distances(\"Minkowski\")\n",
    "\n",
    "x = list(performance_robot[0][\"K\"])\n",
    "y = list(performance_robot[0][\"accuracy (%)\"])\n",
    "\n",
    "fig, ax = plt.subplots(figsize=(10,5))\n",
    "\n",
    "ax.plot(x, y, color=\"purple\", lw=1, ls='-', marker='s', markersize=4, \n",
    "        markerfacecolor=\"yellow\", markeredgewidth=2, markeredgecolor=\"blue\");\n",
    "\n",
    "plt.xticks(x)\n",
    "plt.title(\"Robot1 (Minkowski Distance): Accuracy (%) vs K\")\n",
    "plt.ylabel(\"Accuracy (%)\")\n",
    "plt.xlabel(\"K\")\n",
    "plt.show()\n",
    "\n",
    "performance_robot[0].style.hide_index()\n",
    "# print(tabulate(performance_robot[0], headers='keys', tablefmt='psql', showindex=False))"
   ]
  },
  {
   "cell_type": "markdown",
   "metadata": {},
   "source": [
    "### Robot2"
   ]
  },
  {
   "cell_type": "code",
   "execution_count": 31,
   "metadata": {},
   "outputs": [
    {
     "data": {
      "image/png": "[encoded data removed]",
      "text/plain": [
       "<Figure size 720x360 with 1 Axes>"
      ]
     },
     "metadata": {
      "needs_background": "light"
     },
     "output_type": "display_data"
    },
    {
     "data": {
      "text/html": [
       "<style  type=\"text/css\" >\n",
       "</style>  \n",
       "<table id=\"T_23fbd0f6_2ed7_11e9_8d05_af642fc5b1b0\" > \n",
       "<thead>    <tr> \n",
       "        <th class=\"col_heading level0 col0\" >K</th> \n",
       "        <th class=\"col_heading level0 col1\" >accuracy (%)</th> \n",
       "        <th class=\"col_heading level0 col2\" >recall (%)</th> \n",
       "        <th class=\"col_heading level0 col3\" >precision (%)</th> \n",
       "        <th class=\"col_heading level0 col4\" >f1_score</th> \n",
       "    </tr></thead> \n",
       "<tbody>    <tr> \n",
       "        <td id=\"T_23fbd0f6_2ed7_11e9_8d05_af642fc5b1b0row0_col0\" class=\"data row0 col0\" >1</td> \n",
       "        <td id=\"T_23fbd0f6_2ed7_11e9_8d05_af642fc5b1b0row0_col1\" class=\"data row0 col1\" >80</td> \n",
       "        <td id=\"T_23fbd0f6_2ed7_11e9_8d05_af642fc5b1b0row0_col2\" class=\"data row0 col2\" >81.82</td> \n",
       "        <td id=\"T_23fbd0f6_2ed7_11e9_8d05_af642fc5b1b0row0_col3\" class=\"data row0 col3\" >75</td> \n",
       "        <td id=\"T_23fbd0f6_2ed7_11e9_8d05_af642fc5b1b0row0_col4\" class=\"data row0 col4\" >0.78</td> \n",
       "    </tr>    <tr> \n",
       "        <td id=\"T_23fbd0f6_2ed7_11e9_8d05_af642fc5b1b0row1_col0\" class=\"data row1 col0\" >3</td> \n",
       "        <td id=\"T_23fbd0f6_2ed7_11e9_8d05_af642fc5b1b0row1_col1\" class=\"data row1 col1\" >92</td> \n",
       "        <td id=\"T_23fbd0f6_2ed7_11e9_8d05_af642fc5b1b0row1_col2\" class=\"data row1 col2\" >81.82</td> \n",
       "        <td id=\"T_23fbd0f6_2ed7_11e9_8d05_af642fc5b1b0row1_col3\" class=\"data row1 col3\" >100</td> \n",
       "        <td id=\"T_23fbd0f6_2ed7_11e9_8d05_af642fc5b1b0row1_col4\" class=\"data row1 col4\" >0.9</td> \n",
       "    </tr>    <tr> \n",
       "        <td id=\"T_23fbd0f6_2ed7_11e9_8d05_af642fc5b1b0row2_col0\" class=\"data row2 col0\" >5</td> \n",
       "        <td id=\"T_23fbd0f6_2ed7_11e9_8d05_af642fc5b1b0row2_col1\" class=\"data row2 col1\" >84</td> \n",
       "        <td id=\"T_23fbd0f6_2ed7_11e9_8d05_af642fc5b1b0row2_col2\" class=\"data row2 col2\" >81.82</td> \n",
       "        <td id=\"T_23fbd0f6_2ed7_11e9_8d05_af642fc5b1b0row2_col3\" class=\"data row2 col3\" >81.82</td> \n",
       "        <td id=\"T_23fbd0f6_2ed7_11e9_8d05_af642fc5b1b0row2_col4\" class=\"data row2 col4\" >0.82</td> \n",
       "    </tr>    <tr> \n",
       "        <td id=\"T_23fbd0f6_2ed7_11e9_8d05_af642fc5b1b0row3_col0\" class=\"data row3 col0\" >7</td> \n",
       "        <td id=\"T_23fbd0f6_2ed7_11e9_8d05_af642fc5b1b0row3_col1\" class=\"data row3 col1\" >92</td> \n",
       "        <td id=\"T_23fbd0f6_2ed7_11e9_8d05_af642fc5b1b0row3_col2\" class=\"data row3 col2\" >81.82</td> \n",
       "        <td id=\"T_23fbd0f6_2ed7_11e9_8d05_af642fc5b1b0row3_col3\" class=\"data row3 col3\" >100</td> \n",
       "        <td id=\"T_23fbd0f6_2ed7_11e9_8d05_af642fc5b1b0row3_col4\" class=\"data row3 col4\" >0.9</td> \n",
       "    </tr>    <tr> \n",
       "        <td id=\"T_23fbd0f6_2ed7_11e9_8d05_af642fc5b1b0row4_col0\" class=\"data row4 col0\" >9</td> \n",
       "        <td id=\"T_23fbd0f6_2ed7_11e9_8d05_af642fc5b1b0row4_col1\" class=\"data row4 col1\" >92</td> \n",
       "        <td id=\"T_23fbd0f6_2ed7_11e9_8d05_af642fc5b1b0row4_col2\" class=\"data row4 col2\" >81.82</td> \n",
       "        <td id=\"T_23fbd0f6_2ed7_11e9_8d05_af642fc5b1b0row4_col3\" class=\"data row4 col3\" >100</td> \n",
       "        <td id=\"T_23fbd0f6_2ed7_11e9_8d05_af642fc5b1b0row4_col4\" class=\"data row4 col4\" >0.9</td> \n",
       "    </tr>    <tr> \n",
       "        <td id=\"T_23fbd0f6_2ed7_11e9_8d05_af642fc5b1b0row5_col0\" class=\"data row5 col0\" >11</td> \n",
       "        <td id=\"T_23fbd0f6_2ed7_11e9_8d05_af642fc5b1b0row5_col1\" class=\"data row5 col1\" >84</td> \n",
       "        <td id=\"T_23fbd0f6_2ed7_11e9_8d05_af642fc5b1b0row5_col2\" class=\"data row5 col2\" >63.64</td> \n",
       "        <td id=\"T_23fbd0f6_2ed7_11e9_8d05_af642fc5b1b0row5_col3\" class=\"data row5 col3\" >100</td> \n",
       "        <td id=\"T_23fbd0f6_2ed7_11e9_8d05_af642fc5b1b0row5_col4\" class=\"data row5 col4\" >0.78</td> \n",
       "    </tr>    <tr> \n",
       "        <td id=\"T_23fbd0f6_2ed7_11e9_8d05_af642fc5b1b0row6_col0\" class=\"data row6 col0\" >13</td> \n",
       "        <td id=\"T_23fbd0f6_2ed7_11e9_8d05_af642fc5b1b0row6_col1\" class=\"data row6 col1\" >84</td> \n",
       "        <td id=\"T_23fbd0f6_2ed7_11e9_8d05_af642fc5b1b0row6_col2\" class=\"data row6 col2\" >63.64</td> \n",
       "        <td id=\"T_23fbd0f6_2ed7_11e9_8d05_af642fc5b1b0row6_col3\" class=\"data row6 col3\" >100</td> \n",
       "        <td id=\"T_23fbd0f6_2ed7_11e9_8d05_af642fc5b1b0row6_col4\" class=\"data row6 col4\" >0.78</td> \n",
       "    </tr>    <tr> \n",
       "        <td id=\"T_23fbd0f6_2ed7_11e9_8d05_af642fc5b1b0row7_col0\" class=\"data row7 col0\" >15</td> \n",
       "        <td id=\"T_23fbd0f6_2ed7_11e9_8d05_af642fc5b1b0row7_col1\" class=\"data row7 col1\" >80</td> \n",
       "        <td id=\"T_23fbd0f6_2ed7_11e9_8d05_af642fc5b1b0row7_col2\" class=\"data row7 col2\" >63.64</td> \n",
       "        <td id=\"T_23fbd0f6_2ed7_11e9_8d05_af642fc5b1b0row7_col3\" class=\"data row7 col3\" >87.5</td> \n",
       "        <td id=\"T_23fbd0f6_2ed7_11e9_8d05_af642fc5b1b0row7_col4\" class=\"data row7 col4\" >0.74</td> \n",
       "    </tr></tbody> \n",
       "</table> "
      ],
      "text/plain": [
       "<pandas.io.formats.style.Styler at 0x7f8e7fb99ef0>"
      ]
     },
     "execution_count": 31,
     "metadata": {},
     "output_type": "execute_result"
    }
   ],
   "source": [
    "x = list(performance_robot[1][\"K\"])\n",
    "y = list(performance_robot[1][\"accuracy (%)\"])\n",
    "\n",
    "fig, ax = plt.subplots(figsize=(10,5))\n",
    "\n",
    "ax.plot(x, y, color=\"green\", lw=1, ls='-', marker='s', markersize=4, \n",
    "        markerfacecolor=\"yellow\", markeredgewidth=2, markeredgecolor=\"blue\");\n",
    "\n",
    "plt.xticks(x)\n",
    "plt.title(\"Robot2 (Minkowski Distance): Accuracy (%) vs K\")\n",
    "plt.ylabel(\"Accuracy (%)\")\n",
    "plt.xlabel(\"K\")\n",
    "plt.show()\n",
    "\n",
    "performance_robot[1].style.hide_index()\n",
    "# print(tabulate(performance_robot[1], headers='keys', tablefmt='psql', showindex=False))"
   ]
  },
  {
   "cell_type": "markdown",
   "metadata": {},
   "source": [
    "## Distance Measure :- Manhattan"
   ]
  },
  {
   "cell_type": "markdown",
   "metadata": {},
   "source": [
    "### Robot1"
   ]
  },
  {
   "cell_type": "code",
   "execution_count": 32,
   "metadata": {
    "scrolled": true
   },
   "outputs": [
    {
     "data": {
      "image/png": "[encoded data removed]",
      "text/plain": [
       "<Figure size 720x360 with 1 Axes>"
      ]
     },
     "metadata": {
      "needs_background": "light"
     },
     "output_type": "display_data"
    },
    {
     "data": {
      "text/html": [
       "<style  type=\"text/css\" >\n",
       "</style>  \n",
       "<table id=\"T_27bd8c84_2ed7_11e9_8d05_af642fc5b1b0\" > \n",
       "<thead>    <tr> \n",
       "        <th class=\"col_heading level0 col0\" >K</th> \n",
       "        <th class=\"col_heading level0 col1\" >accuracy (%)</th> \n",
       "        <th class=\"col_heading level0 col2\" >recall (%)</th> \n",
       "        <th class=\"col_heading level0 col3\" >precision (%)</th> \n",
       "        <th class=\"col_heading level0 col4\" >f1_score</th> \n",
       "    </tr></thead> \n",
       "<tbody>    <tr> \n",
       "        <td id=\"T_27bd8c84_2ed7_11e9_8d05_af642fc5b1b0row0_col0\" class=\"data row0 col0\" >1</td> \n",
       "        <td id=\"T_27bd8c84_2ed7_11e9_8d05_af642fc5b1b0row0_col1\" class=\"data row0 col1\" >71.43</td> \n",
       "        <td id=\"T_27bd8c84_2ed7_11e9_8d05_af642fc5b1b0row0_col2\" class=\"data row0 col2\" >61.11</td> \n",
       "        <td id=\"T_27bd8c84_2ed7_11e9_8d05_af642fc5b1b0row0_col3\" class=\"data row0 col3\" >91.67</td> \n",
       "        <td id=\"T_27bd8c84_2ed7_11e9_8d05_af642fc5b1b0row0_col4\" class=\"data row0 col4\" >0.73</td> \n",
       "    </tr>    <tr> \n",
       "        <td id=\"T_27bd8c84_2ed7_11e9_8d05_af642fc5b1b0row1_col0\" class=\"data row1 col0\" >3</td> \n",
       "        <td id=\"T_27bd8c84_2ed7_11e9_8d05_af642fc5b1b0row1_col1\" class=\"data row1 col1\" >82.14</td> \n",
       "        <td id=\"T_27bd8c84_2ed7_11e9_8d05_af642fc5b1b0row1_col2\" class=\"data row1 col2\" >72.22</td> \n",
       "        <td id=\"T_27bd8c84_2ed7_11e9_8d05_af642fc5b1b0row1_col3\" class=\"data row1 col3\" >100</td> \n",
       "        <td id=\"T_27bd8c84_2ed7_11e9_8d05_af642fc5b1b0row1_col4\" class=\"data row1 col4\" >0.84</td> \n",
       "    </tr>    <tr> \n",
       "        <td id=\"T_27bd8c84_2ed7_11e9_8d05_af642fc5b1b0row2_col0\" class=\"data row2 col0\" >5</td> \n",
       "        <td id=\"T_27bd8c84_2ed7_11e9_8d05_af642fc5b1b0row2_col1\" class=\"data row2 col1\" >78.57</td> \n",
       "        <td id=\"T_27bd8c84_2ed7_11e9_8d05_af642fc5b1b0row2_col2\" class=\"data row2 col2\" >77.78</td> \n",
       "        <td id=\"T_27bd8c84_2ed7_11e9_8d05_af642fc5b1b0row2_col3\" class=\"data row2 col3\" >87.5</td> \n",
       "        <td id=\"T_27bd8c84_2ed7_11e9_8d05_af642fc5b1b0row2_col4\" class=\"data row2 col4\" >0.82</td> \n",
       "    </tr>    <tr> \n",
       "        <td id=\"T_27bd8c84_2ed7_11e9_8d05_af642fc5b1b0row3_col0\" class=\"data row3 col0\" >7</td> \n",
       "        <td id=\"T_27bd8c84_2ed7_11e9_8d05_af642fc5b1b0row3_col1\" class=\"data row3 col1\" >96.43</td> \n",
       "        <td id=\"T_27bd8c84_2ed7_11e9_8d05_af642fc5b1b0row3_col2\" class=\"data row3 col2\" >94.44</td> \n",
       "        <td id=\"T_27bd8c84_2ed7_11e9_8d05_af642fc5b1b0row3_col3\" class=\"data row3 col3\" >100</td> \n",
       "        <td id=\"T_27bd8c84_2ed7_11e9_8d05_af642fc5b1b0row3_col4\" class=\"data row3 col4\" >0.97</td> \n",
       "    </tr>    <tr> \n",
       "        <td id=\"T_27bd8c84_2ed7_11e9_8d05_af642fc5b1b0row4_col0\" class=\"data row4 col0\" >9</td> \n",
       "        <td id=\"T_27bd8c84_2ed7_11e9_8d05_af642fc5b1b0row4_col1\" class=\"data row4 col1\" >89.29</td> \n",
       "        <td id=\"T_27bd8c84_2ed7_11e9_8d05_af642fc5b1b0row4_col2\" class=\"data row4 col2\" >83.33</td> \n",
       "        <td id=\"T_27bd8c84_2ed7_11e9_8d05_af642fc5b1b0row4_col3\" class=\"data row4 col3\" >100</td> \n",
       "        <td id=\"T_27bd8c84_2ed7_11e9_8d05_af642fc5b1b0row4_col4\" class=\"data row4 col4\" >0.91</td> \n",
       "    </tr>    <tr> \n",
       "        <td id=\"T_27bd8c84_2ed7_11e9_8d05_af642fc5b1b0row5_col0\" class=\"data row5 col0\" >11</td> \n",
       "        <td id=\"T_27bd8c84_2ed7_11e9_8d05_af642fc5b1b0row5_col1\" class=\"data row5 col1\" >82.14</td> \n",
       "        <td id=\"T_27bd8c84_2ed7_11e9_8d05_af642fc5b1b0row5_col2\" class=\"data row5 col2\" >72.22</td> \n",
       "        <td id=\"T_27bd8c84_2ed7_11e9_8d05_af642fc5b1b0row5_col3\" class=\"data row5 col3\" >100</td> \n",
       "        <td id=\"T_27bd8c84_2ed7_11e9_8d05_af642fc5b1b0row5_col4\" class=\"data row5 col4\" >0.84</td> \n",
       "    </tr>    <tr> \n",
       "        <td id=\"T_27bd8c84_2ed7_11e9_8d05_af642fc5b1b0row6_col0\" class=\"data row6 col0\" >13</td> \n",
       "        <td id=\"T_27bd8c84_2ed7_11e9_8d05_af642fc5b1b0row6_col1\" class=\"data row6 col1\" >75</td> \n",
       "        <td id=\"T_27bd8c84_2ed7_11e9_8d05_af642fc5b1b0row6_col2\" class=\"data row6 col2\" >66.67</td> \n",
       "        <td id=\"T_27bd8c84_2ed7_11e9_8d05_af642fc5b1b0row6_col3\" class=\"data row6 col3\" >92.31</td> \n",
       "        <td id=\"T_27bd8c84_2ed7_11e9_8d05_af642fc5b1b0row6_col4\" class=\"data row6 col4\" >0.77</td> \n",
       "    </tr>    <tr> \n",
       "        <td id=\"T_27bd8c84_2ed7_11e9_8d05_af642fc5b1b0row7_col0\" class=\"data row7 col0\" >15</td> \n",
       "        <td id=\"T_27bd8c84_2ed7_11e9_8d05_af642fc5b1b0row7_col1\" class=\"data row7 col1\" >78.57</td> \n",
       "        <td id=\"T_27bd8c84_2ed7_11e9_8d05_af642fc5b1b0row7_col2\" class=\"data row7 col2\" >72.22</td> \n",
       "        <td id=\"T_27bd8c84_2ed7_11e9_8d05_af642fc5b1b0row7_col3\" class=\"data row7 col3\" >92.86</td> \n",
       "        <td id=\"T_27bd8c84_2ed7_11e9_8d05_af642fc5b1b0row7_col4\" class=\"data row7 col4\" >0.81</td> \n",
       "    </tr></tbody> \n",
       "</table> "
      ],
      "text/plain": [
       "<pandas.io.formats.style.Styler at 0x7f8e7fc889e8>"
      ]
     },
     "execution_count": 32,
     "metadata": {},
     "output_type": "execute_result"
    }
   ],
   "source": [
    "robots_update_distances(\"Manhattan\")\n",
    "\n",
    "x = list(performance_robot[0][\"K\"])\n",
    "y = list(performance_robot[0][\"accuracy (%)\"])\n",
    "\n",
    "fig, ax = plt.subplots(figsize=(10,5))\n",
    "\n",
    "ax.plot(x, y, color=\"purple\", lw=1, ls='-', marker='s', markersize=4, \n",
    "        markerfacecolor=\"yellow\", markeredgewidth=2, markeredgecolor=\"blue\");\n",
    "\n",
    "plt.xticks(x)\n",
    "plt.title(\"Robot1 (Manhattan Distance): Accuracy (%) vs K\")\n",
    "plt.ylabel(\"Accuracy (%)\")\n",
    "plt.xlabel(\"K\")\n",
    "plt.show()\n",
    "\n",
    "performance_robot[0].style.hide_index()\n",
    "# print(tabulate(performance_robot[0], headers='keys', tablefmt='psql', showindex=False))"
   ]
  },
  {
   "cell_type": "markdown",
   "metadata": {},
   "source": [
    "### Robot2"
   ]
  },
  {
   "cell_type": "code",
   "execution_count": 33,
   "metadata": {
    "scrolled": true
   },
   "outputs": [
    {
     "data": {
      "image/png": "[encoded data removed]",
      "text/plain": [
       "<Figure size 720x360 with 1 Axes>"
      ]
     },
     "metadata": {
      "needs_background": "light"
     },
     "output_type": "display_data"
    },
    {
     "data": {
      "text/html": [
       "<style  type=\"text/css\" >\n",
       "</style>  \n",
       "<table id=\"T_28e87970_2ed7_11e9_8d05_af642fc5b1b0\" > \n",
       "<thead>    <tr> \n",
       "        <th class=\"col_heading level0 col0\" >K</th> \n",
       "        <th class=\"col_heading level0 col1\" >accuracy (%)</th> \n",
       "        <th class=\"col_heading level0 col2\" >recall (%)</th> \n",
       "        <th class=\"col_heading level0 col3\" >precision (%)</th> \n",
       "        <th class=\"col_heading level0 col4\" >f1_score</th> \n",
       "    </tr></thead> \n",
       "<tbody>    <tr> \n",
       "        <td id=\"T_28e87970_2ed7_11e9_8d05_af642fc5b1b0row0_col0\" class=\"data row0 col0\" >1</td> \n",
       "        <td id=\"T_28e87970_2ed7_11e9_8d05_af642fc5b1b0row0_col1\" class=\"data row0 col1\" >84</td> \n",
       "        <td id=\"T_28e87970_2ed7_11e9_8d05_af642fc5b1b0row0_col2\" class=\"data row0 col2\" >72.73</td> \n",
       "        <td id=\"T_28e87970_2ed7_11e9_8d05_af642fc5b1b0row0_col3\" class=\"data row0 col3\" >88.89</td> \n",
       "        <td id=\"T_28e87970_2ed7_11e9_8d05_af642fc5b1b0row0_col4\" class=\"data row0 col4\" >0.8</td> \n",
       "    </tr>    <tr> \n",
       "        <td id=\"T_28e87970_2ed7_11e9_8d05_af642fc5b1b0row1_col0\" class=\"data row1 col0\" >3</td> \n",
       "        <td id=\"T_28e87970_2ed7_11e9_8d05_af642fc5b1b0row1_col1\" class=\"data row1 col1\" >88</td> \n",
       "        <td id=\"T_28e87970_2ed7_11e9_8d05_af642fc5b1b0row1_col2\" class=\"data row1 col2\" >81.82</td> \n",
       "        <td id=\"T_28e87970_2ed7_11e9_8d05_af642fc5b1b0row1_col3\" class=\"data row1 col3\" >90</td> \n",
       "        <td id=\"T_28e87970_2ed7_11e9_8d05_af642fc5b1b0row1_col4\" class=\"data row1 col4\" >0.86</td> \n",
       "    </tr>    <tr> \n",
       "        <td id=\"T_28e87970_2ed7_11e9_8d05_af642fc5b1b0row2_col0\" class=\"data row2 col0\" >5</td> \n",
       "        <td id=\"T_28e87970_2ed7_11e9_8d05_af642fc5b1b0row2_col1\" class=\"data row2 col1\" >84</td> \n",
       "        <td id=\"T_28e87970_2ed7_11e9_8d05_af642fc5b1b0row2_col2\" class=\"data row2 col2\" >72.73</td> \n",
       "        <td id=\"T_28e87970_2ed7_11e9_8d05_af642fc5b1b0row2_col3\" class=\"data row2 col3\" >88.89</td> \n",
       "        <td id=\"T_28e87970_2ed7_11e9_8d05_af642fc5b1b0row2_col4\" class=\"data row2 col4\" >0.8</td> \n",
       "    </tr>    <tr> \n",
       "        <td id=\"T_28e87970_2ed7_11e9_8d05_af642fc5b1b0row3_col0\" class=\"data row3 col0\" >7</td> \n",
       "        <td id=\"T_28e87970_2ed7_11e9_8d05_af642fc5b1b0row3_col1\" class=\"data row3 col1\" >88</td> \n",
       "        <td id=\"T_28e87970_2ed7_11e9_8d05_af642fc5b1b0row3_col2\" class=\"data row3 col2\" >81.82</td> \n",
       "        <td id=\"T_28e87970_2ed7_11e9_8d05_af642fc5b1b0row3_col3\" class=\"data row3 col3\" >90</td> \n",
       "        <td id=\"T_28e87970_2ed7_11e9_8d05_af642fc5b1b0row3_col4\" class=\"data row3 col4\" >0.86</td> \n",
       "    </tr>    <tr> \n",
       "        <td id=\"T_28e87970_2ed7_11e9_8d05_af642fc5b1b0row4_col0\" class=\"data row4 col0\" >9</td> \n",
       "        <td id=\"T_28e87970_2ed7_11e9_8d05_af642fc5b1b0row4_col1\" class=\"data row4 col1\" >88</td> \n",
       "        <td id=\"T_28e87970_2ed7_11e9_8d05_af642fc5b1b0row4_col2\" class=\"data row4 col2\" >81.82</td> \n",
       "        <td id=\"T_28e87970_2ed7_11e9_8d05_af642fc5b1b0row4_col3\" class=\"data row4 col3\" >90</td> \n",
       "        <td id=\"T_28e87970_2ed7_11e9_8d05_af642fc5b1b0row4_col4\" class=\"data row4 col4\" >0.86</td> \n",
       "    </tr>    <tr> \n",
       "        <td id=\"T_28e87970_2ed7_11e9_8d05_af642fc5b1b0row5_col0\" class=\"data row5 col0\" >11</td> \n",
       "        <td id=\"T_28e87970_2ed7_11e9_8d05_af642fc5b1b0row5_col1\" class=\"data row5 col1\" >88</td> \n",
       "        <td id=\"T_28e87970_2ed7_11e9_8d05_af642fc5b1b0row5_col2\" class=\"data row5 col2\" >81.82</td> \n",
       "        <td id=\"T_28e87970_2ed7_11e9_8d05_af642fc5b1b0row5_col3\" class=\"data row5 col3\" >90</td> \n",
       "        <td id=\"T_28e87970_2ed7_11e9_8d05_af642fc5b1b0row5_col4\" class=\"data row5 col4\" >0.86</td> \n",
       "    </tr>    <tr> \n",
       "        <td id=\"T_28e87970_2ed7_11e9_8d05_af642fc5b1b0row6_col0\" class=\"data row6 col0\" >13</td> \n",
       "        <td id=\"T_28e87970_2ed7_11e9_8d05_af642fc5b1b0row6_col1\" class=\"data row6 col1\" >84</td> \n",
       "        <td id=\"T_28e87970_2ed7_11e9_8d05_af642fc5b1b0row6_col2\" class=\"data row6 col2\" >81.82</td> \n",
       "        <td id=\"T_28e87970_2ed7_11e9_8d05_af642fc5b1b0row6_col3\" class=\"data row6 col3\" >81.82</td> \n",
       "        <td id=\"T_28e87970_2ed7_11e9_8d05_af642fc5b1b0row6_col4\" class=\"data row6 col4\" >0.82</td> \n",
       "    </tr>    <tr> \n",
       "        <td id=\"T_28e87970_2ed7_11e9_8d05_af642fc5b1b0row7_col0\" class=\"data row7 col0\" >15</td> \n",
       "        <td id=\"T_28e87970_2ed7_11e9_8d05_af642fc5b1b0row7_col1\" class=\"data row7 col1\" >76</td> \n",
       "        <td id=\"T_28e87970_2ed7_11e9_8d05_af642fc5b1b0row7_col2\" class=\"data row7 col2\" >72.73</td> \n",
       "        <td id=\"T_28e87970_2ed7_11e9_8d05_af642fc5b1b0row7_col3\" class=\"data row7 col3\" >72.73</td> \n",
       "        <td id=\"T_28e87970_2ed7_11e9_8d05_af642fc5b1b0row7_col4\" class=\"data row7 col4\" >0.73</td> \n",
       "    </tr></tbody> \n",
       "</table> "
      ],
      "text/plain": [
       "<pandas.io.formats.style.Styler at 0x7f8e7fd56a20>"
      ]
     },
     "execution_count": 33,
     "metadata": {},
     "output_type": "execute_result"
    }
   ],
   "source": [
    "x = list(performance_robot[1][\"K\"])\n",
    "y = list(performance_robot[1][\"accuracy (%)\"])\n",
    "\n",
    "fig, ax = plt.subplots(figsize=(10,5))\n",
    "\n",
    "ax.plot(x, y, color=\"green\", lw=1, ls='-', marker='s', markersize=4, \n",
    "        markerfacecolor=\"yellow\", markeredgewidth=2, markeredgecolor=\"blue\");\n",
    "\n",
    "plt.xticks(x)\n",
    "plt.title(\"Robot2 (Manhattan Distance): Accuracy (%) vs K\")\n",
    "plt.ylabel(\"Accuracy (%)\")\n",
    "plt.xlabel(\"K\")\n",
    "plt.show()\n",
    "\n",
    "performance_robot[1].style.hide_index()\n",
    "# print(tabulate(performance_robot[1], headers='keys', tablefmt='psql', showindex=False))"
   ]
  },
  {
   "cell_type": "markdown",
   "metadata": {},
   "source": [
    "# Q-1-2-1, Q-1-2-2: Iris"
   ]
  },
  {
   "cell_type": "markdown",
   "metadata": {},
   "source": [
    "## Reading Data"
   ]
  },
  {
   "cell_type": "code",
   "execution_count": 34,
   "metadata": {},
   "outputs": [],
   "source": [
    "data_iris = pd.read_csv(\"../input_data/Iris/Iris.csv\", header=None)\n",
    "data_iris.columns = ['sepal_length', 'sepal_width', 'petal_length', 'petal width', 'class']\n",
    "# Random Selection of 80% Training Data and 20% Validation Data\n",
    "msk = np.random.rand(len(data_robot[1])) < 0.8\n",
    "training_data_robot.append(data_robot[1][msk].reset_index(drop=True))\n",
    "validation_data_robot.append(data_robot[1][~msk].reset_index(drop=True))\n",
    "\n",
    "# Selecting first 80% as Training Data and remaining as Validation Data\n",
    "# training_data_iris, validation_data_iris= np.split(data_iris, [int(.8*len(data_iris))])\n",
    "# validation_data_iris = validation_data_iris.reset_index(drop=True)"
   ]
  },
  {
   "cell_type": "markdown",
   "metadata": {},
   "source": [
    "## Utility Functions"
   ]
  },
  {
   "cell_type": "code",
   "execution_count": 35,
   "metadata": {},
   "outputs": [],
   "source": [
    "distances_list_iris = []\n",
    "\n",
    "def iris_get_distances(test_sample, training_data, distance_measure):\n",
    "    distances = []\n",
    "    p = 1\n",
    "    if distance_measure == \"Euclidean\":\n",
    "        p = 2\n",
    "    elif distance_measure == \"Minkowski\":\n",
    "        p = 5\n",
    "\n",
    "    columns = training_data.columns\n",
    "    for index, row in training_data.iterrows():\n",
    "        dist = 0\n",
    "        for col in columns[:-1]:\n",
    "            d = abs(test_sample[col] - row[col])\n",
    "            dist += pow(d, p)\n",
    "        distances.append(((dist ** (1./p)), row['class']))\n",
    "\n",
    "    distances = sorted(distances, key = operator.itemgetter(0))\n",
    "    distances_list_iris.append(distances)"
   ]
  },
  {
   "cell_type": "code",
   "execution_count": 36,
   "metadata": {},
   "outputs": [],
   "source": [
    "def iris_kNN_validation(distances_list, validation_data, k):\n",
    "    TP = 0; FP = 0; TN = 0; FN = 0;\n",
    "    correct = 0;\n",
    "\n",
    "    actual_labels = []\n",
    "    predicted_labels = []\n",
    "\n",
    "    nColumns = len(validation_data.columns)\n",
    "    for index, validation_sample in validation_data.iterrows():\n",
    "        distances = distances_list[index]\n",
    "\n",
    "        labels_count = {}\n",
    "        for i in range(k):\n",
    "            if distances[i][1] not in labels_count:\n",
    "                labels_count[distances[i][1]] = 1\n",
    "            else:\n",
    "                labels_count[distances[i][1]] += 1\n",
    "        \n",
    "        prediction = max(labels_count.items(), key=operator.itemgetter(1))[0]\n",
    "        \n",
    "        actual_labels.append(validation_sample[nColumns-1])\n",
    "        predicted_labels.append(prediction)\n",
    "\n",
    "    y_actu = pd.Series(actual_labels, name='Actual')\n",
    "    y_pred = pd.Series(predicted_labels, name='Predicted')\n",
    "    df_confusion = pd.crosstab(y_actu, y_pred, margins=True)\n",
    "    \n",
    "    labels_names = training_data_iris['class'].unique()\n",
    "    precision = {}\n",
    "    recall = {}\n",
    "    f1_score = {}\n",
    "    for label in labels_names:\n",
    "        correct += df_confusion[label][label]\n",
    "        _precision = float(df_confusion[label][label]) / df_confusion['All'][label]\n",
    "        precision[label] = round(_precision * 100, 2)\n",
    "        _recall = float(df_confusion[label][label]) / df_confusion[label]['All']\n",
    "        recall[label] = round(_recall * 100, 2)\n",
    "\n",
    "        if _recall == 0.0:\n",
    "            _recall = eps\n",
    "        if _precision == 0.0:\n",
    "            _precision = eps\n",
    "\n",
    "        f1_score[label] = round((2 / ((1/_recall) + (1/_precision))), 2)\n",
    "\n",
    "    accuracy = round((float(correct) / df_confusion['All']['All']) * 100, 2)\n",
    "    return (accuracy, precision, recall, f1_score)"
   ]
  },
  {
   "cell_type": "code",
   "execution_count": 37,
   "metadata": {},
   "outputs": [],
   "source": [
    "performance_iris = None\n",
    "\n",
    "def iris_update_distances(distance_measure):\n",
    "    global distances_list_iris\n",
    "    distances_list_iris = []\n",
    "    for index, validation_sample in validation_data_iris.iterrows():\n",
    "        iris_get_distances(validation_sample, training_data_iris, distance_measure)\n",
    "\n",
    "    global performance_iris\n",
    "    performance_iris = pd.DataFrame(columns=['K', 'accuracy (%)'])\n",
    "\n",
    "    for k in range(1, 16, 2):\n",
    "        accuracy, precision, recall, f1_score = iris_kNN_validation(distances_list_iris, validation_data_iris, k)\n",
    "        performance_iris = performance_iris.append(pd.DataFrame([[k, accuracy, recall, precision, f1_score]], columns=['K', 'accuracy (%)', 'precision (%)', 'recall (%)', 'f1_score']), ignore_index=True)"
   ]
  },
  {
   "cell_type": "markdown",
   "metadata": {},
   "source": [
    "## Distance Measure :- Euclidean"
   ]
  },
  {
   "cell_type": "code",
   "execution_count": 38,
   "metadata": {},
   "outputs": [
    {
     "data": {
      "image/png": "[encoded data removed]",
      "text/plain": [
       "<Figure size 720x360 with 1 Axes>"
      ]
     },
     "metadata": {
      "needs_background": "light"
     },
     "output_type": "display_data"
    },
    {
     "data": {
      "text/html": [
       "<style  type=\"text/css\" >\n",
       "</style>  \n",
       "<table id=\"T_36f47b18_2ed7_11e9_8d05_af642fc5b1b0\" > \n",
       "<thead>    <tr> \n",
       "        <th class=\"col_heading level0 col0\" >K</th> \n",
       "        <th class=\"col_heading level0 col1\" >accuracy (%)</th> \n",
       "        <th class=\"col_heading level0 col2\" >f1_score</th> \n",
       "        <th class=\"col_heading level0 col3\" >precision (%)</th> \n",
       "        <th class=\"col_heading level0 col4\" >recall (%)</th> \n",
       "    </tr></thead> \n",
       "<tbody>    <tr> \n",
       "        <td id=\"T_36f47b18_2ed7_11e9_8d05_af642fc5b1b0row0_col0\" class=\"data row0 col0\" >1</td> \n",
       "        <td id=\"T_36f47b18_2ed7_11e9_8d05_af642fc5b1b0row0_col1\" class=\"data row0 col1\" >96.3</td> \n",
       "        <td id=\"T_36f47b18_2ed7_11e9_8d05_af642fc5b1b0row0_col2\" class=\"data row0 col2\" >{'Iris-setosa': 1.0, 'Iris-virginica': 0.92, 'Iris-versicolor': 0.95}</td> \n",
       "        <td id=\"T_36f47b18_2ed7_11e9_8d05_af642fc5b1b0row0_col3\" class=\"data row0 col3\" >{'Iris-setosa': 100.0, 'Iris-virginica': 85.71, 'Iris-versicolor': 100.0}</td> \n",
       "        <td id=\"T_36f47b18_2ed7_11e9_8d05_af642fc5b1b0row0_col4\" class=\"data row0 col4\" >{'Iris-setosa': 100.0, 'Iris-virginica': 100.0, 'Iris-versicolor': 90.0}</td> \n",
       "    </tr>    <tr> \n",
       "        <td id=\"T_36f47b18_2ed7_11e9_8d05_af642fc5b1b0row1_col0\" class=\"data row1 col0\" >3</td> \n",
       "        <td id=\"T_36f47b18_2ed7_11e9_8d05_af642fc5b1b0row1_col1\" class=\"data row1 col1\" >96.3</td> \n",
       "        <td id=\"T_36f47b18_2ed7_11e9_8d05_af642fc5b1b0row1_col2\" class=\"data row1 col2\" >{'Iris-setosa': 1.0, 'Iris-virginica': 0.92, 'Iris-versicolor': 0.95}</td> \n",
       "        <td id=\"T_36f47b18_2ed7_11e9_8d05_af642fc5b1b0row1_col3\" class=\"data row1 col3\" >{'Iris-setosa': 100.0, 'Iris-virginica': 85.71, 'Iris-versicolor': 100.0}</td> \n",
       "        <td id=\"T_36f47b18_2ed7_11e9_8d05_af642fc5b1b0row1_col4\" class=\"data row1 col4\" >{'Iris-setosa': 100.0, 'Iris-virginica': 100.0, 'Iris-versicolor': 90.0}</td> \n",
       "    </tr>    <tr> \n",
       "        <td id=\"T_36f47b18_2ed7_11e9_8d05_af642fc5b1b0row2_col0\" class=\"data row2 col0\" >5</td> \n",
       "        <td id=\"T_36f47b18_2ed7_11e9_8d05_af642fc5b1b0row2_col1\" class=\"data row2 col1\" >96.3</td> \n",
       "        <td id=\"T_36f47b18_2ed7_11e9_8d05_af642fc5b1b0row2_col2\" class=\"data row2 col2\" >{'Iris-setosa': 1.0, 'Iris-virginica': 0.92, 'Iris-versicolor': 0.95}</td> \n",
       "        <td id=\"T_36f47b18_2ed7_11e9_8d05_af642fc5b1b0row2_col3\" class=\"data row2 col3\" >{'Iris-setosa': 100.0, 'Iris-virginica': 85.71, 'Iris-versicolor': 100.0}</td> \n",
       "        <td id=\"T_36f47b18_2ed7_11e9_8d05_af642fc5b1b0row2_col4\" class=\"data row2 col4\" >{'Iris-setosa': 100.0, 'Iris-virginica': 100.0, 'Iris-versicolor': 90.0}</td> \n",
       "    </tr>    <tr> \n",
       "        <td id=\"T_36f47b18_2ed7_11e9_8d05_af642fc5b1b0row3_col0\" class=\"data row3 col0\" >7</td> \n",
       "        <td id=\"T_36f47b18_2ed7_11e9_8d05_af642fc5b1b0row3_col1\" class=\"data row3 col1\" >96.3</td> \n",
       "        <td id=\"T_36f47b18_2ed7_11e9_8d05_af642fc5b1b0row3_col2\" class=\"data row3 col2\" >{'Iris-setosa': 1.0, 'Iris-virginica': 0.92, 'Iris-versicolor': 0.95}</td> \n",
       "        <td id=\"T_36f47b18_2ed7_11e9_8d05_af642fc5b1b0row3_col3\" class=\"data row3 col3\" >{'Iris-setosa': 100.0, 'Iris-virginica': 85.71, 'Iris-versicolor': 100.0}</td> \n",
       "        <td id=\"T_36f47b18_2ed7_11e9_8d05_af642fc5b1b0row3_col4\" class=\"data row3 col4\" >{'Iris-setosa': 100.0, 'Iris-virginica': 100.0, 'Iris-versicolor': 90.0}</td> \n",
       "    </tr>    <tr> \n",
       "        <td id=\"T_36f47b18_2ed7_11e9_8d05_af642fc5b1b0row4_col0\" class=\"data row4 col0\" >9</td> \n",
       "        <td id=\"T_36f47b18_2ed7_11e9_8d05_af642fc5b1b0row4_col1\" class=\"data row4 col1\" >100</td> \n",
       "        <td id=\"T_36f47b18_2ed7_11e9_8d05_af642fc5b1b0row4_col2\" class=\"data row4 col2\" >{'Iris-setosa': 1.0, 'Iris-virginica': 1.0, 'Iris-versicolor': 1.0}</td> \n",
       "        <td id=\"T_36f47b18_2ed7_11e9_8d05_af642fc5b1b0row4_col3\" class=\"data row4 col3\" >{'Iris-setosa': 100.0, 'Iris-virginica': 100.0, 'Iris-versicolor': 100.0}</td> \n",
       "        <td id=\"T_36f47b18_2ed7_11e9_8d05_af642fc5b1b0row4_col4\" class=\"data row4 col4\" >{'Iris-setosa': 100.0, 'Iris-virginica': 100.0, 'Iris-versicolor': 100.0}</td> \n",
       "    </tr>    <tr> \n",
       "        <td id=\"T_36f47b18_2ed7_11e9_8d05_af642fc5b1b0row5_col0\" class=\"data row5 col0\" >11</td> \n",
       "        <td id=\"T_36f47b18_2ed7_11e9_8d05_af642fc5b1b0row5_col1\" class=\"data row5 col1\" >100</td> \n",
       "        <td id=\"T_36f47b18_2ed7_11e9_8d05_af642fc5b1b0row5_col2\" class=\"data row5 col2\" >{'Iris-setosa': 1.0, 'Iris-virginica': 1.0, 'Iris-versicolor': 1.0}</td> \n",
       "        <td id=\"T_36f47b18_2ed7_11e9_8d05_af642fc5b1b0row5_col3\" class=\"data row5 col3\" >{'Iris-setosa': 100.0, 'Iris-virginica': 100.0, 'Iris-versicolor': 100.0}</td> \n",
       "        <td id=\"T_36f47b18_2ed7_11e9_8d05_af642fc5b1b0row5_col4\" class=\"data row5 col4\" >{'Iris-setosa': 100.0, 'Iris-virginica': 100.0, 'Iris-versicolor': 100.0}</td> \n",
       "    </tr>    <tr> \n",
       "        <td id=\"T_36f47b18_2ed7_11e9_8d05_af642fc5b1b0row6_col0\" class=\"data row6 col0\" >13</td> \n",
       "        <td id=\"T_36f47b18_2ed7_11e9_8d05_af642fc5b1b0row6_col1\" class=\"data row6 col1\" >92.59</td> \n",
       "        <td id=\"T_36f47b18_2ed7_11e9_8d05_af642fc5b1b0row6_col2\" class=\"data row6 col2\" >{'Iris-setosa': 1.0, 'Iris-virginica': 0.86, 'Iris-versicolor': 0.89}</td> \n",
       "        <td id=\"T_36f47b18_2ed7_11e9_8d05_af642fc5b1b0row6_col3\" class=\"data row6 col3\" >{'Iris-setosa': 100.0, 'Iris-virginica': 75.0, 'Iris-versicolor': 100.0}</td> \n",
       "        <td id=\"T_36f47b18_2ed7_11e9_8d05_af642fc5b1b0row6_col4\" class=\"data row6 col4\" >{'Iris-setosa': 100.0, 'Iris-virginica': 100.0, 'Iris-versicolor': 80.0}</td> \n",
       "    </tr>    <tr> \n",
       "        <td id=\"T_36f47b18_2ed7_11e9_8d05_af642fc5b1b0row7_col0\" class=\"data row7 col0\" >15</td> \n",
       "        <td id=\"T_36f47b18_2ed7_11e9_8d05_af642fc5b1b0row7_col1\" class=\"data row7 col1\" >92.59</td> \n",
       "        <td id=\"T_36f47b18_2ed7_11e9_8d05_af642fc5b1b0row7_col2\" class=\"data row7 col2\" >{'Iris-setosa': 1.0, 'Iris-virginica': 0.86, 'Iris-versicolor': 0.89}</td> \n",
       "        <td id=\"T_36f47b18_2ed7_11e9_8d05_af642fc5b1b0row7_col3\" class=\"data row7 col3\" >{'Iris-setosa': 100.0, 'Iris-virginica': 75.0, 'Iris-versicolor': 100.0}</td> \n",
       "        <td id=\"T_36f47b18_2ed7_11e9_8d05_af642fc5b1b0row7_col4\" class=\"data row7 col4\" >{'Iris-setosa': 100.0, 'Iris-virginica': 100.0, 'Iris-versicolor': 80.0}</td> \n",
       "    </tr></tbody> \n",
       "</table> "
      ],
      "text/plain": [
       "<pandas.io.formats.style.Styler at 0x7f8e8060e908>"
      ]
     },
     "execution_count": 38,
     "metadata": {},
     "output_type": "execute_result"
    }
   ],
   "source": [
    "iris_update_distances(\"Euclidean\")\n",
    "\n",
    "x = list(performance_iris[\"K\"])\n",
    "y = list(performance_iris[\"accuracy (%)\"])\n",
    "\n",
    "fig, ax = plt.subplots(figsize=(10,5))\n",
    "\n",
    "ax.plot(x, y, color=\"purple\", lw=1, ls='-', marker='s', markersize=4, \n",
    "        markerfacecolor=\"yellow\", markeredgewidth=2, markeredgecolor=\"blue\");\n",
    "\n",
    "plt.xticks(x)\n",
    "plt.title(\"Iris (Euclidean Distance): Accuracy (%) vs K \")\n",
    "plt.ylabel(\"Accuracy (%)\")\n",
    "plt.xlabel(\"K\")\n",
    "plt.show()\n",
    "\n",
    "performance_iris.style.hide_index()"
   ]
  },
  {
   "cell_type": "markdown",
   "metadata": {},
   "source": [
    "## Distance Measure :- Minkowski"
   ]
  },
  {
   "cell_type": "code",
   "execution_count": 21,
   "metadata": {},
   "outputs": [
    {
     "data": {
      "image/png": "[encoded data removed]",
      "text/plain": [
       "<Figure size 720x360 with 1 Axes>"
      ]
     },
     "metadata": {
      "needs_background": "light"
     },
     "output_type": "display_data"
    },
    {
     "data": {
      "text/html": [
       "<style  type=\"text/css\" >\n",
       "</style>  \n",
       "<table id=\"T_9cd45362_2ed3_11e9_8d05_af642fc5b1b0\" > \n",
       "<thead>    <tr> \n",
       "        <th class=\"col_heading level0 col0\" >K</th> \n",
       "        <th class=\"col_heading level0 col1\" >accuracy (%)</th> \n",
       "        <th class=\"col_heading level0 col2\" >f1_score</th> \n",
       "        <th class=\"col_heading level0 col3\" >precision (%)</th> \n",
       "        <th class=\"col_heading level0 col4\" >recall (%)</th> \n",
       "    </tr></thead> \n",
       "<tbody>    <tr> \n",
       "        <td id=\"T_9cd45362_2ed3_11e9_8d05_af642fc5b1b0row0_col0\" class=\"data row0 col0\" >1</td> \n",
       "        <td id=\"T_9cd45362_2ed3_11e9_8d05_af642fc5b1b0row0_col1\" class=\"data row0 col1\" >96.3</td> \n",
       "        <td id=\"T_9cd45362_2ed3_11e9_8d05_af642fc5b1b0row0_col2\" class=\"data row0 col2\" >{'Iris-setosa': 1.0, 'Iris-virginica': 0.92, 'Iris-versicolor': 0.95}</td> \n",
       "        <td id=\"T_9cd45362_2ed3_11e9_8d05_af642fc5b1b0row0_col3\" class=\"data row0 col3\" >{'Iris-setosa': 100.0, 'Iris-virginica': 85.71, 'Iris-versicolor': 100.0}</td> \n",
       "        <td id=\"T_9cd45362_2ed3_11e9_8d05_af642fc5b1b0row0_col4\" class=\"data row0 col4\" >{'Iris-setosa': 100.0, 'Iris-virginica': 100.0, 'Iris-versicolor': 90.0}</td> \n",
       "    </tr>    <tr> \n",
       "        <td id=\"T_9cd45362_2ed3_11e9_8d05_af642fc5b1b0row1_col0\" class=\"data row1 col0\" >3</td> \n",
       "        <td id=\"T_9cd45362_2ed3_11e9_8d05_af642fc5b1b0row1_col1\" class=\"data row1 col1\" >96.3</td> \n",
       "        <td id=\"T_9cd45362_2ed3_11e9_8d05_af642fc5b1b0row1_col2\" class=\"data row1 col2\" >{'Iris-setosa': 1.0, 'Iris-virginica': 0.92, 'Iris-versicolor': 0.95}</td> \n",
       "        <td id=\"T_9cd45362_2ed3_11e9_8d05_af642fc5b1b0row1_col3\" class=\"data row1 col3\" >{'Iris-setosa': 100.0, 'Iris-virginica': 85.71, 'Iris-versicolor': 100.0}</td> \n",
       "        <td id=\"T_9cd45362_2ed3_11e9_8d05_af642fc5b1b0row1_col4\" class=\"data row1 col4\" >{'Iris-setosa': 100.0, 'Iris-virginica': 100.0, 'Iris-versicolor': 90.0}</td> \n",
       "    </tr>    <tr> \n",
       "        <td id=\"T_9cd45362_2ed3_11e9_8d05_af642fc5b1b0row2_col0\" class=\"data row2 col0\" >5</td> \n",
       "        <td id=\"T_9cd45362_2ed3_11e9_8d05_af642fc5b1b0row2_col1\" class=\"data row2 col1\" >96.3</td> \n",
       "        <td id=\"T_9cd45362_2ed3_11e9_8d05_af642fc5b1b0row2_col2\" class=\"data row2 col2\" >{'Iris-setosa': 1.0, 'Iris-virginica': 0.92, 'Iris-versicolor': 0.95}</td> \n",
       "        <td id=\"T_9cd45362_2ed3_11e9_8d05_af642fc5b1b0row2_col3\" class=\"data row2 col3\" >{'Iris-setosa': 100.0, 'Iris-virginica': 85.71, 'Iris-versicolor': 100.0}</td> \n",
       "        <td id=\"T_9cd45362_2ed3_11e9_8d05_af642fc5b1b0row2_col4\" class=\"data row2 col4\" >{'Iris-setosa': 100.0, 'Iris-virginica': 100.0, 'Iris-versicolor': 90.0}</td> \n",
       "    </tr>    <tr> \n",
       "        <td id=\"T_9cd45362_2ed3_11e9_8d05_af642fc5b1b0row3_col0\" class=\"data row3 col0\" >7</td> \n",
       "        <td id=\"T_9cd45362_2ed3_11e9_8d05_af642fc5b1b0row3_col1\" class=\"data row3 col1\" >100</td> \n",
       "        <td id=\"T_9cd45362_2ed3_11e9_8d05_af642fc5b1b0row3_col2\" class=\"data row3 col2\" >{'Iris-setosa': 1.0, 'Iris-virginica': 1.0, 'Iris-versicolor': 1.0}</td> \n",
       "        <td id=\"T_9cd45362_2ed3_11e9_8d05_af642fc5b1b0row3_col3\" class=\"data row3 col3\" >{'Iris-setosa': 100.0, 'Iris-virginica': 100.0, 'Iris-versicolor': 100.0}</td> \n",
       "        <td id=\"T_9cd45362_2ed3_11e9_8d05_af642fc5b1b0row3_col4\" class=\"data row3 col4\" >{'Iris-setosa': 100.0, 'Iris-virginica': 100.0, 'Iris-versicolor': 100.0}</td> \n",
       "    </tr>    <tr> \n",
       "        <td id=\"T_9cd45362_2ed3_11e9_8d05_af642fc5b1b0row4_col0\" class=\"data row4 col0\" >9</td> \n",
       "        <td id=\"T_9cd45362_2ed3_11e9_8d05_af642fc5b1b0row4_col1\" class=\"data row4 col1\" >100</td> \n",
       "        <td id=\"T_9cd45362_2ed3_11e9_8d05_af642fc5b1b0row4_col2\" class=\"data row4 col2\" >{'Iris-setosa': 1.0, 'Iris-virginica': 1.0, 'Iris-versicolor': 1.0}</td> \n",
       "        <td id=\"T_9cd45362_2ed3_11e9_8d05_af642fc5b1b0row4_col3\" class=\"data row4 col3\" >{'Iris-setosa': 100.0, 'Iris-virginica': 100.0, 'Iris-versicolor': 100.0}</td> \n",
       "        <td id=\"T_9cd45362_2ed3_11e9_8d05_af642fc5b1b0row4_col4\" class=\"data row4 col4\" >{'Iris-setosa': 100.0, 'Iris-virginica': 100.0, 'Iris-versicolor': 100.0}</td> \n",
       "    </tr>    <tr> \n",
       "        <td id=\"T_9cd45362_2ed3_11e9_8d05_af642fc5b1b0row5_col0\" class=\"data row5 col0\" >11</td> \n",
       "        <td id=\"T_9cd45362_2ed3_11e9_8d05_af642fc5b1b0row5_col1\" class=\"data row5 col1\" >100</td> \n",
       "        <td id=\"T_9cd45362_2ed3_11e9_8d05_af642fc5b1b0row5_col2\" class=\"data row5 col2\" >{'Iris-setosa': 1.0, 'Iris-virginica': 1.0, 'Iris-versicolor': 1.0}</td> \n",
       "        <td id=\"T_9cd45362_2ed3_11e9_8d05_af642fc5b1b0row5_col3\" class=\"data row5 col3\" >{'Iris-setosa': 100.0, 'Iris-virginica': 100.0, 'Iris-versicolor': 100.0}</td> \n",
       "        <td id=\"T_9cd45362_2ed3_11e9_8d05_af642fc5b1b0row5_col4\" class=\"data row5 col4\" >{'Iris-setosa': 100.0, 'Iris-virginica': 100.0, 'Iris-versicolor': 100.0}</td> \n",
       "    </tr>    <tr> \n",
       "        <td id=\"T_9cd45362_2ed3_11e9_8d05_af642fc5b1b0row6_col0\" class=\"data row6 col0\" >13</td> \n",
       "        <td id=\"T_9cd45362_2ed3_11e9_8d05_af642fc5b1b0row6_col1\" class=\"data row6 col1\" >96.3</td> \n",
       "        <td id=\"T_9cd45362_2ed3_11e9_8d05_af642fc5b1b0row6_col2\" class=\"data row6 col2\" >{'Iris-setosa': 1.0, 'Iris-virginica': 0.92, 'Iris-versicolor': 0.95}</td> \n",
       "        <td id=\"T_9cd45362_2ed3_11e9_8d05_af642fc5b1b0row6_col3\" class=\"data row6 col3\" >{'Iris-setosa': 100.0, 'Iris-virginica': 85.71, 'Iris-versicolor': 100.0}</td> \n",
       "        <td id=\"T_9cd45362_2ed3_11e9_8d05_af642fc5b1b0row6_col4\" class=\"data row6 col4\" >{'Iris-setosa': 100.0, 'Iris-virginica': 100.0, 'Iris-versicolor': 90.0}</td> \n",
       "    </tr>    <tr> \n",
       "        <td id=\"T_9cd45362_2ed3_11e9_8d05_af642fc5b1b0row7_col0\" class=\"data row7 col0\" >15</td> \n",
       "        <td id=\"T_9cd45362_2ed3_11e9_8d05_af642fc5b1b0row7_col1\" class=\"data row7 col1\" >100</td> \n",
       "        <td id=\"T_9cd45362_2ed3_11e9_8d05_af642fc5b1b0row7_col2\" class=\"data row7 col2\" >{'Iris-setosa': 1.0, 'Iris-virginica': 1.0, 'Iris-versicolor': 1.0}</td> \n",
       "        <td id=\"T_9cd45362_2ed3_11e9_8d05_af642fc5b1b0row7_col3\" class=\"data row7 col3\" >{'Iris-setosa': 100.0, 'Iris-virginica': 100.0, 'Iris-versicolor': 100.0}</td> \n",
       "        <td id=\"T_9cd45362_2ed3_11e9_8d05_af642fc5b1b0row7_col4\" class=\"data row7 col4\" >{'Iris-setosa': 100.0, 'Iris-virginica': 100.0, 'Iris-versicolor': 100.0}</td> \n",
       "    </tr></tbody> \n",
       "</table> "
      ],
      "text/plain": [
       "<pandas.io.formats.style.Styler at 0x7f8e7fe9b860>"
      ]
     },
     "execution_count": 21,
     "metadata": {},
     "output_type": "execute_result"
    }
   ],
   "source": [
    "iris_update_distances(\"Minkowski\")\n",
    "\n",
    "x = list(performance_iris[\"K\"])\n",
    "y = list(performance_iris[\"accuracy (%)\"])\n",
    "\n",
    "fig, ax = plt.subplots(figsize=(10,5))\n",
    "\n",
    "ax.plot(x, y, color=\"purple\", lw=1, ls='-', marker='s', markersize=4, \n",
    "        markerfacecolor=\"yellow\", markeredgewidth=2, markeredgecolor=\"blue\");\n",
    "\n",
    "plt.xticks(x)\n",
    "plt.title(\"Iris (Minkowski Distance): Accuracy (%) vs K \")\n",
    "plt.ylabel(\"Accuracy (%)\")\n",
    "plt.xlabel(\"K\")\n",
    "plt.show()\n",
    "\n",
    "performance_iris.style.hide_index()"
   ]
  },
  {
   "cell_type": "markdown",
   "metadata": {},
   "source": [
    "## Distance Measure :- Manhattan"
   ]
  },
  {
   "cell_type": "code",
   "execution_count": 22,
   "metadata": {
    "scrolled": true
   },
   "outputs": [
    {
     "data": {
      "image/png": "[encoded data removed]",
      "text/plain": [
       "<Figure size 720x360 with 1 Axes>"
      ]
     },
     "metadata": {
      "needs_background": "light"
     },
     "output_type": "display_data"
    },
    {
     "data": {
      "text/html": [
       "<style  type=\"text/css\" >\n",
       "</style>  \n",
       "<table id=\"T_9e31d0fe_2ed3_11e9_8d05_af642fc5b1b0\" > \n",
       "<thead>    <tr> \n",
       "        <th class=\"col_heading level0 col0\" >K</th> \n",
       "        <th class=\"col_heading level0 col1\" >accuracy (%)</th> \n",
       "        <th class=\"col_heading level0 col2\" >f1_score</th> \n",
       "        <th class=\"col_heading level0 col3\" >precision (%)</th> \n",
       "        <th class=\"col_heading level0 col4\" >recall (%)</th> \n",
       "    </tr></thead> \n",
       "<tbody>    <tr> \n",
       "        <td id=\"T_9e31d0fe_2ed3_11e9_8d05_af642fc5b1b0row0_col0\" class=\"data row0 col0\" >1</td> \n",
       "        <td id=\"T_9e31d0fe_2ed3_11e9_8d05_af642fc5b1b0row0_col1\" class=\"data row0 col1\" >96.3</td> \n",
       "        <td id=\"T_9e31d0fe_2ed3_11e9_8d05_af642fc5b1b0row0_col2\" class=\"data row0 col2\" >{'Iris-setosa': 1.0, 'Iris-virginica': 0.92, 'Iris-versicolor': 0.95}</td> \n",
       "        <td id=\"T_9e31d0fe_2ed3_11e9_8d05_af642fc5b1b0row0_col3\" class=\"data row0 col3\" >{'Iris-setosa': 100.0, 'Iris-virginica': 85.71, 'Iris-versicolor': 100.0}</td> \n",
       "        <td id=\"T_9e31d0fe_2ed3_11e9_8d05_af642fc5b1b0row0_col4\" class=\"data row0 col4\" >{'Iris-setosa': 100.0, 'Iris-virginica': 100.0, 'Iris-versicolor': 90.0}</td> \n",
       "    </tr>    <tr> \n",
       "        <td id=\"T_9e31d0fe_2ed3_11e9_8d05_af642fc5b1b0row1_col0\" class=\"data row1 col0\" >3</td> \n",
       "        <td id=\"T_9e31d0fe_2ed3_11e9_8d05_af642fc5b1b0row1_col1\" class=\"data row1 col1\" >96.3</td> \n",
       "        <td id=\"T_9e31d0fe_2ed3_11e9_8d05_af642fc5b1b0row1_col2\" class=\"data row1 col2\" >{'Iris-setosa': 1.0, 'Iris-virginica': 0.92, 'Iris-versicolor': 0.95}</td> \n",
       "        <td id=\"T_9e31d0fe_2ed3_11e9_8d05_af642fc5b1b0row1_col3\" class=\"data row1 col3\" >{'Iris-setosa': 100.0, 'Iris-virginica': 85.71, 'Iris-versicolor': 100.0}</td> \n",
       "        <td id=\"T_9e31d0fe_2ed3_11e9_8d05_af642fc5b1b0row1_col4\" class=\"data row1 col4\" >{'Iris-setosa': 100.0, 'Iris-virginica': 100.0, 'Iris-versicolor': 90.0}</td> \n",
       "    </tr>    <tr> \n",
       "        <td id=\"T_9e31d0fe_2ed3_11e9_8d05_af642fc5b1b0row2_col0\" class=\"data row2 col0\" >5</td> \n",
       "        <td id=\"T_9e31d0fe_2ed3_11e9_8d05_af642fc5b1b0row2_col1\" class=\"data row2 col1\" >92.59</td> \n",
       "        <td id=\"T_9e31d0fe_2ed3_11e9_8d05_af642fc5b1b0row2_col2\" class=\"data row2 col2\" >{'Iris-setosa': 1.0, 'Iris-virginica': 0.86, 'Iris-versicolor': 0.89}</td> \n",
       "        <td id=\"T_9e31d0fe_2ed3_11e9_8d05_af642fc5b1b0row2_col3\" class=\"data row2 col3\" >{'Iris-setosa': 100.0, 'Iris-virginica': 75.0, 'Iris-versicolor': 100.0}</td> \n",
       "        <td id=\"T_9e31d0fe_2ed3_11e9_8d05_af642fc5b1b0row2_col4\" class=\"data row2 col4\" >{'Iris-setosa': 100.0, 'Iris-virginica': 100.0, 'Iris-versicolor': 80.0}</td> \n",
       "    </tr>    <tr> \n",
       "        <td id=\"T_9e31d0fe_2ed3_11e9_8d05_af642fc5b1b0row3_col0\" class=\"data row3 col0\" >7</td> \n",
       "        <td id=\"T_9e31d0fe_2ed3_11e9_8d05_af642fc5b1b0row3_col1\" class=\"data row3 col1\" >92.59</td> \n",
       "        <td id=\"T_9e31d0fe_2ed3_11e9_8d05_af642fc5b1b0row3_col2\" class=\"data row3 col2\" >{'Iris-setosa': 1.0, 'Iris-virginica': 0.86, 'Iris-versicolor': 0.89}</td> \n",
       "        <td id=\"T_9e31d0fe_2ed3_11e9_8d05_af642fc5b1b0row3_col3\" class=\"data row3 col3\" >{'Iris-setosa': 100.0, 'Iris-virginica': 75.0, 'Iris-versicolor': 100.0}</td> \n",
       "        <td id=\"T_9e31d0fe_2ed3_11e9_8d05_af642fc5b1b0row3_col4\" class=\"data row3 col4\" >{'Iris-setosa': 100.0, 'Iris-virginica': 100.0, 'Iris-versicolor': 80.0}</td> \n",
       "    </tr>    <tr> \n",
       "        <td id=\"T_9e31d0fe_2ed3_11e9_8d05_af642fc5b1b0row4_col0\" class=\"data row4 col0\" >9</td> \n",
       "        <td id=\"T_9e31d0fe_2ed3_11e9_8d05_af642fc5b1b0row4_col1\" class=\"data row4 col1\" >96.3</td> \n",
       "        <td id=\"T_9e31d0fe_2ed3_11e9_8d05_af642fc5b1b0row4_col2\" class=\"data row4 col2\" >{'Iris-setosa': 1.0, 'Iris-virginica': 0.92, 'Iris-versicolor': 0.95}</td> \n",
       "        <td id=\"T_9e31d0fe_2ed3_11e9_8d05_af642fc5b1b0row4_col3\" class=\"data row4 col3\" >{'Iris-setosa': 100.0, 'Iris-virginica': 85.71, 'Iris-versicolor': 100.0}</td> \n",
       "        <td id=\"T_9e31d0fe_2ed3_11e9_8d05_af642fc5b1b0row4_col4\" class=\"data row4 col4\" >{'Iris-setosa': 100.0, 'Iris-virginica': 100.0, 'Iris-versicolor': 90.0}</td> \n",
       "    </tr>    <tr> \n",
       "        <td id=\"T_9e31d0fe_2ed3_11e9_8d05_af642fc5b1b0row5_col0\" class=\"data row5 col0\" >11</td> \n",
       "        <td id=\"T_9e31d0fe_2ed3_11e9_8d05_af642fc5b1b0row5_col1\" class=\"data row5 col1\" >92.59</td> \n",
       "        <td id=\"T_9e31d0fe_2ed3_11e9_8d05_af642fc5b1b0row5_col2\" class=\"data row5 col2\" >{'Iris-setosa': 1.0, 'Iris-virginica': 0.86, 'Iris-versicolor': 0.89}</td> \n",
       "        <td id=\"T_9e31d0fe_2ed3_11e9_8d05_af642fc5b1b0row5_col3\" class=\"data row5 col3\" >{'Iris-setosa': 100.0, 'Iris-virginica': 75.0, 'Iris-versicolor': 100.0}</td> \n",
       "        <td id=\"T_9e31d0fe_2ed3_11e9_8d05_af642fc5b1b0row5_col4\" class=\"data row5 col4\" >{'Iris-setosa': 100.0, 'Iris-virginica': 100.0, 'Iris-versicolor': 80.0}</td> \n",
       "    </tr>    <tr> \n",
       "        <td id=\"T_9e31d0fe_2ed3_11e9_8d05_af642fc5b1b0row6_col0\" class=\"data row6 col0\" >13</td> \n",
       "        <td id=\"T_9e31d0fe_2ed3_11e9_8d05_af642fc5b1b0row6_col1\" class=\"data row6 col1\" >92.59</td> \n",
       "        <td id=\"T_9e31d0fe_2ed3_11e9_8d05_af642fc5b1b0row6_col2\" class=\"data row6 col2\" >{'Iris-setosa': 1.0, 'Iris-virginica': 0.86, 'Iris-versicolor': 0.89}</td> \n",
       "        <td id=\"T_9e31d0fe_2ed3_11e9_8d05_af642fc5b1b0row6_col3\" class=\"data row6 col3\" >{'Iris-setosa': 100.0, 'Iris-virginica': 75.0, 'Iris-versicolor': 100.0}</td> \n",
       "        <td id=\"T_9e31d0fe_2ed3_11e9_8d05_af642fc5b1b0row6_col4\" class=\"data row6 col4\" >{'Iris-setosa': 100.0, 'Iris-virginica': 100.0, 'Iris-versicolor': 80.0}</td> \n",
       "    </tr>    <tr> \n",
       "        <td id=\"T_9e31d0fe_2ed3_11e9_8d05_af642fc5b1b0row7_col0\" class=\"data row7 col0\" >15</td> \n",
       "        <td id=\"T_9e31d0fe_2ed3_11e9_8d05_af642fc5b1b0row7_col1\" class=\"data row7 col1\" >92.59</td> \n",
       "        <td id=\"T_9e31d0fe_2ed3_11e9_8d05_af642fc5b1b0row7_col2\" class=\"data row7 col2\" >{'Iris-setosa': 1.0, 'Iris-virginica': 0.86, 'Iris-versicolor': 0.89}</td> \n",
       "        <td id=\"T_9e31d0fe_2ed3_11e9_8d05_af642fc5b1b0row7_col3\" class=\"data row7 col3\" >{'Iris-setosa': 100.0, 'Iris-virginica': 75.0, 'Iris-versicolor': 100.0}</td> \n",
       "        <td id=\"T_9e31d0fe_2ed3_11e9_8d05_af642fc5b1b0row7_col4\" class=\"data row7 col4\" >{'Iris-setosa': 100.0, 'Iris-virginica': 100.0, 'Iris-versicolor': 80.0}</td> \n",
       "    </tr></tbody> \n",
       "</table> "
      ],
      "text/plain": [
       "<pandas.io.formats.style.Styler at 0x7f8e7fcaa780>"
      ]
     },
     "execution_count": 22,
     "metadata": {},
     "output_type": "execute_result"
    }
   ],
   "source": [
    "iris_update_distances(\"Manhattan\")\n",
    "\n",
    "x = list(performance_iris[\"K\"])\n",
    "y = list(performance_iris[\"accuracy (%)\"])\n",
    "\n",
    "fig, ax = plt.subplots(figsize=(10,5))\n",
    "\n",
    "ax.plot(x, y, color=\"purple\", lw=1, ls='-', marker='s', markersize=4, \n",
    "        markerfacecolor=\"yellow\", markeredgewidth=2, markeredgecolor=\"blue\");\n",
    "\n",
    "plt.xticks(x)\n",
    "plt.title(\"Iris (Minkowski Distance): Accuracy (%) vs K \")\n",
    "plt.ylabel(\"Accuracy (%)\")\n",
    "plt.xlabel(\"K\")\n",
    "plt.show()\n",
    "\n",
    "performance_iris.style.hide_index()"
   ]
  }
 ],
 "metadata": {
  "kernelspec": {
   "display_name": "Python 3",
   "language": "python",
   "name": "python3"
  },
  "language_info": {
   "codemirror_mode": {
    "name": "ipython",
    "version": 3
   },
   "file_extension": ".py",
   "mimetype": "text/x-python",
   "name": "python",
   "nbconvert_exporter": "python",
   "pygments_lexer": "ipython3",
   "version": "3.7.1"
  }
 },
 "nbformat": 4,
 "nbformat_minor": 2
}
