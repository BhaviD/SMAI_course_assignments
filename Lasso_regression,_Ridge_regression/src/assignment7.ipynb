{
 "cells": [
  {
   "cell_type": "markdown",
   "metadata": {},
   "source": [
    "## Initial Imports"
   ]
  },
  {
   "cell_type": "code",
   "execution_count": 4,
   "metadata": {},
   "outputs": [],
   "source": [
    "import numpy as np\n",
    "import pandas as pd\n",
    "import matplotlib.pyplot as plt\n",
    "import ipdb\n",
    "from pylab import *\n",
    "import pprint\n",
    "import sys\n",
    "\n",
    "from sklearn.model_selection import KFold "
   ]
  },
  {
   "cell_type": "markdown",
   "metadata": {},
   "source": [
    "## Reading Data"
   ]
  },
  {
   "cell_type": "code",
   "execution_count": 5,
   "metadata": {},
   "outputs": [],
   "source": [
    "data = pd.read_csv(\"../input_data/AdmissionDataset/data.csv\")"
   ]
  },
  {
   "cell_type": "code",
   "execution_count": 6,
   "metadata": {},
   "outputs": [],
   "source": [
    "# removing last two columns as their values are in the range [0, 1]\n",
    "normalized_data = data.iloc[:, :-2]\n",
    "\n",
    "# remove \"Serial No.\" column\n",
    "normalized_data.drop(['Serial No.'], axis = 1, inplace = True)\n",
    "\n",
    "normalized_data = (normalized_data - normalized_data.mean())/normalized_data.std()\n",
    "\n",
    "# Append the last two columns again\n",
    "normalized_data[[\"Research\", \"Chance of Admit\"]] = data[[\"Research\", \"Chance of Admit\"]]"
   ]
  },
  {
   "cell_type": "code",
   "execution_count": 7,
   "metadata": {},
   "outputs": [],
   "source": [
    "# Splitting in 80-20 ratio\n",
    "train, validate = np.split(normalized_data,[int(.8*len(normalized_data))])\n",
    "train = train.reset_index(drop = True)\n",
    "validate = validate.reset_index(drop = True)\n",
    "\n",
    "# For Random Splitting\n",
    "# data=data.sample(frac=1).reset_index(drop=True)\n",
    "# train, validate = np.split(data, [int(.8*len(data))])\n",
    "\n",
    "# train"
   ]
  },
  {
   "cell_type": "code",
   "execution_count": 8,
   "metadata": {},
   "outputs": [],
   "source": [
    "Class = \"Chance of Admit\""
   ]
  },
  {
   "cell_type": "code",
   "execution_count": 9,
   "metadata": {},
   "outputs": [],
   "source": [
    "# Assign all the attributes columns as a matrix to X\n",
    "X_train = train.iloc[:, :-1]\n",
    "\n",
    "# Concatenate an array of ones to X\n",
    "ones = np.ones([X_train.shape[0],1])\n",
    "X_train = np.concatenate((ones, X_train),axis=1)\n",
    "\n",
    "# Assign the last column to Y.\n",
    "Y_train = np.array([train.iloc[:, -1].values]).T    # .T for transpose"
   ]
  },
  {
   "cell_type": "code",
   "execution_count": 10,
   "metadata": {},
   "outputs": [],
   "source": [
    "# Assign all the attributes columns as a matrix to X\n",
    "X_validate = validate.iloc[:, :-1]\n",
    "\n",
    "# Concatenate an array of ones to X\n",
    "ones = np.ones([X_validate.shape[0],1])\n",
    "X_validate = np.concatenate((ones, X_validate),axis=1)\n",
    "\n",
    "# Assign the last column to Y.\n",
    "Y_validate = np.array([validate.iloc[:, -1].values]).T    # .T for transpose"
   ]
  },
  {
   "cell_type": "code",
   "execution_count": 11,
   "metadata": {},
   "outputs": [],
   "source": [
    "# Learning rate\n",
    "alpha = 0.01"
   ]
  },
  {
   "cell_type": "code",
   "execution_count": 12,
   "metadata": {},
   "outputs": [],
   "source": [
    "def mse(X, Y, theta):\n",
    "    errors = (X @ theta.T) - Y\n",
    "    square_errors = np.power(errors, 2)\n",
    "    return errors, square_errors, (np.sum(square_errors) / (2 * len(X)))"
   ]
  },
  {
   "cell_type": "code",
   "execution_count": 17,
   "metadata": {},
   "outputs": [],
   "source": [
    "def plot(max_lambda, cost_train, cost_validate, reg_type):\n",
    "    fig, ax = plt.subplots(figsize=(12,6))\n",
    "    plt.title(reg_type) \n",
    "    ax.plot(range(max_lambda+1), cost_train, color=\"Blue\", lw=1, ls='-',label = 'Training Error');\n",
    "    ax.plot(range(max_lambda+1), cost_validate, color=\"Red\", lw=1, ls='-',label = 'Validation Error');\n",
    "    plt.xlabel(\"Lambda\")\n",
    "    plt.ylabel(\"Error\")\n",
    "    plt.legend()\n",
    "    plt.show()"
   ]
  },
  {
   "cell_type": "markdown",
   "metadata": {},
   "source": [
    "## Part-1: LASSO Regression (L1 Regularization)\n",
    "## (Least Absolute Shrinkage and Selection Operator)"
   ]
  },
  {
   "cell_type": "code",
   "execution_count": 18,
   "metadata": {},
   "outputs": [],
   "source": [
    "def lasso_gradient_descent(X, Y, nIterations, alpha, lmbda):\n",
    "    # Initialize theta as an array of zeros.\n",
    "    theta = np.zeros([1, X.shape[1]])\n",
    "\n",
    "    for i in range(nIterations):\n",
    "        theta0 = theta[:, 0]\n",
    "        theta1_n = theta[:, 1:]\n",
    "\n",
    "        ones = np.ones([X.shape[0],1])\n",
    "        theta0 = theta0 - (alpha/len(X))*(np.array([np.sum((ones * (X @ theta.T - Y)), axis = 0)]))\n",
    "        theta1_n = theta1_n - (alpha/len(X))*(np.array([np.sum((X[:, 1:] * (X @ theta.T - Y)), axis = 0)]) + (lmbda * np.where(theta1_n >= 0,1,-1)))\n",
    "\n",
    "        theta[:, 0] = theta0\n",
    "        theta[:, 1:] = theta1_n\n",
    "    return theta"
   ]
  },
  {
   "cell_type": "code",
   "execution_count": 19,
   "metadata": {},
   "outputs": [],
   "source": [
    "cost_train = []\n",
    "cost_validate = []\n",
    "max_lambda = 50\n",
    "for lmbda in range(max_lambda+1):\n",
    "    nIterations = 700\n",
    "    theta = lasso_gradient_descent(X_train, Y_train, nIterations, alpha, lmbda)\n",
    "\n",
    "    cost_train.append(mse(X_train, Y_train, theta)[2])\n",
    "    cost_validate.append(mse(X_validate, Y_validate, theta)[2])"
   ]
  },
  {
   "cell_type": "code",
   "execution_count": 20,
   "metadata": {
    "scrolled": false
   },
   "outputs": [
    {
     "data": {
      "image/png": "[encoded data removed]",
      "text/plain": [
       "<Figure size 864x432 with 1 Axes>"
      ]
     },
     "metadata": {
      "needs_background": "light"
     },
     "output_type": "display_data"
    }
   ],
   "source": [
    "plot(max_lambda, cost_train, cost_validate, \"Lasso Regression\")"
   ]
  },
  {
   "cell_type": "markdown",
   "metadata": {},
   "source": [
    "## Part-2: Ridge Regression (L2 Regularization)"
   ]
  },
  {
   "cell_type": "code",
   "execution_count": 21,
   "metadata": {},
   "outputs": [],
   "source": [
    "def ridge_gradient_descent(X, Y, nIterations, alpha, lmbda):\n",
    "    # Initialize theta as an array of zeros.\n",
    "    theta = np.zeros([1, X.shape[1]])\n",
    "    \n",
    "    for i in range(nIterations):\n",
    "        theta0 = theta[:, 0]\n",
    "        theta1_n = theta[:, 1:]\n",
    "        \n",
    "        ones = np.ones([X.shape[0],1])\n",
    "        theta0 = theta0 - (alpha/len(X))*(np.array([np.sum((ones * (X @ theta.T - Y)), axis = 0)]))\n",
    "        theta1_n = theta1_n*(1 - lmbda*(alpha/len(X))) - (alpha/len(X))*(np.array([np.sum((X[:, 1:] * (X @ theta.T - Y)), axis = 0)]))\n",
    "        \n",
    "        theta[:, 0] = theta0\n",
    "        theta[:, 1:] = theta1_n\n",
    "    return theta"
   ]
  },
  {
   "cell_type": "code",
   "execution_count": 22,
   "metadata": {},
   "outputs": [],
   "source": [
    "cost_train = []\n",
    "cost_validate = []\n",
    "max_lambda = 500\n",
    "for lmbda in range(max_lambda+1):\n",
    "    nIterations = 700\n",
    "    theta = ridge_gradient_descent(X_train, Y_train, nIterations, alpha, lmbda)\n",
    "\n",
    "    cost_train.append(mse(X_train, Y_train, theta)[2])\n",
    "    cost_validate.append(mse(X_validate, Y_validate, theta)[2])"
   ]
  },
  {
   "cell_type": "code",
   "execution_count": 23,
   "metadata": {
    "scrolled": true
   },
   "outputs": [
    {
     "data": {
      "image/png": "[encoded data removed]",
      "text/plain": [
       "<Figure size 864x432 with 1 Axes>"
      ]
     },
     "metadata": {
      "needs_background": "light"
     },
     "output_type": "display_data"
    }
   ],
   "source": [
    "plot(max_lambda, cost_train, cost_validate, \"Ridge Regularization\")"
   ]
  },
  {
   "cell_type": "markdown",
   "metadata": {},
   "source": [
    "#### Observations:\n",
    "For the same lambda, LASSO has higher RSS (poorer fit) as compared to ridge regression."
   ]
  },
  {
   "cell_type": "markdown",
   "metadata": {},
   "source": [
    "## Part-3:<br>Analyse how the hyper-parameter λ plays a role in deciding between bias and variance."
   ]
  },
  {
   "cell_type": "markdown",
   "metadata": {},
   "source": [
    "**1. λ = 0:**\n",
    "   * The objective becomes same as simple linear regression.\n",
    "   * We’ll get the same coefficients as simple linear regression.\n",
    "\n",
    "**2. λ = ∞:**\n",
    "   * The coefficients will be zero. Because of infinite weightage on coefficients, anything less than zero will make the objective infinite.\n",
    "<br>\n",
    "\n",
    "**3. 0 < λ < ∞:**\n",
    "   * The magnitude of λ will decide the weightage given to different parts of objective.\n",
    "   * The coefficients will be somewhere between 0 and ones for simple linear regression.\n",
    "\n",
    "\n",
    "With low values of lambda, the model remains susceptible to high variance depending on the order of the linear regressor.\n",
    "\n",
    "As the value of lambda increases, the model complexity reduces.\n",
    "Thereby, reducing the variance.\n",
    "High lambda values can lead to significant underfitting."
   ]
  },
  {
   "cell_type": "markdown",
   "metadata": {},
   "source": [
    "## Part-4: <br>Analyse how the two different regularisation techniques affect regression weights in terms of their values and what are the differences between the two."
   ]
  },
  {
   "cell_type": "markdown",
   "metadata": {},
   "source": [
    "The key difference is in how they assign penalty to the coefficients:\n",
    "\n",
    "1. **Ridge Regression:**\n",
    "   * Performs L2 regularization, i.e. adds penalty equivalent to **square of the magnitude** of coefficients\n",
    "   * Minimization objective = LS Obj + λ * (sum of square of coefficients)\n",
    "   * It includes all (or none) of the features in the model. Thus, the major advantage of ridge regression is coefficient shrinkage and reducing model complexity.\n",
    "   * It is majorly used to prevent overfitting. Since it includes all the features, it is not very useful in case of exorbitantly high number of features, say in millions, as it will pose computational challenges.\n",
    "   * It generally works well even in presence of highly correlated features as it will include all of them in the model but the coefficients will be distributed among them depending on the correlation.\n",
    "\n",
    "<br>\n",
    "\n",
    "2. **Lasso Regression:**\n",
    "   * Performs L1 regularization, i.e. adds penalty equivalent to **absolute value of the magnitude** of coefficients\n",
    "   * Minimization objective = LS Obj + λ * (sum of absolute value of coefficients)\n",
    "   * Along with shrinking coefficients, lasso performs feature selection as well. Some of the coefficients become exactly zero, which is equivalent to the particular feature being excluded from the model.\n",
    "   * Since it provides sparse solutions, it is generally the model of choice (or some variant of this concept) for modelling cases where the #features are in millions or more. In such a case, getting a sparse solution is of great computational advantage as the features with zero coefficients can simply be ignored.\n",
    "   * It arbitrarily selects any one feature among the highly correlated ones and reduced the coefficients of the rest to zero. Also, the chosen variable changes randomly with change in model parameters. This generally doesn’t work that well as compared to ridge regression.\n",
    "\n",
    "\n",
    "**‘LS Obj’** refers to **‘least squares objective** i.e. the linear regression objective without regularization."
   ]
  },
  {
   "cell_type": "markdown",
   "metadata": {},
   "source": [
    "## Part-5: k-fold cross validation"
   ]
  },
  {
   "cell_type": "code",
   "execution_count": 24,
   "metadata": {},
   "outputs": [],
   "source": [
    "# Assign all the attributes columns as a matrix to kf_X\n",
    "kf_X = normalized_data.iloc[:, :-1]\n",
    "\n",
    "# Concatenate an array of ones to X\n",
    "ones = np.ones([kf_X.shape[0],1])\n",
    "kf_X = np.concatenate((ones, kf_X),axis=1)\n",
    "\n",
    "# Assign the last column to kf_Y.\n",
    "kf_Y = np.array([normalized_data.iloc[:, -1].values]).T    # .T for transpose"
   ]
  },
  {
   "cell_type": "code",
   "execution_count": 25,
   "metadata": {},
   "outputs": [],
   "source": [
    "def k_fold_cross_validation(k, X, Y):\n",
    "    nIterations = 700\n",
    "    lmdba = 400\n",
    "    kf = KFold(n_splits=k)\n",
    "    kf.get_n_splits(X)\n",
    "    KFold(n_splits=k, random_state=None, shuffle=False)\n",
    "    \n",
    "    cost_validate = []\n",
    "    for train_index, validate_index in kf.split(X):\n",
    "        X_train, X_validate = X[train_index], X[validate_index]\n",
    "        Y_train, Y_validate = Y[train_index], Y[validate_index]\n",
    "        theta = ridge_gradient_descent(X_train, Y_train, nIterations, alpha, lmbda)\n",
    "        cost_validate.append(mse(X_validate, Y_validate, theta)[2])\n",
    "        \n",
    "    return np.mean(cost_validate)"
   ]
  },
  {
   "cell_type": "code",
   "execution_count": 26,
   "metadata": {},
   "outputs": [],
   "source": [
    "mean_square_errors = []\n",
    "for k in range(3, 40):\n",
    "    mean_square_errors.append(k_fold_cross_validation(k, kf_X, kf_Y))"
   ]
  },
  {
   "cell_type": "code",
   "execution_count": 27,
   "metadata": {
    "scrolled": true
   },
   "outputs": [
    {
     "data": {
      "image/png": "[encoded data removed]",
      "text/plain": [
       "<Figure size 864x432 with 1 Axes>"
      ]
     },
     "metadata": {
      "needs_background": "light"
     },
     "output_type": "display_data"
    }
   ],
   "source": [
    "fig, ax = plt.subplots(figsize=(12,6))\n",
    "plt.title(\"k-fold cross validation\") \n",
    "ax.plot(range(3, 40), mean_square_errors, color=\"Red\", lw=1, ls='-',label = 'Training Error');\n",
    "plt.xlabel(\"k\")\n",
    "plt.ylabel(\"MSE\")\n",
    "plt.legend()\n",
    "plt.show()"
   ]
  },
  {
   "cell_type": "markdown",
   "metadata": {},
   "source": [
    "## Leave-One-Out Cross Validation"
   ]
  },
  {
   "cell_type": "code",
   "execution_count": 28,
   "metadata": {},
   "outputs": [],
   "source": [
    "loocv_mse = k_fold_cross_validation(len(kf_X), kf_X, kf_Y)"
   ]
  },
  {
   "cell_type": "markdown",
   "metadata": {},
   "source": [
    "## LOOCV MSE"
   ]
  },
  {
   "cell_type": "code",
   "execution_count": 29,
   "metadata": {},
   "outputs": [
    {
     "data": {
      "text/plain": [
       "0.002400843712555457"
      ]
     },
     "execution_count": 29,
     "metadata": {},
     "output_type": "execute_result"
    }
   ],
   "source": [
    "loocv_mse"
   ]
  },
  {
   "cell_type": "code",
   "execution_count": null,
   "metadata": {},
   "outputs": [],
   "source": []
  }
 ],
 "metadata": {
  "kernelspec": {
   "display_name": "Python 3",
   "language": "python",
   "name": "python3"
  },
  "language_info": {
   "codemirror_mode": {
    "name": "ipython",
    "version": 3
   },
   "file_extension": ".py",
   "mimetype": "text/x-python",
   "name": "python",
   "nbconvert_exporter": "python",
   "pygments_lexer": "ipython3",
   "version": "3.7.1"
  }
 },
 "nbformat": 4,
 "nbformat_minor": 2
}
