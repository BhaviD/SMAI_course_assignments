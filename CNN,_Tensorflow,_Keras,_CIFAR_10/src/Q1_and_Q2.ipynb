{
 "cells": [
  {
   "cell_type": "code",
   "execution_count": 1,
   "metadata": {},
   "outputs": [],
   "source": [
    "import numpy as np\n",
    "import matplotlib.pylab as plt\n",
    "import ipdb\n",
    "import math\n",
    "import time\n",
    "\n",
    "%matplotlib inline"
   ]
  },
  {
   "cell_type": "code",
   "execution_count": 2,
   "metadata": {},
   "outputs": [
    {
     "name": "stdout",
     "output_type": "stream",
     "text": [
      "(32, 32, 4)\n"
     ]
    },
    {
     "data": {
      "text/plain": [
       "<matplotlib.image.AxesImage at 0x7fcbcf1af198>"
      ]
     },
     "execution_count": 2,
     "metadata": {},
     "output_type": "execute_result"
    },
    {
     "data": {
      "image/png": "[encoded data removed]",
      "text/plain": [
       "<Figure size 432x288 with 1 Axes>"
      ]
     },
     "metadata": {
      "needs_background": "light"
     },
     "output_type": "display_data"
    }
   ],
   "source": [
    "sample_file = '../input_data/nemo.ico'\n",
    "sample_img = plt.imread(sample_file)\n",
    "print (sample_img.shape)\n",
    "plt.imshow(sample_img)"
   ]
  },
  {
   "cell_type": "code",
   "execution_count": 3,
   "metadata": {},
   "outputs": [],
   "source": [
    "def plot(mat_lst):\n",
    "    total = mat_lst.shape[2]\n",
    "    row = int(math.sqrt(total))\n",
    "    while (total % row != 0):\n",
    "        row += 1\n",
    "    col = int(total / row)\n",
    "\n",
    "    f, ax = plt.subplots(row, col, figsize=(5,5))\n",
    "    for i in range(row):\n",
    "        for j in range(col):\n",
    "            ax[i, j].imshow(mat_lst[:,:, i*col + j])\n",
    "    plt.show()"
   ]
  },
  {
   "cell_type": "code",
   "execution_count": 4,
   "metadata": {},
   "outputs": [],
   "source": [
    "# Activation Functions\n",
    "\n",
    "def tanh(x):\n",
    "    \"\"\"Activation Function: tanh\"\"\"\n",
    "    return np.tanh(x)\n",
    "\n",
    "def sigmoid(num):\n",
    "    \"\"\"Activation Function: sigmoid\"\"\"\n",
    "    x = 1.0 / (1 + np.exp(-num))\n",
    "    return x\n",
    "\n",
    "def ReLU(x):\n",
    "    \"\"\"Activation Function: ReLU\"\"\"\n",
    "    return x * (x > 0)\n",
    "\n",
    "def softmax(x):\n",
    "    e_x = np.exp(x - np.max(x))\n",
    "    sum_den = e_x.sum(axis=0)\n",
    "    return e_x / sum_den"
   ]
  },
  {
   "cell_type": "markdown",
   "metadata": {},
   "source": [
    "# Part 1: Forward pass of LaNet architecture"
   ]
  },
  {
   "cell_type": "code",
   "execution_count": 5,
   "metadata": {},
   "outputs": [],
   "source": [
    "class Network:\n",
    "    def __init__(self):\n",
    "        self.layers = []\n",
    "\n",
    "    # add layer to network\n",
    "    def add(self, layer):\n",
    "        self.layers.append(layer)\n",
    "\n",
    "    # predict output for given input\n",
    "    def forward_pass(self, input_data):\n",
    "        # forward propagation\n",
    "        input = input_data\n",
    "        for layer in self.layers:\n",
    "            output = layer.forward_propagation(input)\n",
    "            \n",
    "            total = output.shape[2]\n",
    "            r = int(math.sqrt(total))\n",
    "            while (total % r != 0):\n",
    "                r += 1\n",
    "            c = int(total / r)\n",
    "            plot(output, r, c)\n",
    "            \n",
    "            input = output"
   ]
  },
  {
   "cell_type": "code",
   "execution_count": 6,
   "metadata": {},
   "outputs": [],
   "source": [
    "# Base class\n",
    "class Layer:\n",
    "    def __init__(self):\n",
    "        self.input = None\n",
    "        self.output = None\n",
    "\n",
    "    # computes the output Y of a layer for a given input X\n",
    "    def forward_propagation(self, input):\n",
    "        raise NotImplementedError"
   ]
  },
  {
   "cell_type": "code",
   "execution_count": 7,
   "metadata": {},
   "outputs": [],
   "source": [
    "# inherit from base class Layer\n",
    "class ConvLayer(Layer):\n",
    "    # input_shape = (i,j,d)\n",
    "    # filter_shape = (m,n)\n",
    "    # layer_depth = output_depth\n",
    "    def __init__(self, input_shape, filter_shape, layer_depth, stride):\n",
    "        self.input_shape = input_shape\n",
    "        self.input_depth = input_shape[2]\n",
    "        self.filter_shape = filter_shape\n",
    "        self.layer_depth = layer_depth          # number of filters\n",
    "        self.stride = stride\n",
    "        self.output_shape = (int((input_shape[0]-filter_shape[0])/stride)+1, int((input_shape[1]-filter_shape[1])/stride)+1, layer_depth)\n",
    "        self.weights = np.random.rand(filter_shape[0], filter_shape[1], self.input_depth, layer_depth) - 0.5\n",
    "        self.bias = np.random.rand(layer_depth) - 0.5\n",
    "        self.n_trainable_parameters = np.prod(np.array(self.weights.shape)) + np.prod(np.array(self.bias.shape))\n",
    "        self.memory_used = np.prod(np.array(self.output_shape)) + self.n_trainable_parameters\n",
    "\n",
    "    # returns output for a given input\n",
    "    def forward_propagation(self, input):\n",
    "        print (\"Convolution Layer:\\n input_shape: {}\\n filter_shape: {}\\n layer_depth: ({})\\n stride: ({})\\n output_shape: {}\\n num_trainable parameters: ({})\\n memory_used: ({})\\n\".\\\n",
    "                format(self.input_shape, self.filter_shape, self.layer_depth, self.stride, self.output_shape, self.n_trainable_parameters, self.memory_used))\n",
    "\n",
    "        self.input = input\n",
    "        self.output = np.zeros(self.output_shape)\n",
    "        \n",
    "        for k in range(self.layer_depth):\n",
    "            for i in range(0, self.output_shape[0], self.stride):\n",
    "                for j in range(0, self.output_shape[1], self.stride):\n",
    "                    self.output[i,j,k] = np.sum(self.weights[:,:,:,k] * self.input[i:i+self.filter_shape[0], j:j+self.filter_shape[1], :]) + self.bias[k]\n",
    "\n",
    "        return self.output"
   ]
  },
  {
   "cell_type": "code",
   "execution_count": 8,
   "metadata": {},
   "outputs": [],
   "source": [
    "# inherit from base class Layer\n",
    "class ActivationLayer(Layer):\n",
    "    def __init__(self, activation):\n",
    "        self.activation = activation\n",
    "        self.n_trainable_parameters = 0\n",
    "        self.memory_used = self.n_trainable_parameters\n",
    "\n",
    "    # returns the activated input\n",
    "    def forward_propagation(self, input):\n",
    "        self.input = input\n",
    "        self.output = self.activation(self.input)\n",
    "        \n",
    "        self.memory_used += np.prod(np.array(self.output.shape))\n",
    "        \n",
    "        print (\"\", self.activation.__doc__, \"\\n num_trainable_parameters: ({})\\n memory_used: ({})\".format(self.n_trainable_parameters, self.memory_used))\n",
    "                \n",
    "        return self.output"
   ]
  },
  {
   "cell_type": "code",
   "execution_count": 9,
   "metadata": {},
   "outputs": [],
   "source": [
    "# inherit from base class Layer\n",
    "class MaxPoolLayer(Layer):\n",
    "    # input_shape = (i,j,d)\n",
    "    # filter_shape = (m,n)\n",
    "    # layer_depth = output_depth\n",
    "    def __init__(self, input_shape, filter_shape, layer_depth, stride):\n",
    "        self.input_shape = input_shape\n",
    "        self.filter_shape = filter_shape\n",
    "        self.layer_depth = layer_depth          # number of filters\n",
    "        self.stride = stride\n",
    "        self.output_shape = (int((input_shape[0]-filter_shape[0])/stride)+1, int((input_shape[1]-filter_shape[1])/stride)+1, layer_depth)\n",
    "        self.n_trainable_parameters = 0\n",
    "        self.memory_used = np.prod(np.array(self.output_shape)) + self.n_trainable_parameters\n",
    "\n",
    "    # returns output for a given input\n",
    "    def forward_propagation(self, input):\n",
    "        print (\"MaxPool Layer:\\n input_shape: {}\\n filter_shape: {}\\n layer_depth: ({})\\n stride: ({})\\n output_shape: {}\\n num_trainable_parameters: ({})\\n memory_used: ({})\".\\\n",
    "                format(self.input_shape, self.filter_shape, self.layer_depth, self.stride, self.output_shape, self.n_trainable_parameters, self.memory_used))\n",
    "\n",
    "        self.input = input\n",
    "        self.output = np.zeros(self.output_shape)\n",
    "\n",
    "        for k in range(self.layer_depth):\n",
    "            for i in range(0, self.input_shape[0], self.stride):\n",
    "                for j in range(0, self.input_shape[1], self.stride):\n",
    "                    ii = int(i/self.stride)\n",
    "                    jj = int(j/self.stride)\n",
    "                    self.output[ii,jj,k] = np.max(self.input[i:i+self.filter_shape[0], j:j+self.filter_shape[1], k])\n",
    "\n",
    "        return self.output"
   ]
  },
  {
   "cell_type": "code",
   "execution_count": 10,
   "metadata": {},
   "outputs": [],
   "source": [
    "# inherit from base class Layer\n",
    "class FCLayer(Layer):\n",
    "    # input_size = number of input neurons\n",
    "    # output_size = number of output neurons\n",
    "    def __init__(self, input_size, output_size):\n",
    "        self.input_size = input_size\n",
    "        self.output_size = output_size\n",
    "        self.weights = np.random.rand(input_size, output_size) - 0.5\n",
    "        self.bias = np.random.rand(1, output_size) - 0.5\n",
    "        self.n_trainable_parameters = np.prod(np.array(self.weights.shape)) + np.prod(np.array(self.bias.shape))\n",
    "        self.memory_used = self.n_trainable_parameters\n",
    "\n",
    "    # returns output for a given input\n",
    "    def forward_propagation(self, input_data):\n",
    "        self.input = input_data\n",
    "        self.output = np.dot(self.input, self.weights) + self.bias\n",
    "        \n",
    "        self.memory_used += np.prod(np.array(self.output.shape))\n",
    "        \n",
    "        print (\"Fully Connected Layer:\\n input_size: {}\\n output_size: {}\\n num_trainable_parameters: ({})\\n memory_used: ({})\\n\".\\\n",
    "                format(self.input_size, self.output_size, self.n_trainable_parameters, self.memory_used))\n",
    "        \n",
    "        return self.output"
   ]
  },
  {
   "cell_type": "code",
   "execution_count": 11,
   "metadata": {},
   "outputs": [],
   "source": [
    "# inherit from base class Layer\n",
    "class GaussianConnection(Layer):\n",
    "    # input_size = number of input neurons\n",
    "    # output_size = number of output neurons\n",
    "    def __init__(self, input_size, output_size):\n",
    "        self.input_size = input_size\n",
    "        self.output_size = output_size\n",
    "        self.weights = np.random.rand(input_size, output_size) - 0.5\n",
    "        self.bias = np.random.rand(1, output_size) - 0.5\n",
    "        self.n_trainable_parameters = np.prod(np.array(self.weights.shape)) + np.prod(np.array(self.bias.shape))\n",
    "        self.memory_used = self.n_trainable_parameters\n",
    "\n",
    "    # returns output for a given input\n",
    "    def forward_propagation(self, input_data):\n",
    "        self.input = input_data\n",
    "        self.output = np.array([np.sum((self.weights - self.input)**2 , axis = 0)]) + self.bias\n",
    "        \n",
    "        self.memory_used += np.prod(np.array(self.output.shape))\n",
    "        \n",
    "        print (\"Gaussian Connection:\\n input_size: {}\\n output_size: {}\\n num_trainable_paramters: ({})\\n memory_used: ({})\\n\".\\\n",
    "                format(self.input_size, self.output_size, self.n_trainable_parameters, self.memory_used))\n",
    "#         output_new =  output.reshape(output.shape[0],1) + self.bias\n",
    "        \n",
    "#         self.input = input_data\n",
    "#         self.output = np.dot(self.input, self.weights) + self.bias\n",
    "        return self.output"
   ]
  },
  {
   "cell_type": "markdown",
   "metadata": {},
   "source": [
    "### Activation Function: ReLU"
   ]
  },
  {
   "cell_type": "code",
   "execution_count": 12,
   "metadata": {},
   "outputs": [
    {
     "name": "stdout",
     "output_type": "stream",
     "text": [
      "C1\n",
      "Convolution Layer:\n",
      " input_shape: (32, 32, 4)\n",
      " filter_shape: (5, 5)\n",
      " layer_depth: (6)\n",
      " stride: (1)\n",
      " output_shape: (28, 28, 6)\n",
      " num_trainable parameters: (606)\n",
      " memory_used: (5310)\n",
      "\n",
      " Activation Function: ReLU \n",
      " num_trainable_parameters: (0)\n",
      " memory_used: (4704)\n"
     ]
    },
    {
     "data": {
      "image/png": "[encoded data removed]",
      "text/plain": [
       "<Figure size 360x360 with 6 Axes>"
      ]
     },
     "metadata": {
      "needs_background": "light"
     },
     "output_type": "display_data"
    },
    {
     "name": "stdout",
     "output_type": "stream",
     "text": [
      "S2\n",
      "MaxPool Layer:\n",
      " input_shape: (28, 28, 6)\n",
      " filter_shape: (2, 2)\n",
      " layer_depth: (6)\n",
      " stride: (2)\n",
      " output_shape: (14, 14, 6)\n",
      " num_trainable_parameters: (0)\n",
      " memory_used: (1176)\n"
     ]
    },
    {
     "data": {
      "image/png": "[encoded data removed]",
      "text/plain": [
       "<Figure size 360x360 with 6 Axes>"
      ]
     },
     "metadata": {
      "needs_background": "light"
     },
     "output_type": "display_data"
    },
    {
     "name": "stdout",
     "output_type": "stream",
     "text": [
      "C3\n",
      "Convolution Layer:\n",
      " input_shape: (14, 14, 6)\n",
      " filter_shape: (5, 5)\n",
      " layer_depth: (16)\n",
      " stride: (1)\n",
      " output_shape: (10, 10, 16)\n",
      " num_trainable parameters: (2416)\n",
      " memory_used: (4016)\n",
      "\n",
      " Activation Function: ReLU \n",
      " num_trainable_parameters: (0)\n",
      " memory_used: (1600)\n"
     ]
    },
    {
     "data": {
      "image/png": "[encoded data removed]",
      "text/plain": [
       "<Figure size 360x360 with 16 Axes>"
      ]
     },
     "metadata": {
      "needs_background": "light"
     },
     "output_type": "display_data"
    },
    {
     "name": "stdout",
     "output_type": "stream",
     "text": [
      "S4\n",
      "MaxPool Layer:\n",
      " input_shape: (10, 10, 16)\n",
      " filter_shape: (2, 2)\n",
      " layer_depth: (16)\n",
      " stride: (2)\n",
      " output_shape: (5, 5, 16)\n",
      " num_trainable_parameters: (0)\n",
      " memory_used: (400)\n"
     ]
    },
    {
     "data": {
      "image/png": "[encoded data removed]",
      "text/plain": [
       "<Figure size 360x360 with 16 Axes>"
      ]
     },
     "metadata": {
      "needs_background": "light"
     },
     "output_type": "display_data"
    },
    {
     "name": "stdout",
     "output_type": "stream",
     "text": [
      "C5\n",
      "Convolution Layer:\n",
      " input_shape: (5, 5, 16)\n",
      " filter_shape: (5, 5)\n",
      " layer_depth: (120)\n",
      " stride: (1)\n",
      " output_shape: (1, 1, 120)\n",
      " num_trainable parameters: (48120)\n",
      " memory_used: (48240)\n",
      "\n",
      "F6\n",
      "Fully Connected Layer:\n",
      " input_size: 120\n",
      " output_size: 84\n",
      " num_trainable_parameters: (10164)\n",
      " memory_used: (10248)\n",
      "\n",
      "Gaussian Connection:\n",
      " input_size: 84\n",
      " output_size: 10\n",
      " num_trainable_paramters: (850)\n",
      " memory_used: (860)\n",
      "\n",
      "Output of Softmax function:\n",
      "[[0.]\n",
      " [0.]\n",
      " [0.]\n",
      " [0.]\n",
      " [0.]\n",
      " [0.]\n",
      " [1.]\n",
      " [0.]\n",
      " [0.]\n",
      " [0.]]\n",
      "\n",
      "Memory used by Initial Convolutional Layers: 9326 units\n",
      "Memory used by Fully Connected Layers: 58488 units\n"
     ]
    }
   ],
   "source": [
    "print (\"C1\")\n",
    "C1 = ConvLayer(sample_img.shape, (5,5), 6, 1)\n",
    "C1.forward_propagation(sample_img)\n",
    "# C1 = ConvLayer(sample_img.shape, (5,5), 6, 1).forward_propagation(sample_img)\n",
    "# plot(C1)\n",
    "\n",
    "C1_act = ActivationLayer(ReLU)\n",
    "C1_act.forward_propagation(C1.output)\n",
    "plot(C1_act.output)\n",
    "\n",
    "print (\"S2\")\n",
    "S2 = MaxPoolLayer(C1_act.output.shape, (2,2), 6, 2)\n",
    "S2.forward_propagation(C1_act.output)\n",
    "plot(S2.output)\n",
    "\n",
    "print (\"C3\")\n",
    "C3 = ConvLayer(S2.output.shape, (5,5), 16, 1)\n",
    "C3.forward_propagation(S2.output)\n",
    "# plot(C2)\n",
    "C3_act = ActivationLayer(ReLU)\n",
    "C3_act.forward_propagation(C3.output)\n",
    "plot(C3_act.output)\n",
    "\n",
    "print (\"S4\")\n",
    "S4 = MaxPoolLayer(C3_act.output.shape, (2,2), 16, 2)\n",
    "S4.forward_propagation(C3_act.output)\n",
    "plot(S4.output)\n",
    "\n",
    "print (\"C5\")\n",
    "C5 = ConvLayer(S4.output.shape, (5,5), 120, 1)\n",
    "C5.forward_propagation(S4.output)\n",
    "# print (conv3_output.shape)\n",
    "# plot(conv3_output)\n",
    "\n",
    "print (\"F6\")\n",
    "F6 = FCLayer(120, 84)\n",
    "F6.forward_propagation(C5.output[0])\n",
    "\n",
    "GC = GaussianConnection(84, 10)\n",
    "GC.forward_propagation(F6.output.T)\n",
    "OUTPUT = softmax(GC.output.T)\n",
    "print (\"Output of Softmax function:\")\n",
    "print (OUTPUT)\n",
    "\n",
    "conv_layers_memory = C1.memory_used + C3.memory_used\n",
    "fc_layers_memory = C5.memory_used + F6.memory_used\n",
    "print(\"\\nMemory used by Initial Convolutional Layers:\", conv_layers_memory, \"units\")\n",
    "print(\"Memory used by Fully Connected Layers:\", fc_layers_memory, \"units\")"
   ]
  },
  {
   "cell_type": "code",
   "execution_count": null,
   "metadata": {},
   "outputs": [],
   "source": []
  },
  {
   "cell_type": "markdown",
   "metadata": {},
   "source": [
    "# Part-2"
   ]
  },
  {
   "cell_type": "markdown",
   "metadata": {},
   "source": [
    "### 1. What are the number of parameters in 1st convolutional layers ?"
   ]
  },
  {
   "cell_type": "markdown",
   "metadata": {},
   "source": [
    "= Weight + Bias <br>\n",
    "= (filter_rows * filter_cols * input_depth + bias) * No. of filters <br>\n",
    "= (5 * 5 * 4 + 1) * 6 <br>\n",
    "= (100 + 1) * 6 <br>\n",
    "= 606"
   ]
  },
  {
   "cell_type": "markdown",
   "metadata": {},
   "source": [
    "### 2. What are the number of parameters in pooling operation?"
   ]
  },
  {
   "cell_type": "markdown",
   "metadata": {},
   "source": [
    "There are no trainable parameters in pooling operation"
   ]
  },
  {
   "cell_type": "markdown",
   "metadata": {},
   "source": [
    "### 3. Which of the following operations contain most number of parameters?\n",
    "(a) conv (b) pool (c) Fully Connected layer (FC) (d) Activation Functions"
   ]
  },
  {
   "cell_type": "markdown",
   "metadata": {},
   "source": [
    "C1 - 606 parameters. <br>\n",
    "S2 - 0 parameters. <br>\n",
    "C3 - 2416 parameters. <br>\n",
    "S4 - 0 parameters. <br>\n",
    "C5 - 48120 parameters. <br>\n",
    "F6 - 10164 parameters <br>\n",
    "Gaussian connection - 850 parameters <br>\n",
    "Activation Functions - 0 parameters. <br><br>\n",
    "Thus , the fully connected layer \"C5\" contains the most number of parameters. <br>"
   ]
  },
  {
   "cell_type": "markdown",
   "metadata": {},
   "source": [
    "### 4. Which operation consume most amount of memory?\n",
    "(a) initial convolution layers (b) fully connected layers at the end"
   ]
  },
  {
   "cell_type": "markdown",
   "metadata": {},
   "source": [
    "As shown above, <br>\n",
    "Memory used by initial convolution layers = 9326 units <br>\n",
    "Memory used by fully connected layers = 58488 unit <br><br>\n",
    "Hence, (b) fully connected layers at the end, consumes the most amount of memory."
   ]
  },
  {
   "cell_type": "markdown",
   "metadata": {},
   "source": [
    "### 5. Try different activation functions and describe observations."
   ]
  },
  {
   "cell_type": "markdown",
   "metadata": {},
   "source": [
    "**Note:** Activation Function \"ReLU\" is used above. <br>"
   ]
  },
  {
   "cell_type": "markdown",
   "metadata": {},
   "source": [
    "#### Activation Function: tanh"
   ]
  },
  {
   "cell_type": "code",
   "execution_count": 13,
   "metadata": {},
   "outputs": [
    {
     "name": "stdout",
     "output_type": "stream",
     "text": [
      "C1\n",
      "Convolution Layer:\n",
      " input_shape: (32, 32, 4)\n",
      " filter_shape: (5, 5)\n",
      " layer_depth: (6)\n",
      " stride: (1)\n",
      " output_shape: (28, 28, 6)\n",
      " num_trainable parameters: (606)\n",
      " memory_used: (5310)\n",
      "\n",
      " Activation Function: tanh \n",
      " num_trainable_parameters: (0)\n",
      " memory_used: (4704)\n"
     ]
    },
    {
     "data": {
      "image/png": "[encoded data removed]",
      "text/plain": [
       "<Figure size 360x360 with 6 Axes>"
      ]
     },
     "metadata": {
      "needs_background": "light"
     },
     "output_type": "display_data"
    },
    {
     "name": "stdout",
     "output_type": "stream",
     "text": [
      "S2\n",
      "MaxPool Layer:\n",
      " input_shape: (28, 28, 6)\n",
      " filter_shape: (2, 2)\n",
      " layer_depth: (6)\n",
      " stride: (2)\n",
      " output_shape: (14, 14, 6)\n",
      " num_trainable_parameters: (0)\n",
      " memory_used: (1176)\n"
     ]
    },
    {
     "data": {
      "image/png": "[encoded data removed]",
      "text/plain": [
       "<Figure size 360x360 with 6 Axes>"
      ]
     },
     "metadata": {
      "needs_background": "light"
     },
     "output_type": "display_data"
    },
    {
     "name": "stdout",
     "output_type": "stream",
     "text": [
      "C3\n",
      "Convolution Layer:\n",
      " input_shape: (14, 14, 6)\n",
      " filter_shape: (5, 5)\n",
      " layer_depth: (16)\n",
      " stride: (1)\n",
      " output_shape: (10, 10, 16)\n",
      " num_trainable parameters: (2416)\n",
      " memory_used: (4016)\n",
      "\n",
      " Activation Function: tanh \n",
      " num_trainable_parameters: (0)\n",
      " memory_used: (1600)\n"
     ]
    },
    {
     "data": {
      "image/png": "[encoded data removed]",
      "text/plain": [
       "<Figure size 360x360 with 16 Axes>"
      ]
     },
     "metadata": {
      "needs_background": "light"
     },
     "output_type": "display_data"
    },
    {
     "name": "stdout",
     "output_type": "stream",
     "text": [
      "S4\n",
      "MaxPool Layer:\n",
      " input_shape: (10, 10, 16)\n",
      " filter_shape: (2, 2)\n",
      " layer_depth: (16)\n",
      " stride: (2)\n",
      " output_shape: (5, 5, 16)\n",
      " num_trainable_parameters: (0)\n",
      " memory_used: (400)\n"
     ]
    },
    {
     "data": {
      "image/png": "[encoded data removed]",
      "text/plain": [
       "<Figure size 360x360 with 16 Axes>"
      ]
     },
     "metadata": {
      "needs_background": "light"
     },
     "output_type": "display_data"
    },
    {
     "name": "stdout",
     "output_type": "stream",
     "text": [
      "C5\n",
      "Convolution Layer:\n",
      " input_shape: (5, 5, 16)\n",
      " filter_shape: (5, 5)\n",
      " layer_depth: (120)\n",
      " stride: (1)\n",
      " output_shape: (1, 1, 120)\n",
      " num_trainable parameters: (48120)\n",
      " memory_used: (48240)\n",
      "\n",
      "F6\n",
      "Fully Connected Layer:\n",
      " input_size: 120\n",
      " output_size: 84\n",
      " num_trainable_parameters: (10164)\n",
      " memory_used: (10248)\n",
      "\n",
      "Gaussian Connection:\n",
      " input_size: 84\n",
      " output_size: 10\n",
      " num_trainable_paramters: (850)\n",
      " memory_used: (860)\n",
      "\n",
      "Output of Softmax function:\n",
      "[[4.87950977e-046]\n",
      " [2.43548901e-079]\n",
      " [2.16213304e-013]\n",
      " [3.81819024e-104]\n",
      " [3.84794062e-053]\n",
      " [2.63864542e-089]\n",
      " [1.00000000e+000]\n",
      " [2.91181305e-052]\n",
      " [1.73774584e-060]\n",
      " [9.20202640e-037]]\n",
      "\n",
      "Memory used by Initial Convolutional Layers: 9326 units\n",
      "Memory used by Fully Connected Layers: 58488 units\n"
     ]
    }
   ],
   "source": [
    "print (\"C1\")\n",
    "C1 = ConvLayer(sample_img.shape, (5,5), 6, 1)\n",
    "C1.forward_propagation(sample_img)\n",
    "# C1 = ConvLayer(sample_img.shape, (5,5), 6, 1).forward_propagation(sample_img)\n",
    "# plot(C1)\n",
    "\n",
    "C1_act = ActivationLayer(tanh)\n",
    "C1_act.forward_propagation(C1.output)\n",
    "plot(C1_act.output)\n",
    "\n",
    "print (\"S2\")\n",
    "S2 = MaxPoolLayer(C1_act.output.shape, (2,2), 6, 2)\n",
    "S2.forward_propagation(C1_act.output)\n",
    "plot(S2.output)\n",
    "\n",
    "print (\"C3\")\n",
    "C3 = ConvLayer(S2.output.shape, (5,5), 16, 1)\n",
    "C3.forward_propagation(S2.output)\n",
    "# plot(C2)\n",
    "C3_act = ActivationLayer(tanh)\n",
    "C3_act.forward_propagation(C3.output)\n",
    "plot(C3_act.output)\n",
    "\n",
    "print (\"S4\")\n",
    "S4 = MaxPoolLayer(C3_act.output.shape, (2,2), 16, 2)\n",
    "S4.forward_propagation(C3_act.output)\n",
    "plot(S4.output)\n",
    "\n",
    "print (\"C5\")\n",
    "C5 = ConvLayer(S4.output.shape, (5,5), 120, 1)\n",
    "C5.forward_propagation(S4.output)\n",
    "# print (conv3_output.shape)\n",
    "# plot(conv3_output)\n",
    "\n",
    "print (\"F6\")\n",
    "F6 = FCLayer(120, 84)\n",
    "F6.forward_propagation(C5.output[0])\n",
    "\n",
    "GC = GaussianConnection(84, 10)\n",
    "GC.forward_propagation(F6.output.T)\n",
    "OUTPUT = softmax(GC.output.T)\n",
    "print (\"Output of Softmax function:\")\n",
    "print (OUTPUT)\n",
    "\n",
    "conv_layers_memory = C1.memory_used + C3.memory_used\n",
    "fc_layers_memory = C5.memory_used + F6.memory_used\n",
    "print(\"\\nMemory used by Initial Convolutional Layers:\", conv_layers_memory, \"units\")\n",
    "print(\"Memory used by Fully Connected Layers:\", fc_layers_memory, \"units\")"
   ]
  },
  {
   "cell_type": "markdown",
   "metadata": {},
   "source": [
    "#### Activation Function: sigmoid"
   ]
  },
  {
   "cell_type": "code",
   "execution_count": 164,
   "metadata": {},
   "outputs": [
    {
     "name": "stdout",
     "output_type": "stream",
     "text": [
      "C1\n",
      "Convolution Layer:\n",
      " input_shape: (32, 32, 4)\n",
      " filter_shape: (5, 5)\n",
      " layer_depth: (6)\n",
      " stride: (1)\n",
      " output_shape: (28, 28, 6)\n",
      " num_trainable parameters: (606)\n",
      " memory_used: (5310)\n",
      "\n",
      " Activation Function: sigmoid \n",
      " num_trainable_parameters: (0)\n",
      " memory_used: (4704)\n"
     ]
    },
    {
     "data": {
      "image/png": "[encoded data removed]",
      "text/plain": [
       "<Figure size 360x360 with 6 Axes>"
      ]
     },
     "metadata": {
      "needs_background": "light"
     },
     "output_type": "display_data"
    },
    {
     "name": "stdout",
     "output_type": "stream",
     "text": [
      "S2\n",
      "MaxPool Layer:\n",
      " input_shape: (28, 28, 6)\n",
      " filter_shape: (2, 2)\n",
      " layer_depth: (6)\n",
      " stride: (2)\n",
      " output_shape: (14, 14, 6)\n",
      " num_trainable_parameters: (0)\n",
      " memory_used: (1176)\n"
     ]
    },
    {
     "data": {
      "image/png": "[encoded data removed]",
      "text/plain": [
       "<Figure size 360x360 with 6 Axes>"
      ]
     },
     "metadata": {
      "needs_background": "light"
     },
     "output_type": "display_data"
    },
    {
     "name": "stdout",
     "output_type": "stream",
     "text": [
      "C3\n",
      "Convolution Layer:\n",
      " input_shape: (14, 14, 6)\n",
      " filter_shape: (5, 5)\n",
      " layer_depth: (16)\n",
      " stride: (1)\n",
      " output_shape: (10, 10, 16)\n",
      " num_trainable parameters: (2416)\n",
      " memory_used: (4016)\n",
      "\n",
      " Activation Function: sigmoid \n",
      " num_trainable_parameters: (0)\n",
      " memory_used: (1600)\n"
     ]
    },
    {
     "data": {
      "image/png": "[encoded data removed]",
      "text/plain": [
       "<Figure size 360x360 with 16 Axes>"
      ]
     },
     "metadata": {
      "needs_background": "light"
     },
     "output_type": "display_data"
    },
    {
     "name": "stdout",
     "output_type": "stream",
     "text": [
      "S4\n",
      "MaxPool Layer:\n",
      " input_shape: (10, 10, 16)\n",
      " filter_shape: (2, 2)\n",
      " layer_depth: (16)\n",
      " stride: (2)\n",
      " output_shape: (5, 5, 16)\n",
      " num_trainable_parameters: (0)\n",
      " memory_used: (400)\n"
     ]
    },
    {
     "data": {
      "image/png": "[encoded data removed]",
      "text/plain": [
       "<Figure size 360x360 with 16 Axes>"
      ]
     },
     "metadata": {
      "needs_background": "light"
     },
     "output_type": "display_data"
    },
    {
     "name": "stdout",
     "output_type": "stream",
     "text": [
      "C5\n",
      "Convolution Layer:\n",
      " input_shape: (5, 5, 16)\n",
      " filter_shape: (5, 5)\n",
      " layer_depth: (120)\n",
      " stride: (1)\n",
      " output_shape: (1, 1, 120)\n",
      " num_trainable parameters: (48120)\n",
      " memory_used: (48240)\n",
      "\n",
      "F6\n",
      "Fully Connected Layer:\n",
      " input_size: 120\n",
      " output_size: 84\n",
      " num_trainable_parameters: (10164)\n",
      " memory_used: (10248)\n",
      "\n",
      "Gaussian Connection:\n",
      " input_size: 84\n",
      " output_size: 10\n",
      " num_trainable_paramters: (850)\n",
      " memory_used: (860)\n",
      "\n",
      "Output of Softmax function:\n",
      "[[4.68040606e-27]\n",
      " [5.02127927e-76]\n",
      " [1.04409802e-31]\n",
      " [2.06798285e-09]\n",
      " [9.99999998e-01]\n",
      " [3.06523030e-33]\n",
      " [4.74256160e-78]\n",
      " [2.82529351e-22]\n",
      " [8.77674746e-55]\n",
      " [1.40169212e-44]]\n",
      "\n",
      "Memory used by Initial Convolutional Layers: 9326 units\n",
      "Memory used by Fully Connected Layers: 58488 units\n"
     ]
    }
   ],
   "source": [
    "print (\"C1\")\n",
    "C1 = ConvLayer(sample_img.shape, (5,5), 6, 1)\n",
    "C1.forward_propagation(sample_img)\n",
    "# C1 = ConvLayer(sample_img.shape, (5,5), 6, 1).forward_propagation(sample_img)\n",
    "# plot(C1)\n",
    "\n",
    "C1_act = ActivationLayer(sigmoid)\n",
    "C1_act.forward_propagation(C1.output)\n",
    "plot(C1_act.output)\n",
    "\n",
    "print (\"S2\")\n",
    "S2 = MaxPoolLayer(C1_act.output.shape, (2,2), 6, 2)\n",
    "S2.forward_propagation(C1_act.output)\n",
    "plot(S2.output)\n",
    "\n",
    "print (\"C3\")\n",
    "C3 = ConvLayer(S2.output.shape, (5,5), 16, 1)\n",
    "C3.forward_propagation(S2.output)\n",
    "# plot(C2)\n",
    "C3_act = ActivationLayer(sigmoid)\n",
    "C3_act.forward_propagation(C3.output)\n",
    "plot(C3_act.output)\n",
    "\n",
    "print (\"S4\")\n",
    "S4 = MaxPoolLayer(C3_act.output.shape, (2,2), 16, 2)\n",
    "S4.forward_propagation(C3_act.output)\n",
    "plot(S4.output)\n",
    "\n",
    "print (\"C5\")\n",
    "C5 = ConvLayer(S4.output.shape, (5,5), 120, 1)\n",
    "C5.forward_propagation(S4.output)\n",
    "# print (conv3_output.shape)\n",
    "# plot(conv3_output)\n",
    "\n",
    "print (\"F6\")\n",
    "F6 = FCLayer(120, 84)\n",
    "F6.forward_propagation(C5.output[0])\n",
    "\n",
    "GC = GaussianConnection(84, 10)\n",
    "GC.forward_propagation(F6.output.T)\n",
    "OUTPUT = softmax(GC.output.T)\n",
    "print (\"Output of Softmax function:\")\n",
    "print (OUTPUT)\n",
    "\n",
    "conv_layers_memory = C1.memory_used + C3.memory_used\n",
    "fc_layers_memory = C5.memory_used + F6.memory_used\n",
    "print(\"\\nMemory used by Initial Convolutional Layers:\", conv_layers_memory, \"units\")\n",
    "print(\"Memory used by Fully Connected Layers:\", fc_layers_memory, \"units\")"
   ]
  },
  {
   "cell_type": "code",
   "execution_count": null,
   "metadata": {},
   "outputs": [],
   "source": []
  }
 ],
 "metadata": {
  "kernelspec": {
   "display_name": "Python 3",
   "language": "python",
   "name": "python3"
  },
  "language_info": {
   "codemirror_mode": {
    "name": "ipython",
    "version": 3
   },
   "file_extension": ".py",
   "mimetype": "text/x-python",
   "name": "python",
   "nbconvert_exporter": "python",
   "pygments_lexer": "ipython3",
   "version": "3.7.1"
  }
 },
 "nbformat": 4,
 "nbformat_minor": 2
}
